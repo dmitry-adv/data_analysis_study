{
 "cells": [
  {
   "cell_type": "code",
   "execution_count": 1,
   "id": "48fbe6d2",
   "metadata": {},
   "outputs": [],
   "source": [
    "from datetime import datetime, date, time"
   ]
  },
  {
   "cell_type": "code",
   "execution_count": 2,
   "id": "6e9008e7",
   "metadata": {},
   "outputs": [],
   "source": [
    "dt = datetime(2022, 7, 4, 16, 54, 46)"
   ]
  },
  {
   "cell_type": "code",
   "execution_count": 3,
   "id": "dad50b0b",
   "metadata": {},
   "outputs": [
    {
     "data": {
      "text/plain": [
       "(2022, 4, 16)"
      ]
     },
     "execution_count": 3,
     "metadata": {},
     "output_type": "execute_result"
    }
   ],
   "source": [
    "dt.year, dt.day, dt.hour"
   ]
  },
  {
   "cell_type": "code",
   "execution_count": 4,
   "id": "c9aa1ad4",
   "metadata": {},
   "outputs": [
    {
     "data": {
      "text/plain": [
       "datetime.date(2022, 7, 4)"
      ]
     },
     "execution_count": 4,
     "metadata": {},
     "output_type": "execute_result"
    }
   ],
   "source": [
    "dt.date()"
   ]
  },
  {
   "cell_type": "code",
   "execution_count": 5,
   "id": "fac74b05",
   "metadata": {},
   "outputs": [
    {
     "data": {
      "text/plain": [
       "datetime.time(16, 54, 46)"
      ]
     },
     "execution_count": 5,
     "metadata": {},
     "output_type": "execute_result"
    }
   ],
   "source": [
    "dt.time()"
   ]
  },
  {
   "cell_type": "code",
   "execution_count": 6,
   "id": "9cfe611b",
   "metadata": {},
   "outputs": [
    {
     "data": {
      "text/plain": [
       "'04_07_2022 - 16:54'"
      ]
     },
     "execution_count": 6,
     "metadata": {},
     "output_type": "execute_result"
    }
   ],
   "source": [
    "dt.strftime('%d_%m_%Y - %H:%M')"
   ]
  },
  {
   "cell_type": "markdown",
   "id": "a97566df-b7f2-4531-8981-fcb985557854",
   "metadata": {},
   "source": [
    "*Разбор текстовой строки в формат **datetime**:*"
   ]
  },
  {
   "cell_type": "code",
   "execution_count": 7,
   "id": "b8e0f9dd",
   "metadata": {},
   "outputs": [
    {
     "data": {
      "text/plain": [
       "datetime.datetime(2022, 7, 4, 0, 0)"
      ]
     },
     "execution_count": 7,
     "metadata": {},
     "output_type": "execute_result"
    }
   ],
   "source": [
    "datetime.strptime('20220704', '%Y%m%d')"
   ]
  },
  {
   "cell_type": "markdown",
   "id": "5f44938e",
   "metadata": {},
   "source": [
    "_Замена некоторых компонентов даты:_"
   ]
  },
  {
   "cell_type": "code",
   "execution_count": 9,
   "id": "339cc717",
   "metadata": {},
   "outputs": [
    {
     "data": {
      "text/plain": [
       "datetime.datetime(2022, 7, 4, 16, 0)"
      ]
     },
     "execution_count": 9,
     "metadata": {},
     "output_type": "execute_result"
    }
   ],
   "source": [
    "dt.replace(minute=0, second=0)"
   ]
  },
  {
   "cell_type": "markdown",
   "id": "915dc7ea",
   "metadata": {},
   "source": [
    "_Вычисление разницы между датами:_"
   ]
  },
  {
   "cell_type": "code",
   "execution_count": 10,
   "id": "6e4a0a6a",
   "metadata": {},
   "outputs": [],
   "source": [
    "dt1 = datetime(1977, 5, 28)"
   ]
  },
  {
   "cell_type": "code",
   "execution_count": 11,
   "id": "a3ff8a93",
   "metadata": {},
   "outputs": [],
   "source": [
    "delta = dt - dt1"
   ]
  },
  {
   "cell_type": "code",
   "execution_count": 12,
   "id": "bbaaa334",
   "metadata": {},
   "outputs": [
    {
     "data": {
      "text/plain": [
       "datetime.timedelta(days=16473, seconds=60886)"
      ]
     },
     "execution_count": 12,
     "metadata": {},
     "output_type": "execute_result"
    }
   ],
   "source": [
    "delta"
   ]
  },
  {
   "cell_type": "code",
   "execution_count": 15,
   "id": "555ea6af",
   "metadata": {},
   "outputs": [
    {
     "data": {
      "text/plain": [
       "datetime.timedelta"
      ]
     },
     "execution_count": 15,
     "metadata": {},
     "output_type": "execute_result"
    }
   ],
   "source": [
    "type(delta)"
   ]
  },
  {
   "cell_type": "markdown",
   "id": "f4298719",
   "metadata": {},
   "source": [
    "_вычисление суммы времен:_"
   ]
  },
  {
   "cell_type": "code",
   "execution_count": 16,
   "id": "ee905403",
   "metadata": {},
   "outputs": [
    {
     "data": {
      "text/plain": [
       "datetime.datetime(2067, 8, 11, 9, 49, 32)"
      ]
     },
     "execution_count": 16,
     "metadata": {},
     "output_type": "execute_result"
    }
   ],
   "source": [
    "dt + delta"
   ]
  },
  {
   "cell_type": "markdown",
   "id": "fbd54416",
   "metadata": {},
   "source": [
    "_работа с **timestamp**:_"
   ]
  },
  {
   "cell_type": "code",
   "execution_count": 20,
   "id": "4fc6ce70",
   "metadata": {},
   "outputs": [],
   "source": [
    "ts = dt.timestamp()"
   ]
  },
  {
   "cell_type": "code",
   "execution_count": 21,
   "id": "57afb3d7",
   "metadata": {},
   "outputs": [
    {
     "data": {
      "text/plain": [
       "1656942886.0"
      ]
     },
     "execution_count": 21,
     "metadata": {},
     "output_type": "execute_result"
    }
   ],
   "source": [
    "ts"
   ]
  },
  {
   "cell_type": "code",
   "execution_count": 23,
   "id": "8d14a244",
   "metadata": {},
   "outputs": [
    {
     "data": {
      "text/plain": [
       "datetime.datetime(2022, 7, 4, 16, 54, 46)"
      ]
     },
     "execution_count": 23,
     "metadata": {},
     "output_type": "execute_result"
    }
   ],
   "source": [
    "datetime.fromtimestamp(ts)"
   ]
  },
  {
   "cell_type": "code",
   "execution_count": 25,
   "id": "adedeeb3",
   "metadata": {},
   "outputs": [
    {
     "data": {
      "text/plain": [
       "'04-07-2022'"
      ]
     },
     "execution_count": 25,
     "metadata": {},
     "output_type": "execute_result"
    }
   ],
   "source": [
    "datetime.fromtimestamp(ts).strftime('%d-%m-%Y')"
   ]
  }
 ],
 "metadata": {
  "kernelspec": {
   "display_name": "Python 3 (ipykernel)",
   "language": "python",
   "name": "python3"
  },
  "language_info": {
   "codemirror_mode": {
    "name": "ipython",
    "version": 3
   },
   "file_extension": ".py",
   "mimetype": "text/x-python",
   "name": "python",
   "nbconvert_exporter": "python",
   "pygments_lexer": "ipython3",
   "version": "3.8.10"
  }
 },
 "nbformat": 4,
 "nbformat_minor": 5
}
