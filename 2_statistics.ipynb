{
  "nbformat": 4,
  "nbformat_minor": 0,
  "metadata": {
    "colab": {
      "provenance": [],
      "collapsed_sections": []
    },
    "kernelspec": {
      "name": "python3",
      "display_name": "Python 3"
    },
    "language_info": {
      "name": "python"
    }
  },
  "cells": [
    {
      "cell_type": "code",
      "source": [
        "import json\n",
        "import pandas as pd\n",
        "import matplotlib.pyplot as plt\n",
        "import seaborn as sns\n",
        "import scipy\n",
        "import scipy.stats as stats\n",
        "import warnings\n",
        "warnings.simplefilter(action='ignore', category=FutureWarning)\n",
        "%matplotlib inline\n",
        "plt.style.use('seaborn-deep')\n",
        "# pd.set_option('display.max_colwidth', None)  # отображать весь текст в ячейках"
      ],
      "metadata": {
        "id": "UpB132-4D0Go"
      },
      "execution_count": null,
      "outputs": []
    },
    {
      "cell_type": "code",
      "execution_count": null,
      "metadata": {
        "colab": {
          "base_uri": "https://localhost:8080/"
        },
        "id": "IKbwZTdQDgKz",
        "outputId": "9a3bd6df-7319-41f2-fadf-83abe03fbfb4"
      },
      "outputs": [
        {
          "output_type": "stream",
          "name": "stdout",
          "text": [
            "Downloading...\n",
            "From: https://drive.google.com/uc?id=1XhUtIB75xky2MSCJVPCt6eNtsSQCKEU0\n",
            "To: /content/eda.xlsx\n",
            "100% 3.28M/3.28M [00:00<00:00, 139MB/s]\n",
            "Downloading...\n",
            "From: https://drive.google.com/uc?id=10MH8q4lZ1RVCgLGDwG_ijO_jzSLVefC0\n",
            "To: /content/stat_topSkill_meanSalary.xlsx\n",
            "100% 11.8k/11.8k [00:00<00:00, 12.2MB/s]\n",
            "Downloading...\n",
            "From: https://drive.google.com/uc?id=1XLMj0Km6yQU9hcQ3EplFgDqJq9J8m0Ww\n",
            "To: /content/stat_top100_salary_by_skill.xlsx\n",
            "100% 11.0k/11.0k [00:00<00:00, 10.0MB/s]\n"
          ]
        }
      ],
      "source": [
        "! gdown 1XhUtIB75xky2MSCJVPCt6eNtsSQCKEU0  # eda\n",
        "! gdown 10MH8q4lZ1RVCgLGDwG_ijO_jzSLVefC0  # 25 самых частых навыков со средней зарплатой\n",
        "! gdown 1XLMj0Km6yQU9hcQ3EplFgDqJq9J8m0Ww  # самые \"дорогоие\" навыки из вакансий"
      ]
    },
    {
      "cell_type": "code",
      "source": [
        "df = pd.read_excel('/content/eda.xlsx')\n",
        "df25 = pd.read_excel('/content/stat_topSkill_meanSalary.xlsx')\n",
        "df100 = pd.read_excel('/content/stat_top100_salary_by_skill.xlsx')"
      ],
      "metadata": {
        "id": "vQV8BvYEDpf8"
      },
      "execution_count": null,
      "outputs": []
    },
    {
      "cell_type": "code",
      "source": [
        "df.rename(columns={'key_skills_edited': 'key_skills'}, inplace=True)  # косметическое переименование столбца\n",
        "df100.rename(columns={'key_skills_edited': 'top_skill'}, inplace=True)  # косметическое переименование столбца"
      ],
      "metadata": {
        "id": "1tGWGHZsIQc8"
      },
      "execution_count": null,
      "outputs": []
    },
    {
      "cell_type": "markdown",
      "source": [
        "__________________________"
      ],
      "metadata": {
        "id": "1w6MtUe8Vl2Y"
      }
    },
    {
      "cell_type": "markdown",
      "source": [
        "# 1. Структурирование данных"
      ],
      "metadata": {
        "id": "E2aDqwz8FzTo"
      }
    },
    {
      "cell_type": "markdown",
      "source": [
        "Структурирование данных было выполнено в разделе EDA. В данный блокнот были загружены обработанные таблицы."
      ],
      "metadata": {
        "id": "DNj9wM90F5SD"
      }
    },
    {
      "cell_type": "code",
      "source": [
        "df.head()"
      ],
      "metadata": {
        "colab": {
          "base_uri": "https://localhost:8080/",
          "height": 337
        },
        "id": "TbEPmFa6FGdQ",
        "outputId": "cea85a01-dd64-4f1b-f4ce-4b5beff9e19c"
      },
      "execution_count": null,
      "outputs": [
        {
          "output_type": "execute_result",
          "data": {
            "text/plain": [
              "           id                                              name   salary  \\\n",
              "0  49059633.0           Младший специалист ручного тестирования      NaN   \n",
              "1  54653519.0                                   Тестировщик.Net  33186.0   \n",
              "2  55116066.0                                         Пентестер      NaN   \n",
              "3  54031261.0  Ведущий Специалист по информационным технологиям  23008.0   \n",
              "4  55243040.0                   Специалист по защите информации  20000.0   \n",
              "\n",
              "                                            employer          experience  \\\n",
              "0                                             Яндекс           Нет опыта   \n",
              "1                                         МФК Саммит  От 1 года до 3 лет   \n",
              "2                                       SearchInform       От 3 до 6 лет   \n",
              "3                                       Почта России           Нет опыта   \n",
              "4  ГБПОУ АО Астраханский музыкальный колледж имен...           Нет опыта   \n",
              "\n",
              "                 region                                         key_skills  \n",
              "0  Астраханская область                                                 []  \n",
              "1  Астраханская область        ['Git', 'SQL', 'Тестирование', 'C#', 'API']  \n",
              "2  Астраханская область  ['SQL', 'Linux', 'Информационная безопасность'...  \n",
              "3  Астраханская область  ['Пользователь ПК', 'Работа в команде', '1С: П...  \n",
              "4  Астраханская область  ['MS Dos', 'Диагностика ПК', 'Компьютер', 'Раб...  "
            ],
            "text/html": [
              "\n",
              "  <div id=\"df-375c924f-0f49-4474-b0da-ae66159a9215\">\n",
              "    <div class=\"colab-df-container\">\n",
              "      <div>\n",
              "<style scoped>\n",
              "    .dataframe tbody tr th:only-of-type {\n",
              "        vertical-align: middle;\n",
              "    }\n",
              "\n",
              "    .dataframe tbody tr th {\n",
              "        vertical-align: top;\n",
              "    }\n",
              "\n",
              "    .dataframe thead th {\n",
              "        text-align: right;\n",
              "    }\n",
              "</style>\n",
              "<table border=\"1\" class=\"dataframe\">\n",
              "  <thead>\n",
              "    <tr style=\"text-align: right;\">\n",
              "      <th></th>\n",
              "      <th>id</th>\n",
              "      <th>name</th>\n",
              "      <th>salary</th>\n",
              "      <th>employer</th>\n",
              "      <th>experience</th>\n",
              "      <th>region</th>\n",
              "      <th>key_skills</th>\n",
              "    </tr>\n",
              "  </thead>\n",
              "  <tbody>\n",
              "    <tr>\n",
              "      <th>0</th>\n",
              "      <td>49059633.0</td>\n",
              "      <td>Младший специалист ручного тестирования</td>\n",
              "      <td>NaN</td>\n",
              "      <td>Яндекс</td>\n",
              "      <td>Нет опыта</td>\n",
              "      <td>Астраханская область</td>\n",
              "      <td>[]</td>\n",
              "    </tr>\n",
              "    <tr>\n",
              "      <th>1</th>\n",
              "      <td>54653519.0</td>\n",
              "      <td>Тестировщик.Net</td>\n",
              "      <td>33186.0</td>\n",
              "      <td>МФК Саммит</td>\n",
              "      <td>От 1 года до 3 лет</td>\n",
              "      <td>Астраханская область</td>\n",
              "      <td>['Git', 'SQL', 'Тестирование', 'C#', 'API']</td>\n",
              "    </tr>\n",
              "    <tr>\n",
              "      <th>2</th>\n",
              "      <td>55116066.0</td>\n",
              "      <td>Пентестер</td>\n",
              "      <td>NaN</td>\n",
              "      <td>SearchInform</td>\n",
              "      <td>От 3 до 6 лет</td>\n",
              "      <td>Астраханская область</td>\n",
              "      <td>['SQL', 'Linux', 'Информационная безопасность'...</td>\n",
              "    </tr>\n",
              "    <tr>\n",
              "      <th>3</th>\n",
              "      <td>54031261.0</td>\n",
              "      <td>Ведущий Специалист по информационным технологиям</td>\n",
              "      <td>23008.0</td>\n",
              "      <td>Почта России</td>\n",
              "      <td>Нет опыта</td>\n",
              "      <td>Астраханская область</td>\n",
              "      <td>['Пользователь ПК', 'Работа в команде', '1С: П...</td>\n",
              "    </tr>\n",
              "    <tr>\n",
              "      <th>4</th>\n",
              "      <td>55243040.0</td>\n",
              "      <td>Специалист по защите информации</td>\n",
              "      <td>20000.0</td>\n",
              "      <td>ГБПОУ АО Астраханский музыкальный колледж имен...</td>\n",
              "      <td>Нет опыта</td>\n",
              "      <td>Астраханская область</td>\n",
              "      <td>['MS Dos', 'Диагностика ПК', 'Компьютер', 'Раб...</td>\n",
              "    </tr>\n",
              "  </tbody>\n",
              "</table>\n",
              "</div>\n",
              "      <button class=\"colab-df-convert\" onclick=\"convertToInteractive('df-375c924f-0f49-4474-b0da-ae66159a9215')\"\n",
              "              title=\"Convert this dataframe to an interactive table.\"\n",
              "              style=\"display:none;\">\n",
              "        \n",
              "  <svg xmlns=\"http://www.w3.org/2000/svg\" height=\"24px\"viewBox=\"0 0 24 24\"\n",
              "       width=\"24px\">\n",
              "    <path d=\"M0 0h24v24H0V0z\" fill=\"none\"/>\n",
              "    <path d=\"M18.56 5.44l.94 2.06.94-2.06 2.06-.94-2.06-.94-.94-2.06-.94 2.06-2.06.94zm-11 1L8.5 8.5l.94-2.06 2.06-.94-2.06-.94L8.5 2.5l-.94 2.06-2.06.94zm10 10l.94 2.06.94-2.06 2.06-.94-2.06-.94-.94-2.06-.94 2.06-2.06.94z\"/><path d=\"M17.41 7.96l-1.37-1.37c-.4-.4-.92-.59-1.43-.59-.52 0-1.04.2-1.43.59L10.3 9.45l-7.72 7.72c-.78.78-.78 2.05 0 2.83L4 21.41c.39.39.9.59 1.41.59.51 0 1.02-.2 1.41-.59l7.78-7.78 2.81-2.81c.8-.78.8-2.07 0-2.86zM5.41 20L4 18.59l7.72-7.72 1.47 1.35L5.41 20z\"/>\n",
              "  </svg>\n",
              "      </button>\n",
              "      \n",
              "  <style>\n",
              "    .colab-df-container {\n",
              "      display:flex;\n",
              "      flex-wrap:wrap;\n",
              "      gap: 12px;\n",
              "    }\n",
              "\n",
              "    .colab-df-convert {\n",
              "      background-color: #E8F0FE;\n",
              "      border: none;\n",
              "      border-radius: 50%;\n",
              "      cursor: pointer;\n",
              "      display: none;\n",
              "      fill: #1967D2;\n",
              "      height: 32px;\n",
              "      padding: 0 0 0 0;\n",
              "      width: 32px;\n",
              "    }\n",
              "\n",
              "    .colab-df-convert:hover {\n",
              "      background-color: #E2EBFA;\n",
              "      box-shadow: 0px 1px 2px rgba(60, 64, 67, 0.3), 0px 1px 3px 1px rgba(60, 64, 67, 0.15);\n",
              "      fill: #174EA6;\n",
              "    }\n",
              "\n",
              "    [theme=dark] .colab-df-convert {\n",
              "      background-color: #3B4455;\n",
              "      fill: #D2E3FC;\n",
              "    }\n",
              "\n",
              "    [theme=dark] .colab-df-convert:hover {\n",
              "      background-color: #434B5C;\n",
              "      box-shadow: 0px 1px 3px 1px rgba(0, 0, 0, 0.15);\n",
              "      filter: drop-shadow(0px 1px 2px rgba(0, 0, 0, 0.3));\n",
              "      fill: #FFFFFF;\n",
              "    }\n",
              "  </style>\n",
              "\n",
              "      <script>\n",
              "        const buttonEl =\n",
              "          document.querySelector('#df-375c924f-0f49-4474-b0da-ae66159a9215 button.colab-df-convert');\n",
              "        buttonEl.style.display =\n",
              "          google.colab.kernel.accessAllowed ? 'block' : 'none';\n",
              "\n",
              "        async function convertToInteractive(key) {\n",
              "          const element = document.querySelector('#df-375c924f-0f49-4474-b0da-ae66159a9215');\n",
              "          const dataTable =\n",
              "            await google.colab.kernel.invokeFunction('convertToInteractive',\n",
              "                                                     [key], {});\n",
              "          if (!dataTable) return;\n",
              "\n",
              "          const docLinkHtml = 'Like what you see? Visit the ' +\n",
              "            '<a target=\"_blank\" href=https://colab.research.google.com/notebooks/data_table.ipynb>data table notebook</a>'\n",
              "            + ' to learn more about interactive tables.';\n",
              "          element.innerHTML = '';\n",
              "          dataTable['output_type'] = 'display_data';\n",
              "          await google.colab.output.renderOutput(dataTable, element);\n",
              "          const docLink = document.createElement('div');\n",
              "          docLink.innerHTML = docLinkHtml;\n",
              "          element.appendChild(docLink);\n",
              "        }\n",
              "      </script>\n",
              "    </div>\n",
              "  </div>\n",
              "  "
            ]
          },
          "metadata": {},
          "execution_count": 5
        }
      ]
    },
    {
      "cell_type": "code",
      "source": [
        "df25.head()"
      ],
      "metadata": {
        "colab": {
          "base_uri": "https://localhost:8080/",
          "height": 206
        },
        "id": "TEg8d6ODImJ5",
        "outputId": "0f2257f9-f7a0-4bec-f8f6-bd12086749d9"
      },
      "execution_count": null,
      "outputs": [
        {
          "output_type": "execute_result",
          "data": {
            "text/plain": [
              "              Skill  Freq     MeanSalary\n",
              "0               SQL  6268  128469.433709\n",
              "1             Linux  4855  119929.442438\n",
              "2               Git  4522  153280.553104\n",
              "3   Английский язык  3905  130258.275727\n",
              "4  Работа в команде  3438   73895.721159"
            ],
            "text/html": [
              "\n",
              "  <div id=\"df-70414fd1-eafd-49a8-9274-904e2df6bb36\">\n",
              "    <div class=\"colab-df-container\">\n",
              "      <div>\n",
              "<style scoped>\n",
              "    .dataframe tbody tr th:only-of-type {\n",
              "        vertical-align: middle;\n",
              "    }\n",
              "\n",
              "    .dataframe tbody tr th {\n",
              "        vertical-align: top;\n",
              "    }\n",
              "\n",
              "    .dataframe thead th {\n",
              "        text-align: right;\n",
              "    }\n",
              "</style>\n",
              "<table border=\"1\" class=\"dataframe\">\n",
              "  <thead>\n",
              "    <tr style=\"text-align: right;\">\n",
              "      <th></th>\n",
              "      <th>Skill</th>\n",
              "      <th>Freq</th>\n",
              "      <th>MeanSalary</th>\n",
              "    </tr>\n",
              "  </thead>\n",
              "  <tbody>\n",
              "    <tr>\n",
              "      <th>0</th>\n",
              "      <td>SQL</td>\n",
              "      <td>6268</td>\n",
              "      <td>128469.433709</td>\n",
              "    </tr>\n",
              "    <tr>\n",
              "      <th>1</th>\n",
              "      <td>Linux</td>\n",
              "      <td>4855</td>\n",
              "      <td>119929.442438</td>\n",
              "    </tr>\n",
              "    <tr>\n",
              "      <th>2</th>\n",
              "      <td>Git</td>\n",
              "      <td>4522</td>\n",
              "      <td>153280.553104</td>\n",
              "    </tr>\n",
              "    <tr>\n",
              "      <th>3</th>\n",
              "      <td>Английский язык</td>\n",
              "      <td>3905</td>\n",
              "      <td>130258.275727</td>\n",
              "    </tr>\n",
              "    <tr>\n",
              "      <th>4</th>\n",
              "      <td>Работа в команде</td>\n",
              "      <td>3438</td>\n",
              "      <td>73895.721159</td>\n",
              "    </tr>\n",
              "  </tbody>\n",
              "</table>\n",
              "</div>\n",
              "      <button class=\"colab-df-convert\" onclick=\"convertToInteractive('df-70414fd1-eafd-49a8-9274-904e2df6bb36')\"\n",
              "              title=\"Convert this dataframe to an interactive table.\"\n",
              "              style=\"display:none;\">\n",
              "        \n",
              "  <svg xmlns=\"http://www.w3.org/2000/svg\" height=\"24px\"viewBox=\"0 0 24 24\"\n",
              "       width=\"24px\">\n",
              "    <path d=\"M0 0h24v24H0V0z\" fill=\"none\"/>\n",
              "    <path d=\"M18.56 5.44l.94 2.06.94-2.06 2.06-.94-2.06-.94-.94-2.06-.94 2.06-2.06.94zm-11 1L8.5 8.5l.94-2.06 2.06-.94-2.06-.94L8.5 2.5l-.94 2.06-2.06.94zm10 10l.94 2.06.94-2.06 2.06-.94-2.06-.94-.94-2.06-.94 2.06-2.06.94z\"/><path d=\"M17.41 7.96l-1.37-1.37c-.4-.4-.92-.59-1.43-.59-.52 0-1.04.2-1.43.59L10.3 9.45l-7.72 7.72c-.78.78-.78 2.05 0 2.83L4 21.41c.39.39.9.59 1.41.59.51 0 1.02-.2 1.41-.59l7.78-7.78 2.81-2.81c.8-.78.8-2.07 0-2.86zM5.41 20L4 18.59l7.72-7.72 1.47 1.35L5.41 20z\"/>\n",
              "  </svg>\n",
              "      </button>\n",
              "      \n",
              "  <style>\n",
              "    .colab-df-container {\n",
              "      display:flex;\n",
              "      flex-wrap:wrap;\n",
              "      gap: 12px;\n",
              "    }\n",
              "\n",
              "    .colab-df-convert {\n",
              "      background-color: #E8F0FE;\n",
              "      border: none;\n",
              "      border-radius: 50%;\n",
              "      cursor: pointer;\n",
              "      display: none;\n",
              "      fill: #1967D2;\n",
              "      height: 32px;\n",
              "      padding: 0 0 0 0;\n",
              "      width: 32px;\n",
              "    }\n",
              "\n",
              "    .colab-df-convert:hover {\n",
              "      background-color: #E2EBFA;\n",
              "      box-shadow: 0px 1px 2px rgba(60, 64, 67, 0.3), 0px 1px 3px 1px rgba(60, 64, 67, 0.15);\n",
              "      fill: #174EA6;\n",
              "    }\n",
              "\n",
              "    [theme=dark] .colab-df-convert {\n",
              "      background-color: #3B4455;\n",
              "      fill: #D2E3FC;\n",
              "    }\n",
              "\n",
              "    [theme=dark] .colab-df-convert:hover {\n",
              "      background-color: #434B5C;\n",
              "      box-shadow: 0px 1px 3px 1px rgba(0, 0, 0, 0.15);\n",
              "      filter: drop-shadow(0px 1px 2px rgba(0, 0, 0, 0.3));\n",
              "      fill: #FFFFFF;\n",
              "    }\n",
              "  </style>\n",
              "\n",
              "      <script>\n",
              "        const buttonEl =\n",
              "          document.querySelector('#df-70414fd1-eafd-49a8-9274-904e2df6bb36 button.colab-df-convert');\n",
              "        buttonEl.style.display =\n",
              "          google.colab.kernel.accessAllowed ? 'block' : 'none';\n",
              "\n",
              "        async function convertToInteractive(key) {\n",
              "          const element = document.querySelector('#df-70414fd1-eafd-49a8-9274-904e2df6bb36');\n",
              "          const dataTable =\n",
              "            await google.colab.kernel.invokeFunction('convertToInteractive',\n",
              "                                                     [key], {});\n",
              "          if (!dataTable) return;\n",
              "\n",
              "          const docLinkHtml = 'Like what you see? Visit the ' +\n",
              "            '<a target=\"_blank\" href=https://colab.research.google.com/notebooks/data_table.ipynb>data table notebook</a>'\n",
              "            + ' to learn more about interactive tables.';\n",
              "          element.innerHTML = '';\n",
              "          dataTable['output_type'] = 'display_data';\n",
              "          await google.colab.output.renderOutput(dataTable, element);\n",
              "          const docLink = document.createElement('div');\n",
              "          docLink.innerHTML = docLinkHtml;\n",
              "          element.appendChild(docLink);\n",
              "        }\n",
              "      </script>\n",
              "    </div>\n",
              "  </div>\n",
              "  "
            ]
          },
          "metadata": {},
          "execution_count": 6
        }
      ]
    },
    {
      "cell_type": "code",
      "source": [
        "df100.head()"
      ],
      "metadata": {
        "colab": {
          "base_uri": "https://localhost:8080/",
          "height": 206
        },
        "id": "BpngsZUNImBK",
        "outputId": "5be6457e-d5c4-4344-fb31-9e8f20c33804"
      },
      "execution_count": null,
      "outputs": [
        {
          "output_type": "execute_result",
          "data": {
            "text/plain": [
              "                     top_skill    salary\n",
              "0         Мобильное приложение  898230.0\n",
              "1                        CI CD  750000.0\n",
              "2                        Cloud  750000.0\n",
              "3  Business Process Management  600000.0\n",
              "4           Strategic Planning  600000.0"
            ],
            "text/html": [
              "\n",
              "  <div id=\"df-b9f1ea89-42b6-4345-a5c2-6a09f5d825c7\">\n",
              "    <div class=\"colab-df-container\">\n",
              "      <div>\n",
              "<style scoped>\n",
              "    .dataframe tbody tr th:only-of-type {\n",
              "        vertical-align: middle;\n",
              "    }\n",
              "\n",
              "    .dataframe tbody tr th {\n",
              "        vertical-align: top;\n",
              "    }\n",
              "\n",
              "    .dataframe thead th {\n",
              "        text-align: right;\n",
              "    }\n",
              "</style>\n",
              "<table border=\"1\" class=\"dataframe\">\n",
              "  <thead>\n",
              "    <tr style=\"text-align: right;\">\n",
              "      <th></th>\n",
              "      <th>top_skill</th>\n",
              "      <th>salary</th>\n",
              "    </tr>\n",
              "  </thead>\n",
              "  <tbody>\n",
              "    <tr>\n",
              "      <th>0</th>\n",
              "      <td>Мобильное приложение</td>\n",
              "      <td>898230.0</td>\n",
              "    </tr>\n",
              "    <tr>\n",
              "      <th>1</th>\n",
              "      <td>CI CD</td>\n",
              "      <td>750000.0</td>\n",
              "    </tr>\n",
              "    <tr>\n",
              "      <th>2</th>\n",
              "      <td>Cloud</td>\n",
              "      <td>750000.0</td>\n",
              "    </tr>\n",
              "    <tr>\n",
              "      <th>3</th>\n",
              "      <td>Business Process Management</td>\n",
              "      <td>600000.0</td>\n",
              "    </tr>\n",
              "    <tr>\n",
              "      <th>4</th>\n",
              "      <td>Strategic Planning</td>\n",
              "      <td>600000.0</td>\n",
              "    </tr>\n",
              "  </tbody>\n",
              "</table>\n",
              "</div>\n",
              "      <button class=\"colab-df-convert\" onclick=\"convertToInteractive('df-b9f1ea89-42b6-4345-a5c2-6a09f5d825c7')\"\n",
              "              title=\"Convert this dataframe to an interactive table.\"\n",
              "              style=\"display:none;\">\n",
              "        \n",
              "  <svg xmlns=\"http://www.w3.org/2000/svg\" height=\"24px\"viewBox=\"0 0 24 24\"\n",
              "       width=\"24px\">\n",
              "    <path d=\"M0 0h24v24H0V0z\" fill=\"none\"/>\n",
              "    <path d=\"M18.56 5.44l.94 2.06.94-2.06 2.06-.94-2.06-.94-.94-2.06-.94 2.06-2.06.94zm-11 1L8.5 8.5l.94-2.06 2.06-.94-2.06-.94L8.5 2.5l-.94 2.06-2.06.94zm10 10l.94 2.06.94-2.06 2.06-.94-2.06-.94-.94-2.06-.94 2.06-2.06.94z\"/><path d=\"M17.41 7.96l-1.37-1.37c-.4-.4-.92-.59-1.43-.59-.52 0-1.04.2-1.43.59L10.3 9.45l-7.72 7.72c-.78.78-.78 2.05 0 2.83L4 21.41c.39.39.9.59 1.41.59.51 0 1.02-.2 1.41-.59l7.78-7.78 2.81-2.81c.8-.78.8-2.07 0-2.86zM5.41 20L4 18.59l7.72-7.72 1.47 1.35L5.41 20z\"/>\n",
              "  </svg>\n",
              "      </button>\n",
              "      \n",
              "  <style>\n",
              "    .colab-df-container {\n",
              "      display:flex;\n",
              "      flex-wrap:wrap;\n",
              "      gap: 12px;\n",
              "    }\n",
              "\n",
              "    .colab-df-convert {\n",
              "      background-color: #E8F0FE;\n",
              "      border: none;\n",
              "      border-radius: 50%;\n",
              "      cursor: pointer;\n",
              "      display: none;\n",
              "      fill: #1967D2;\n",
              "      height: 32px;\n",
              "      padding: 0 0 0 0;\n",
              "      width: 32px;\n",
              "    }\n",
              "\n",
              "    .colab-df-convert:hover {\n",
              "      background-color: #E2EBFA;\n",
              "      box-shadow: 0px 1px 2px rgba(60, 64, 67, 0.3), 0px 1px 3px 1px rgba(60, 64, 67, 0.15);\n",
              "      fill: #174EA6;\n",
              "    }\n",
              "\n",
              "    [theme=dark] .colab-df-convert {\n",
              "      background-color: #3B4455;\n",
              "      fill: #D2E3FC;\n",
              "    }\n",
              "\n",
              "    [theme=dark] .colab-df-convert:hover {\n",
              "      background-color: #434B5C;\n",
              "      box-shadow: 0px 1px 3px 1px rgba(0, 0, 0, 0.15);\n",
              "      filter: drop-shadow(0px 1px 2px rgba(0, 0, 0, 0.3));\n",
              "      fill: #FFFFFF;\n",
              "    }\n",
              "  </style>\n",
              "\n",
              "      <script>\n",
              "        const buttonEl =\n",
              "          document.querySelector('#df-b9f1ea89-42b6-4345-a5c2-6a09f5d825c7 button.colab-df-convert');\n",
              "        buttonEl.style.display =\n",
              "          google.colab.kernel.accessAllowed ? 'block' : 'none';\n",
              "\n",
              "        async function convertToInteractive(key) {\n",
              "          const element = document.querySelector('#df-b9f1ea89-42b6-4345-a5c2-6a09f5d825c7');\n",
              "          const dataTable =\n",
              "            await google.colab.kernel.invokeFunction('convertToInteractive',\n",
              "                                                     [key], {});\n",
              "          if (!dataTable) return;\n",
              "\n",
              "          const docLinkHtml = 'Like what you see? Visit the ' +\n",
              "            '<a target=\"_blank\" href=https://colab.research.google.com/notebooks/data_table.ipynb>data table notebook</a>'\n",
              "            + ' to learn more about interactive tables.';\n",
              "          element.innerHTML = '';\n",
              "          dataTable['output_type'] = 'display_data';\n",
              "          await google.colab.output.renderOutput(dataTable, element);\n",
              "          const docLink = document.createElement('div');\n",
              "          docLink.innerHTML = docLinkHtml;\n",
              "          element.appendChild(docLink);\n",
              "        }\n",
              "      </script>\n",
              "    </div>\n",
              "  </div>\n",
              "  "
            ]
          },
          "metadata": {},
          "execution_count": 7
        }
      ]
    },
    {
      "cell_type": "markdown",
      "source": [
        "______________________________"
      ],
      "metadata": {
        "id": "kO9ye0BxVo4n"
      }
    },
    {
      "cell_type": "markdown",
      "source": [
        "# 2. Анализ типов данных"
      ],
      "metadata": {
        "id": "ocPq5U-oGM5L"
      }
    },
    {
      "cell_type": "code",
      "source": [
        "df.info()"
      ],
      "metadata": {
        "colab": {
          "base_uri": "https://localhost:8080/"
        },
        "id": "TmLZLMFLEOb7",
        "outputId": "78a0fda1-b231-4452-d3b0-b0a71935ea1f"
      },
      "execution_count": null,
      "outputs": [
        {
          "output_type": "stream",
          "name": "stdout",
          "text": [
            "<class 'pandas.core.frame.DataFrame'>\n",
            "RangeIndex: 49678 entries, 0 to 49677\n",
            "Data columns (total 7 columns):\n",
            " #   Column      Non-Null Count  Dtype  \n",
            "---  ------      --------------  -----  \n",
            " 0   id          49678 non-null  float64\n",
            " 1   name        49678 non-null  object \n",
            " 2   salary      22477 non-null  float64\n",
            " 3   employer    49613 non-null  object \n",
            " 4   experience  49678 non-null  object \n",
            " 5   region      49678 non-null  object \n",
            " 6   key_skills  49678 non-null  object \n",
            "dtypes: float64(2), object(5)\n",
            "memory usage: 2.7+ MB\n"
          ]
        }
      ]
    },
    {
      "cell_type": "markdown",
      "source": [
        "__Типы данных в датасете df:__\n",
        "  1. id - идентификатор вакансии на HH, при анализе не используется, нужен на случай, когда потребуется обратиться к определённой вакансии прямо на сайте, _порядковый тип_\n",
        "  2. name - наименование вакансии, _категориальный тип_\n",
        "  3. salary - средняя зарплата по вакансии, _количественный тип_\n",
        "  4. employer - работодатель, _категориальный тип_\n",
        "  5. experience - опыт работы, _категориальный тип_\n",
        "  6. region - регион вакансии, _категориальный тип_\n",
        "  7. key_skills - список ключевых навыков и способностей, _категориальный тип_"
      ],
      "metadata": {
        "id": "7CBcxLEQGSE0"
      }
    },
    {
      "cell_type": "code",
      "source": [
        "df25.info()"
      ],
      "metadata": {
        "colab": {
          "base_uri": "https://localhost:8080/"
        },
        "id": "sOZY54rgLKPM",
        "outputId": "967d4afe-89af-4466-8b5a-6f72ab03c690"
      },
      "execution_count": null,
      "outputs": [
        {
          "output_type": "stream",
          "name": "stdout",
          "text": [
            "<class 'pandas.core.frame.DataFrame'>\n",
            "RangeIndex: 25 entries, 0 to 24\n",
            "Data columns (total 3 columns):\n",
            " #   Column      Non-Null Count  Dtype  \n",
            "---  ------      --------------  -----  \n",
            " 0   Skill       25 non-null     object \n",
            " 1   Freq        25 non-null     int64  \n",
            " 2   MeanSalary  25 non-null     float64\n",
            "dtypes: float64(1), int64(1), object(1)\n",
            "memory usage: 728.0+ bytes\n"
          ]
        }
      ]
    },
    {
      "cell_type": "markdown",
      "source": [
        "**Типы данных в датасете df25:**\n",
        "\n",
        "1. Skill - наименование навыка, категориальный тип\n",
        "2. Freq - частота упоминания навыка, количественный тип\n",
        "3. MeanSalary  - средняя зарплата по навыку, количественный тип\n"
      ],
      "metadata": {
        "id": "CWuEVKYHLOvk"
      }
    },
    {
      "cell_type": "code",
      "source": [
        "df100.info()"
      ],
      "metadata": {
        "colab": {
          "base_uri": "https://localhost:8080/"
        },
        "id": "nfWI169kL6r8",
        "outputId": "640ac1e5-5cc9-4a68-d194-6129e9a67938"
      },
      "execution_count": null,
      "outputs": [
        {
          "output_type": "stream",
          "name": "stdout",
          "text": [
            "<class 'pandas.core.frame.DataFrame'>\n",
            "RangeIndex: 100 entries, 0 to 99\n",
            "Data columns (total 2 columns):\n",
            " #   Column     Non-Null Count  Dtype  \n",
            "---  ------     --------------  -----  \n",
            " 0   top_skill  100 non-null    object \n",
            " 1   salary     100 non-null    float64\n",
            "dtypes: float64(1), object(1)\n",
            "memory usage: 1.7+ KB\n"
          ]
        }
      ]
    },
    {
      "cell_type": "markdown",
      "source": [
        "**Типы данных в датасете df100:**\n",
        "\n",
        "1. top_skill - наименование высокооплачиваемого навыка, категориальный тип\n",
        "2. salary - средняя зарплата по навыку, количественный тип"
      ],
      "metadata": {
        "id": "lBwsdIUSMs1f"
      }
    },
    {
      "cell_type": "markdown",
      "source": [
        "# 3. Визуализация данных"
      ],
      "metadata": {
        "id": "C74FBolmJRtA"
      }
    },
    {
      "cell_type": "markdown",
      "source": [
        "Гистограмма распределения зарплаты по количеству объявлений:"
      ],
      "metadata": {
        "id": "K-Jz0Yx1OJeA"
      }
    },
    {
      "cell_type": "code",
      "source": [
        "plt.figure(figsize=(10,7))\n",
        "df['salary'][df['salary'] < df['salary'].quantile(0.99)].hist(bins=50)  # убираю 1% максимальных зарплат (выбросы) для большей наглядности графика\n",
        "plt.title('Распределение средней зарплаты по количеству вакансий', fontsize=15)\n",
        "plt.xlabel('Средняя зарплата, руб.', fontsize=13)\n",
        "plt.ylabel('Количество предложения', fontsize=13)\n",
        "plt.show()"
      ],
      "metadata": {
        "colab": {
          "base_uri": "https://localhost:8080/",
          "height": 463
        },
        "id": "9tM30e5AJh6c",
        "outputId": "b2e1cfed-bf37-4f11-9ae1-2c97ee26cd2d"
      },
      "execution_count": null,
      "outputs": [
        {
          "output_type": "display_data",
          "data": {
            "text/plain": [
              "<Figure size 720x504 with 1 Axes>"
            ],
            "image/png": "[encoded data removed]"
          },
          "metadata": {
            "needs_background": "light"
          }
        }
      ]
    },
    {
      "cell_type": "markdown",
      "source": [
        "Столбчатая диаграмма:"
      ],
      "metadata": {
        "id": "ZTl8XhLkSEmE"
      }
    },
    {
      "cell_type": "code",
      "source": [
        "vacancies_names = df['name'].value_counts()[:20]  # 20 самых частых вакансий"
      ],
      "metadata": {
        "id": "8nA1AmqUMJOj"
      },
      "execution_count": null,
      "outputs": []
    },
    {
      "cell_type": "code",
      "source": [
        "plt.figure(figsize = (12, 7))\n",
        "plt.barh(vacancies_names.index, vacancies_names)\n",
        "plt.gca().invert_yaxis()\n",
        "plt.xlabel('Количество вакансий', fontsize=13)\n",
        "plt.title('Распределение 20 самых востребованных вакансий', fontsize=15)\n",
        "plt.show()"
      ],
      "metadata": {
        "colab": {
          "base_uri": "https://localhost:8080/",
          "height": 465
        },
        "id": "2ApSe_8SOip6",
        "outputId": "56935e48-b23c-403e-c2ca-f5b959308276"
      },
      "execution_count": null,
      "outputs": [
        {
          "output_type": "display_data",
          "data": {
            "text/plain": [
              "<Figure size 864x504 with 1 Axes>"
            ],
            "image/png": "[encoded data removed]"
          },
          "metadata": {
            "needs_background": "light"
          }
        }
      ]
    },
    {
      "cell_type": "code",
      "source": [
        "plt.figure(figsize = (12, 7))\n",
        "plt.barh(df100['top_skill'][:15], df100['salary'][:15])\n",
        "plt.gca().invert_yaxis()\n",
        "plt.xlabel('Зарплата, руб', fontsize=13)\n",
        "plt.title('15 самых высокооплачиваемых навыков', fontsize=15)\n",
        "plt.show()"
      ],
      "metadata": {
        "colab": {
          "base_uri": "https://localhost:8080/",
          "height": 463
        },
        "id": "H5dQD_jhNj0s",
        "outputId": "6702b2bd-c5f3-4c60-c9b6-9c0ae4c179ff"
      },
      "execution_count": null,
      "outputs": [
        {
          "output_type": "display_data",
          "data": {
            "text/plain": [
              "<Figure size 864x504 with 1 Axes>"
            ],
            "image/png": "[encoded data removed]"
          },
          "metadata": {
            "needs_background": "light"
          }
        }
      ]
    },
    {
      "cell_type": "markdown",
      "source": [
        "Диаграмма рассеивания:"
      ],
      "metadata": {
        "id": "1oXszPCMRJz5"
      }
    },
    {
      "cell_type": "code",
      "source": [
        "plt.figure(figsize = (12, 7))\n",
        "x, y = df25['Freq'], df25['MeanSalary']\n",
        "sns.regplot(x, y)\n",
        "plt.xlabel('Частота упоминаний навыка', fontsize=13)\n",
        "plt.ylabel('Средняя зарплата по навыку', fontsize=13)\n",
        "plt.title('Зависимость средней зарплаты от частоты упоминаний навыка', fontsize=15)\n",
        "plt.show()"
      ],
      "metadata": {
        "colab": {
          "base_uri": "https://localhost:8080/",
          "height": 463
        },
        "id": "vqOsRYvEQMeF",
        "outputId": "512995d3-c1db-41f5-8cb4-c2b074692fbc"
      },
      "execution_count": null,
      "outputs": [
        {
          "output_type": "display_data",
          "data": {
            "text/plain": [
              "<Figure size 864x504 with 1 Axes>"
            ],
            "image/png": "[encoded data removed]"
          },
          "metadata": {
            "needs_background": "light"
          }
        }
      ]
    },
    {
      "cell_type": "markdown",
      "source": [
        "Круговая диаграмма:"
      ],
      "metadata": {
        "id": "FTSNZQ_BSMSr"
      }
    },
    {
      "cell_type": "code",
      "source": [
        "top5_employers = df['employer'].value_counts()[:5]  # выбираю ТОП-5 работодателей в сфере IT"
      ],
      "metadata": {
        "id": "UwDObZrJSYOM"
      },
      "execution_count": null,
      "outputs": []
    },
    {
      "cell_type": "code",
      "source": [
        "plt.figure(figsize = (7, 7))\n",
        "plt.pie(top5_employers, labels=top5_employers.index, autopct='%1.1f%%')\n",
        "plt.title('ТОП-5 работодателей в сфере IT', fontsize=14)\n",
        "plt.show()"
      ],
      "metadata": {
        "colab": {
          "base_uri": "https://localhost:8080/",
          "height": 429
        },
        "id": "fHyI4IyqSjT0",
        "outputId": "df1d9d86-611b-4ece-b48a-d231f92fb433"
      },
      "execution_count": null,
      "outputs": [
        {
          "output_type": "display_data",
          "data": {
            "text/plain": [
              "<Figure size 504x504 with 1 Axes>"
            ],
            "image/png": "[encoded data removed]"
          },
          "metadata": {}
        }
      ]
    },
    {
      "cell_type": "markdown",
      "source": [
        "_______________________________________"
      ],
      "metadata": {
        "id": "1b3srlPLVtG3"
      }
    },
    {
      "cell_type": "markdown",
      "source": [
        "# 4. Гипотеза о виде распределения"
      ],
      "metadata": {
        "id": "PldhpZfyTXJs"
      }
    },
    {
      "cell_type": "markdown",
      "source": [
        "__Критерий Шапиро-Уилка__\n",
        "\n",
        "Гипотеза Н0: данные о средней зарплате не противоречат нормальному распределению"
      ],
      "metadata": {
        "id": "EuY2Bn36WdaR"
      }
    },
    {
      "cell_type": "code",
      "source": [
        "stats.shapiro(df['salary'].dropna())"
      ],
      "metadata": {
        "colab": {
          "base_uri": "https://localhost:8080/"
        },
        "id": "v5Y259J6WgkY",
        "outputId": "589baf22-7a29-48d5-a23c-d2a243e35213"
      },
      "execution_count": null,
      "outputs": [
        {
          "output_type": "stream",
          "name": "stderr",
          "text": [
            "/usr/local/lib/python3.7/dist-packages/scipy/stats/morestats.py:1760: UserWarning: p-value may not be accurate for N > 5000.\n",
            "  warnings.warn(\"p-value may not be accurate for N > 5000.\")\n"
          ]
        },
        {
          "output_type": "execute_result",
          "data": {
            "text/plain": [
              "ShapiroResult(statistic=0.8289628624916077, pvalue=0.0)"
            ]
          },
          "metadata": {},
          "execution_count": 18
        }
      ]
    },
    {
      "cell_type": "markdown",
      "source": [
        "p-value = 0.0, нулевая гипотеза H0 о нормальности распределения отвергается, выборка распределена не нормально"
      ],
      "metadata": {
        "id": "xYJKPZJoW9Db"
      }
    },
    {
      "cell_type": "code",
      "source": [
        "stats.shapiro(df100['salary'])  # проверка на 100 значениях из выборки показывает такой же результат p-value"
      ],
      "metadata": {
        "colab": {
          "base_uri": "https://localhost:8080/"
        },
        "id": "OT3TbKEwTHZ8",
        "outputId": "9849af3e-10b2-49f6-a928-c07773d5f3aa"
      },
      "execution_count": null,
      "outputs": [
        {
          "output_type": "execute_result",
          "data": {
            "text/plain": [
              "ShapiroResult(statistic=0.7334569692611694, pvalue=3.497059846563344e-12)"
            ]
          },
          "metadata": {},
          "execution_count": 19
        }
      ]
    },
    {
      "cell_type": "markdown",
      "source": [
        "**Тест д'Агостино**\n",
        "\n",
        "Проверяем итоговые показатели эксцесса и ассиметрии:"
      ],
      "metadata": {
        "id": "hgCIZf04YDkw"
      }
    },
    {
      "cell_type": "code",
      "source": [
        "stats.normaltest(df['salary'].dropna())"
      ],
      "metadata": {
        "colab": {
          "base_uri": "https://localhost:8080/"
        },
        "id": "xnD4GSNCX5Iv",
        "outputId": "e95e6384-fcbe-4974-d781-ee203b32cd63"
      },
      "execution_count": null,
      "outputs": [
        {
          "output_type": "execute_result",
          "data": {
            "text/plain": [
              "NormaltestResult(statistic=9306.352013651045, pvalue=0.0)"
            ]
          },
          "metadata": {},
          "execution_count": 20
        }
      ]
    },
    {
      "cell_type": "markdown",
      "source": [
        "Данный тест подтверждает гипотезу о ненормальном распределении данных."
      ],
      "metadata": {
        "id": "y3hCmufD_CyY"
      }
    },
    {
      "cell_type": "markdown",
      "source": [
        "___________________________________________________"
      ],
      "metadata": {
        "id": "oVMlj5b1Vvxi"
      }
    },
    {
      "cell_type": "markdown",
      "source": [
        "# 5. Оценить связь между показателями"
      ],
      "metadata": {
        "id": "UEnj8G4ySbGD"
      }
    },
    {
      "cell_type": "markdown",
      "source": [
        "Гипотеза Н0: статистически значимые отличия в группах (опыт работы) отсутствуют"
      ],
      "metadata": {
        "id": "jKa_eoSyBSe-"
      }
    },
    {
      "cell_type": "markdown",
      "source": [
        "Сначала удаляю выбросы: 2,5% снизу и 5% сверху."
      ],
      "metadata": {
        "id": "n8u7KdsAJMfE"
      }
    },
    {
      "cell_type": "code",
      "source": [
        "filter = (df['salary'] >= df['salary'].quantile(0.025)) & (df['salary'] < df['salary'].quantile(0.95))\n",
        "df = df[filter]"
      ],
      "metadata": {
        "id": "2glS8FT3Gs0L"
      },
      "execution_count": null,
      "outputs": []
    },
    {
      "cell_type": "markdown",
      "source": [
        "Строю боксплоты для визуальной оценки зависимости зарплаты от опыта работы."
      ],
      "metadata": {
        "id": "2pTuWVr6N3ee"
      }
    },
    {
      "cell_type": "code",
      "source": [
        "f, ax = plt.subplots(figsize=(10, 6))\n",
        "fig = sns.boxplot(x='experience', y='salary', data=df)"
      ],
      "metadata": {
        "colab": {
          "base_uri": "https://localhost:8080/",
          "height": 388
        },
        "id": "gOKvZAGCCB34",
        "outputId": "ef42f92b-dfbb-4714-fa47-4760c18cdb2a"
      },
      "execution_count": null,
      "outputs": [
        {
          "output_type": "display_data",
          "data": {
            "text/plain": [
              "<Figure size 720x432 with 1 Axes>"
            ],
            "image/png": "[encoded data removed]"
          },
          "metadata": {
            "needs_background": "light"
          }
        }
      ]
    },
    {
      "cell_type": "code",
      "source": [
        "df.experience.value_counts()"
      ],
      "metadata": {
        "colab": {
          "base_uri": "https://localhost:8080/"
        },
        "id": "cjJx23AlJ68I",
        "outputId": "8d050e30-6ecc-4ba4-b8c5-d15c23a3e717"
      },
      "execution_count": null,
      "outputs": [
        {
          "output_type": "execute_result",
          "data": {
            "text/plain": [
              "От 1 года до 3 лет    11449\n",
              "От 3 до 6 лет          5210\n",
              "Нет опыта              3970\n",
              "Более 6 лет             426\n",
              "Name: experience, dtype: int64"
            ]
          },
          "metadata": {},
          "execution_count": 23
        }
      ]
    },
    {
      "cell_type": "markdown",
      "source": [
        "Делю 4 показателя опыта на 2 группы по разделу 3-х лет."
      ],
      "metadata": {
        "id": "KAzezaUcOSyi"
      }
    },
    {
      "cell_type": "code",
      "source": [
        "filter1 = (df['experience'] == 'Нет опыта') | (df['experience'] == 'От 1 года до 3 лет')\n",
        "filter2 = (df['experience'] == 'От 3 до 6 лет') | (df['experience'] == 'Более 6 лет')\n",
        "df1 = df[filter1]\n",
        "df2 = df[filter2]"
      ],
      "metadata": {
        "id": "HyQPamY_LiLq"
      },
      "execution_count": null,
      "outputs": []
    },
    {
      "cell_type": "code",
      "source": [
        "stats.mannwhitneyu(df1['salary'], df2['salary'])"
      ],
      "metadata": {
        "id": "oi2bfiELCJqh",
        "colab": {
          "base_uri": "https://localhost:8080/"
        },
        "outputId": "749622b6-c284-4462-9518-346fa886fd28"
      },
      "execution_count": null,
      "outputs": [
        {
          "output_type": "execute_result",
          "data": {
            "text/plain": [
              "MannwhitneyuResult(statistic=19318470.5, pvalue=0.0)"
            ]
          },
          "metadata": {},
          "execution_count": 25
        }
      ]
    },
    {
      "cell_type": "markdown",
      "source": [
        "Критерий Манна-Уитни подверждает, что зарплата зависит от опыта работы."
      ],
      "metadata": {
        "id": "M8wM6XIoNcyC"
      }
    },
    {
      "cell_type": "markdown",
      "source": [
        "______________"
      ],
      "metadata": {
        "id": "jruynu1tUgCE"
      }
    },
    {
      "cell_type": "markdown",
      "source": [
        "Строю корреляционную матрицу для датафрейма со средней зарплатой и частотой упоминания навыков. Показатель в 0.2 указывает на слабую положительную связь между показателями, подтверждается графиком диаграммы рассеивания для данных показателей."
      ],
      "metadata": {
        "id": "TSEIrf0zUoLa"
      }
    },
    {
      "cell_type": "code",
      "source": [
        "df25.corr()  # слабая зависимость частоты от средней зарплаты"
      ],
      "metadata": {
        "colab": {
          "base_uri": "https://localhost:8080/",
          "height": 112
        },
        "id": "M79JKPzfSVDy",
        "outputId": "3f1a3b2f-62f9-46a9-81f4-e27228017bcc"
      },
      "execution_count": null,
      "outputs": [
        {
          "output_type": "execute_result",
          "data": {
            "text/plain": [
              "                Freq  MeanSalary\n",
              "Freq        1.000000    0.205086\n",
              "MeanSalary  0.205086    1.000000"
            ],
            "text/html": [
              "\n",
              "  <div id=\"df-92564744-a2dd-406a-a387-3e3a3a293dd9\">\n",
              "    <div class=\"colab-df-container\">\n",
              "      <div>\n",
              "<style scoped>\n",
              "    .dataframe tbody tr th:only-of-type {\n",
              "        vertical-align: middle;\n",
              "    }\n",
              "\n",
              "    .dataframe tbody tr th {\n",
              "        vertical-align: top;\n",
              "    }\n",
              "\n",
              "    .dataframe thead th {\n",
              "        text-align: right;\n",
              "    }\n",
              "</style>\n",
              "<table border=\"1\" class=\"dataframe\">\n",
              "  <thead>\n",
              "    <tr style=\"text-align: right;\">\n",
              "      <th></th>\n",
              "      <th>Freq</th>\n",
              "      <th>MeanSalary</th>\n",
              "    </tr>\n",
              "  </thead>\n",
              "  <tbody>\n",
              "    <tr>\n",
              "      <th>Freq</th>\n",
              "      <td>1.000000</td>\n",
              "      <td>0.205086</td>\n",
              "    </tr>\n",
              "    <tr>\n",
              "      <th>MeanSalary</th>\n",
              "      <td>0.205086</td>\n",
              "      <td>1.000000</td>\n",
              "    </tr>\n",
              "  </tbody>\n",
              "</table>\n",
              "</div>\n",
              "      <button class=\"colab-df-convert\" onclick=\"convertToInteractive('df-92564744-a2dd-406a-a387-3e3a3a293dd9')\"\n",
              "              title=\"Convert this dataframe to an interactive table.\"\n",
              "              style=\"display:none;\">\n",
              "        \n",
              "  <svg xmlns=\"http://www.w3.org/2000/svg\" height=\"24px\"viewBox=\"0 0 24 24\"\n",
              "       width=\"24px\">\n",
              "    <path d=\"M0 0h24v24H0V0z\" fill=\"none\"/>\n",
              "    <path d=\"M18.56 5.44l.94 2.06.94-2.06 2.06-.94-2.06-.94-.94-2.06-.94 2.06-2.06.94zm-11 1L8.5 8.5l.94-2.06 2.06-.94-2.06-.94L8.5 2.5l-.94 2.06-2.06.94zm10 10l.94 2.06.94-2.06 2.06-.94-2.06-.94-.94-2.06-.94 2.06-2.06.94z\"/><path d=\"M17.41 7.96l-1.37-1.37c-.4-.4-.92-.59-1.43-.59-.52 0-1.04.2-1.43.59L10.3 9.45l-7.72 7.72c-.78.78-.78 2.05 0 2.83L4 21.41c.39.39.9.59 1.41.59.51 0 1.02-.2 1.41-.59l7.78-7.78 2.81-2.81c.8-.78.8-2.07 0-2.86zM5.41 20L4 18.59l7.72-7.72 1.47 1.35L5.41 20z\"/>\n",
              "  </svg>\n",
              "      </button>\n",
              "      \n",
              "  <style>\n",
              "    .colab-df-container {\n",
              "      display:flex;\n",
              "      flex-wrap:wrap;\n",
              "      gap: 12px;\n",
              "    }\n",
              "\n",
              "    .colab-df-convert {\n",
              "      background-color: #E8F0FE;\n",
              "      border: none;\n",
              "      border-radius: 50%;\n",
              "      cursor: pointer;\n",
              "      display: none;\n",
              "      fill: #1967D2;\n",
              "      height: 32px;\n",
              "      padding: 0 0 0 0;\n",
              "      width: 32px;\n",
              "    }\n",
              "\n",
              "    .colab-df-convert:hover {\n",
              "      background-color: #E2EBFA;\n",
              "      box-shadow: 0px 1px 2px rgba(60, 64, 67, 0.3), 0px 1px 3px 1px rgba(60, 64, 67, 0.15);\n",
              "      fill: #174EA6;\n",
              "    }\n",
              "\n",
              "    [theme=dark] .colab-df-convert {\n",
              "      background-color: #3B4455;\n",
              "      fill: #D2E3FC;\n",
              "    }\n",
              "\n",
              "    [theme=dark] .colab-df-convert:hover {\n",
              "      background-color: #434B5C;\n",
              "      box-shadow: 0px 1px 3px 1px rgba(0, 0, 0, 0.15);\n",
              "      filter: drop-shadow(0px 1px 2px rgba(0, 0, 0, 0.3));\n",
              "      fill: #FFFFFF;\n",
              "    }\n",
              "  </style>\n",
              "\n",
              "      <script>\n",
              "        const buttonEl =\n",
              "          document.querySelector('#df-92564744-a2dd-406a-a387-3e3a3a293dd9 button.colab-df-convert');\n",
              "        buttonEl.style.display =\n",
              "          google.colab.kernel.accessAllowed ? 'block' : 'none';\n",
              "\n",
              "        async function convertToInteractive(key) {\n",
              "          const element = document.querySelector('#df-92564744-a2dd-406a-a387-3e3a3a293dd9');\n",
              "          const dataTable =\n",
              "            await google.colab.kernel.invokeFunction('convertToInteractive',\n",
              "                                                     [key], {});\n",
              "          if (!dataTable) return;\n",
              "\n",
              "          const docLinkHtml = 'Like what you see? Visit the ' +\n",
              "            '<a target=\"_blank\" href=https://colab.research.google.com/notebooks/data_table.ipynb>data table notebook</a>'\n",
              "            + ' to learn more about interactive tables.';\n",
              "          element.innerHTML = '';\n",
              "          dataTable['output_type'] = 'display_data';\n",
              "          await google.colab.output.renderOutput(dataTable, element);\n",
              "          const docLink = document.createElement('div');\n",
              "          docLink.innerHTML = docLinkHtml;\n",
              "          element.appendChild(docLink);\n",
              "        }\n",
              "      </script>\n",
              "    </div>\n",
              "  </div>\n",
              "  "
            ]
          },
          "metadata": {},
          "execution_count": 26
        }
      ]
    },
    {
      "cell_type": "markdown",
      "source": [
        "________________________"
      ],
      "metadata": {
        "id": "tr0HsMlpUfl-"
      }
    },
    {
      "cell_type": "markdown",
      "source": [
        "## **6. Гипотеза \"Владение тремя самыми частыми навыками (Git, Linux, SQL) статистически значимо повышает уровень зарплаты в соответствующей области\"**"
      ],
      "metadata": {
        "id": "W5XR5H34w638"
      }
    },
    {
      "cell_type": "markdown",
      "source": [
        "Формулирую нулевую гипотезу: Владение тремя самыми частыми навыками (Git, Linux, SQL) не повышает уровень зарплаты в соответствующей области. Проверку буду проводить по двум количественным группам, одна - с одним или несколькими навыками из списка, другая - без навыков."
      ],
      "metadata": {
        "id": "thOHxhV65TQk"
      }
    },
    {
      "cell_type": "code",
      "source": [
        "SLG_df = df.loc[df['key_skills'].str.contains('Git|Linux|SQL', case=False)]  # нахожу все вакансии, в которых есть 3 частых навыка ['SQL',\t'Linux', 'Git']\n"
      ],
      "metadata": {
        "id": "5wFUo1zjtgZd"
      },
      "execution_count": null,
      "outputs": []
    },
    {
      "cell_type": "code",
      "source": [
        "notSLG_df = df.loc[~df['key_skills'].str.contains('Git|Linux|SQL', case=False)] # нахожу все вакансии, в которых НЕТ 3 частых навыка ['SQL',\t'Linux', 'Git']"
      ],
      "metadata": {
        "id": "3LP4UNdSwSGc"
      },
      "execution_count": null,
      "outputs": []
    },
    {
      "cell_type": "code",
      "source": [
        "SLG_df.head()"
      ],
      "metadata": {
        "colab": {
          "base_uri": "https://localhost:8080/",
          "height": 250
        },
        "id": "6111WcVpzLXP",
        "outputId": "3b3066bf-9e78-4c40-a2c7-a6b85b0015d0"
      },
      "execution_count": null,
      "outputs": [
        {
          "output_type": "execute_result",
          "data": {
            "text/plain": [
              "            id                                               name   salary  \\\n",
              "1   54653519.0                                    Тестировщик.Net  33186.0   \n",
              "30  55189137.0                                   Системный техник  20000.0   \n",
              "31  54324780.0                     Администратор баз данных (DBA)  60000.0   \n",
              "59  55906319.0  Специалист технической поддержки (удаленная ра...  42500.0   \n",
              "64  54785782.0  Ведущий инженер-электроник (Системный админист...  34513.0   \n",
              "\n",
              "                                 employer          experience  \\\n",
              "1                              МФК Саммит  От 1 года до 3 лет   \n",
              "30                         ГБПОУ АО АГКПТ  От 1 года до 3 лет   \n",
              "31                             МФК Саммит  От 1 года до 3 лет   \n",
              "59                             ЭР-Телеком           Нет опыта   \n",
              "64  Филиал ПАО Россети Юг-Астраханьэнерго  От 1 года до 3 лет   \n",
              "\n",
              "                  region                                         key_skills  \n",
              "1   Астраханская область        ['Git', 'SQL', 'Тестирование', 'C#', 'API']  \n",
              "30  Астраханская область  ['Ремонт ПК', 'Windows 7', 'Linux', 'Техническ...  \n",
              "31  Астраханская область  ['MS SQL', 'Базы данных', 'MS SQL Server', 'Cи...  \n",
              "59  Астраханская область  ['Linux', 'Mac Os', 'Windows 7', 'Citrix', 'Мо...  \n",
              "64  Астраханская область  ['Администрирование сетевого оборудования', 'А...  "
            ],
            "text/html": [
              "\n",
              "  <div id=\"df-76cdf2c3-0735-4d07-8dae-0260c924b5a3\">\n",
              "    <div class=\"colab-df-container\">\n",
              "      <div>\n",
              "<style scoped>\n",
              "    .dataframe tbody tr th:only-of-type {\n",
              "        vertical-align: middle;\n",
              "    }\n",
              "\n",
              "    .dataframe tbody tr th {\n",
              "        vertical-align: top;\n",
              "    }\n",
              "\n",
              "    .dataframe thead th {\n",
              "        text-align: right;\n",
              "    }\n",
              "</style>\n",
              "<table border=\"1\" class=\"dataframe\">\n",
              "  <thead>\n",
              "    <tr style=\"text-align: right;\">\n",
              "      <th></th>\n",
              "      <th>id</th>\n",
              "      <th>name</th>\n",
              "      <th>salary</th>\n",
              "      <th>employer</th>\n",
              "      <th>experience</th>\n",
              "      <th>region</th>\n",
              "      <th>key_skills</th>\n",
              "    </tr>\n",
              "  </thead>\n",
              "  <tbody>\n",
              "    <tr>\n",
              "      <th>1</th>\n",
              "      <td>54653519.0</td>\n",
              "      <td>Тестировщик.Net</td>\n",
              "      <td>33186.0</td>\n",
              "      <td>МФК Саммит</td>\n",
              "      <td>От 1 года до 3 лет</td>\n",
              "      <td>Астраханская область</td>\n",
              "      <td>['Git', 'SQL', 'Тестирование', 'C#', 'API']</td>\n",
              "    </tr>\n",
              "    <tr>\n",
              "      <th>30</th>\n",
              "      <td>55189137.0</td>\n",
              "      <td>Системный техник</td>\n",
              "      <td>20000.0</td>\n",
              "      <td>ГБПОУ АО АГКПТ</td>\n",
              "      <td>От 1 года до 3 лет</td>\n",
              "      <td>Астраханская область</td>\n",
              "      <td>['Ремонт ПК', 'Windows 7', 'Linux', 'Техническ...</td>\n",
              "    </tr>\n",
              "    <tr>\n",
              "      <th>31</th>\n",
              "      <td>54324780.0</td>\n",
              "      <td>Администратор баз данных (DBA)</td>\n",
              "      <td>60000.0</td>\n",
              "      <td>МФК Саммит</td>\n",
              "      <td>От 1 года до 3 лет</td>\n",
              "      <td>Астраханская область</td>\n",
              "      <td>['MS SQL', 'Базы данных', 'MS SQL Server', 'Cи...</td>\n",
              "    </tr>\n",
              "    <tr>\n",
              "      <th>59</th>\n",
              "      <td>55906319.0</td>\n",
              "      <td>Специалист технической поддержки (удаленная ра...</td>\n",
              "      <td>42500.0</td>\n",
              "      <td>ЭР-Телеком</td>\n",
              "      <td>Нет опыта</td>\n",
              "      <td>Астраханская область</td>\n",
              "      <td>['Linux', 'Mac Os', 'Windows 7', 'Citrix', 'Мо...</td>\n",
              "    </tr>\n",
              "    <tr>\n",
              "      <th>64</th>\n",
              "      <td>54785782.0</td>\n",
              "      <td>Ведущий инженер-электроник (Системный админист...</td>\n",
              "      <td>34513.0</td>\n",
              "      <td>Филиал ПАО Россети Юг-Астраханьэнерго</td>\n",
              "      <td>От 1 года до 3 лет</td>\n",
              "      <td>Астраханская область</td>\n",
              "      <td>['Администрирование сетевого оборудования', 'А...</td>\n",
              "    </tr>\n",
              "  </tbody>\n",
              "</table>\n",
              "</div>\n",
              "      <button class=\"colab-df-convert\" onclick=\"convertToInteractive('df-76cdf2c3-0735-4d07-8dae-0260c924b5a3')\"\n",
              "              title=\"Convert this dataframe to an interactive table.\"\n",
              "              style=\"display:none;\">\n",
              "        \n",
              "  <svg xmlns=\"http://www.w3.org/2000/svg\" height=\"24px\"viewBox=\"0 0 24 24\"\n",
              "       width=\"24px\">\n",
              "    <path d=\"M0 0h24v24H0V0z\" fill=\"none\"/>\n",
              "    <path d=\"M18.56 5.44l.94 2.06.94-2.06 2.06-.94-2.06-.94-.94-2.06-.94 2.06-2.06.94zm-11 1L8.5 8.5l.94-2.06 2.06-.94-2.06-.94L8.5 2.5l-.94 2.06-2.06.94zm10 10l.94 2.06.94-2.06 2.06-.94-2.06-.94-.94-2.06-.94 2.06-2.06.94z\"/><path d=\"M17.41 7.96l-1.37-1.37c-.4-.4-.92-.59-1.43-.59-.52 0-1.04.2-1.43.59L10.3 9.45l-7.72 7.72c-.78.78-.78 2.05 0 2.83L4 21.41c.39.39.9.59 1.41.59.51 0 1.02-.2 1.41-.59l7.78-7.78 2.81-2.81c.8-.78.8-2.07 0-2.86zM5.41 20L4 18.59l7.72-7.72 1.47 1.35L5.41 20z\"/>\n",
              "  </svg>\n",
              "      </button>\n",
              "      \n",
              "  <style>\n",
              "    .colab-df-container {\n",
              "      display:flex;\n",
              "      flex-wrap:wrap;\n",
              "      gap: 12px;\n",
              "    }\n",
              "\n",
              "    .colab-df-convert {\n",
              "      background-color: #E8F0FE;\n",
              "      border: none;\n",
              "      border-radius: 50%;\n",
              "      cursor: pointer;\n",
              "      display: none;\n",
              "      fill: #1967D2;\n",
              "      height: 32px;\n",
              "      padding: 0 0 0 0;\n",
              "      width: 32px;\n",
              "    }\n",
              "\n",
              "    .colab-df-convert:hover {\n",
              "      background-color: #E2EBFA;\n",
              "      box-shadow: 0px 1px 2px rgba(60, 64, 67, 0.3), 0px 1px 3px 1px rgba(60, 64, 67, 0.15);\n",
              "      fill: #174EA6;\n",
              "    }\n",
              "\n",
              "    [theme=dark] .colab-df-convert {\n",
              "      background-color: #3B4455;\n",
              "      fill: #D2E3FC;\n",
              "    }\n",
              "\n",
              "    [theme=dark] .colab-df-convert:hover {\n",
              "      background-color: #434B5C;\n",
              "      box-shadow: 0px 1px 3px 1px rgba(0, 0, 0, 0.15);\n",
              "      filter: drop-shadow(0px 1px 2px rgba(0, 0, 0, 0.3));\n",
              "      fill: #FFFFFF;\n",
              "    }\n",
              "  </style>\n",
              "\n",
              "      <script>\n",
              "        const buttonEl =\n",
              "          document.querySelector('#df-76cdf2c3-0735-4d07-8dae-0260c924b5a3 button.colab-df-convert');\n",
              "        buttonEl.style.display =\n",
              "          google.colab.kernel.accessAllowed ? 'block' : 'none';\n",
              "\n",
              "        async function convertToInteractive(key) {\n",
              "          const element = document.querySelector('#df-76cdf2c3-0735-4d07-8dae-0260c924b5a3');\n",
              "          const dataTable =\n",
              "            await google.colab.kernel.invokeFunction('convertToInteractive',\n",
              "                                                     [key], {});\n",
              "          if (!dataTable) return;\n",
              "\n",
              "          const docLinkHtml = 'Like what you see? Visit the ' +\n",
              "            '<a target=\"_blank\" href=https://colab.research.google.com/notebooks/data_table.ipynb>data table notebook</a>'\n",
              "            + ' to learn more about interactive tables.';\n",
              "          element.innerHTML = '';\n",
              "          dataTable['output_type'] = 'display_data';\n",
              "          await google.colab.output.renderOutput(dataTable, element);\n",
              "          const docLink = document.createElement('div');\n",
              "          docLink.innerHTML = docLinkHtml;\n",
              "          element.appendChild(docLink);\n",
              "        }\n",
              "      </script>\n",
              "    </div>\n",
              "  </div>\n",
              "  "
            ]
          },
          "metadata": {},
          "execution_count": 29
        }
      ]
    },
    {
      "cell_type": "code",
      "source": [
        "notSLG_df.head()"
      ],
      "metadata": {
        "colab": {
          "base_uri": "https://localhost:8080/",
          "height": 337
        },
        "id": "mYoiekCQzLMH",
        "outputId": "30927638-b33e-43ed-b14f-7de1b9546152"
      },
      "execution_count": null,
      "outputs": [
        {
          "output_type": "execute_result",
          "data": {
            "text/plain": [
              "           id                                              name   salary  \\\n",
              "3  54031261.0  Ведущий Специалист по информационным технологиям  23008.0   \n",
              "4  55243040.0                   Специалист по защите информации  20000.0   \n",
              "5  53306822.0                   Специалист по защите информации  17500.0   \n",
              "7  55356367.0                   Специалист по защите информации  23894.0   \n",
              "8  55892288.0                 Оператор организационного сектора  30000.0   \n",
              "\n",
              "                                            employer experience  \\\n",
              "3                                       Почта России  Нет опыта   \n",
              "4  ГБПОУ АО Астраханский музыкальный колледж имен...  Нет опыта   \n",
              "5  Отдел мобилизационной подготовки и гражданской...  Нет опыта   \n",
              "7                                      Астраханьстат  Нет опыта   \n",
              "8             Служба по тарифам Астраханской области  Нет опыта   \n",
              "\n",
              "                 region                                         key_skills  \n",
              "3  Астраханская область  ['Пользователь ПК', 'Работа в команде', '1С: П...  \n",
              "4  Астраханская область  ['MS Dos', 'Диагностика ПК', 'Компьютер', 'Раб...  \n",
              "5  Астраханская область                                                 []  \n",
              "7  Астраханская область  ['Пользователь ПК', 'Работа в команде', 'Грамо...  \n",
              "8  Астраханская область  ['Пользователь ПК', 'Работа в команде', 'Грамо...  "
            ],
            "text/html": [
              "\n",
              "  <div id=\"df-e5b63d41-6967-44c0-b681-fef9a1715d43\">\n",
              "    <div class=\"colab-df-container\">\n",
              "      <div>\n",
              "<style scoped>\n",
              "    .dataframe tbody tr th:only-of-type {\n",
              "        vertical-align: middle;\n",
              "    }\n",
              "\n",
              "    .dataframe tbody tr th {\n",
              "        vertical-align: top;\n",
              "    }\n",
              "\n",
              "    .dataframe thead th {\n",
              "        text-align: right;\n",
              "    }\n",
              "</style>\n",
              "<table border=\"1\" class=\"dataframe\">\n",
              "  <thead>\n",
              "    <tr style=\"text-align: right;\">\n",
              "      <th></th>\n",
              "      <th>id</th>\n",
              "      <th>name</th>\n",
              "      <th>salary</th>\n",
              "      <th>employer</th>\n",
              "      <th>experience</th>\n",
              "      <th>region</th>\n",
              "      <th>key_skills</th>\n",
              "    </tr>\n",
              "  </thead>\n",
              "  <tbody>\n",
              "    <tr>\n",
              "      <th>3</th>\n",
              "      <td>54031261.0</td>\n",
              "      <td>Ведущий Специалист по информационным технологиям</td>\n",
              "      <td>23008.0</td>\n",
              "      <td>Почта России</td>\n",
              "      <td>Нет опыта</td>\n",
              "      <td>Астраханская область</td>\n",
              "      <td>['Пользователь ПК', 'Работа в команде', '1С: П...</td>\n",
              "    </tr>\n",
              "    <tr>\n",
              "      <th>4</th>\n",
              "      <td>55243040.0</td>\n",
              "      <td>Специалист по защите информации</td>\n",
              "      <td>20000.0</td>\n",
              "      <td>ГБПОУ АО Астраханский музыкальный колледж имен...</td>\n",
              "      <td>Нет опыта</td>\n",
              "      <td>Астраханская область</td>\n",
              "      <td>['MS Dos', 'Диагностика ПК', 'Компьютер', 'Раб...</td>\n",
              "    </tr>\n",
              "    <tr>\n",
              "      <th>5</th>\n",
              "      <td>53306822.0</td>\n",
              "      <td>Специалист по защите информации</td>\n",
              "      <td>17500.0</td>\n",
              "      <td>Отдел мобилизационной подготовки и гражданской...</td>\n",
              "      <td>Нет опыта</td>\n",
              "      <td>Астраханская область</td>\n",
              "      <td>[]</td>\n",
              "    </tr>\n",
              "    <tr>\n",
              "      <th>7</th>\n",
              "      <td>55356367.0</td>\n",
              "      <td>Специалист по защите информации</td>\n",
              "      <td>23894.0</td>\n",
              "      <td>Астраханьстат</td>\n",
              "      <td>Нет опыта</td>\n",
              "      <td>Астраханская область</td>\n",
              "      <td>['Пользователь ПК', 'Работа в команде', 'Грамо...</td>\n",
              "    </tr>\n",
              "    <tr>\n",
              "      <th>8</th>\n",
              "      <td>55892288.0</td>\n",
              "      <td>Оператор организационного сектора</td>\n",
              "      <td>30000.0</td>\n",
              "      <td>Служба по тарифам Астраханской области</td>\n",
              "      <td>Нет опыта</td>\n",
              "      <td>Астраханская область</td>\n",
              "      <td>['Пользователь ПК', 'Работа в команде', 'Грамо...</td>\n",
              "    </tr>\n",
              "  </tbody>\n",
              "</table>\n",
              "</div>\n",
              "      <button class=\"colab-df-convert\" onclick=\"convertToInteractive('df-e5b63d41-6967-44c0-b681-fef9a1715d43')\"\n",
              "              title=\"Convert this dataframe to an interactive table.\"\n",
              "              style=\"display:none;\">\n",
              "        \n",
              "  <svg xmlns=\"http://www.w3.org/2000/svg\" height=\"24px\"viewBox=\"0 0 24 24\"\n",
              "       width=\"24px\">\n",
              "    <path d=\"M0 0h24v24H0V0z\" fill=\"none\"/>\n",
              "    <path d=\"M18.56 5.44l.94 2.06.94-2.06 2.06-.94-2.06-.94-.94-2.06-.94 2.06-2.06.94zm-11 1L8.5 8.5l.94-2.06 2.06-.94-2.06-.94L8.5 2.5l-.94 2.06-2.06.94zm10 10l.94 2.06.94-2.06 2.06-.94-2.06-.94-.94-2.06-.94 2.06-2.06.94z\"/><path d=\"M17.41 7.96l-1.37-1.37c-.4-.4-.92-.59-1.43-.59-.52 0-1.04.2-1.43.59L10.3 9.45l-7.72 7.72c-.78.78-.78 2.05 0 2.83L4 21.41c.39.39.9.59 1.41.59.51 0 1.02-.2 1.41-.59l7.78-7.78 2.81-2.81c.8-.78.8-2.07 0-2.86zM5.41 20L4 18.59l7.72-7.72 1.47 1.35L5.41 20z\"/>\n",
              "  </svg>\n",
              "      </button>\n",
              "      \n",
              "  <style>\n",
              "    .colab-df-container {\n",
              "      display:flex;\n",
              "      flex-wrap:wrap;\n",
              "      gap: 12px;\n",
              "    }\n",
              "\n",
              "    .colab-df-convert {\n",
              "      background-color: #E8F0FE;\n",
              "      border: none;\n",
              "      border-radius: 50%;\n",
              "      cursor: pointer;\n",
              "      display: none;\n",
              "      fill: #1967D2;\n",
              "      height: 32px;\n",
              "      padding: 0 0 0 0;\n",
              "      width: 32px;\n",
              "    }\n",
              "\n",
              "    .colab-df-convert:hover {\n",
              "      background-color: #E2EBFA;\n",
              "      box-shadow: 0px 1px 2px rgba(60, 64, 67, 0.3), 0px 1px 3px 1px rgba(60, 64, 67, 0.15);\n",
              "      fill: #174EA6;\n",
              "    }\n",
              "\n",
              "    [theme=dark] .colab-df-convert {\n",
              "      background-color: #3B4455;\n",
              "      fill: #D2E3FC;\n",
              "    }\n",
              "\n",
              "    [theme=dark] .colab-df-convert:hover {\n",
              "      background-color: #434B5C;\n",
              "      box-shadow: 0px 1px 3px 1px rgba(0, 0, 0, 0.15);\n",
              "      filter: drop-shadow(0px 1px 2px rgba(0, 0, 0, 0.3));\n",
              "      fill: #FFFFFF;\n",
              "    }\n",
              "  </style>\n",
              "\n",
              "      <script>\n",
              "        const buttonEl =\n",
              "          document.querySelector('#df-e5b63d41-6967-44c0-b681-fef9a1715d43 button.colab-df-convert');\n",
              "        buttonEl.style.display =\n",
              "          google.colab.kernel.accessAllowed ? 'block' : 'none';\n",
              "\n",
              "        async function convertToInteractive(key) {\n",
              "          const element = document.querySelector('#df-e5b63d41-6967-44c0-b681-fef9a1715d43');\n",
              "          const dataTable =\n",
              "            await google.colab.kernel.invokeFunction('convertToInteractive',\n",
              "                                                     [key], {});\n",
              "          if (!dataTable) return;\n",
              "\n",
              "          const docLinkHtml = 'Like what you see? Visit the ' +\n",
              "            '<a target=\"_blank\" href=https://colab.research.google.com/notebooks/data_table.ipynb>data table notebook</a>'\n",
              "            + ' to learn more about interactive tables.';\n",
              "          element.innerHTML = '';\n",
              "          dataTable['output_type'] = 'display_data';\n",
              "          await google.colab.output.renderOutput(dataTable, element);\n",
              "          const docLink = document.createElement('div');\n",
              "          docLink.innerHTML = docLinkHtml;\n",
              "          element.appendChild(docLink);\n",
              "        }\n",
              "      </script>\n",
              "    </div>\n",
              "  </div>\n",
              "  "
            ]
          },
          "metadata": {},
          "execution_count": 30
        }
      ]
    },
    {
      "cell_type": "code",
      "source": [
        "SLG_df['salary'].median()"
      ],
      "metadata": {
        "colab": {
          "base_uri": "https://localhost:8080/"
        },
        "id": "iaWUkatC09og",
        "outputId": "96263521-8a82-4fa6-eacf-ffb59e7ed4b6"
      },
      "execution_count": null,
      "outputs": [
        {
          "output_type": "execute_result",
          "data": {
            "text/plain": [
              "100000.0"
            ]
          },
          "metadata": {},
          "execution_count": 31
        }
      ]
    },
    {
      "cell_type": "code",
      "source": [
        "SLG_df['salary'].mean()"
      ],
      "metadata": {
        "colab": {
          "base_uri": "https://localhost:8080/"
        },
        "id": "Mc8mRBqoyNSz",
        "outputId": "e43a6410-4753-4aec-f9f8-4d1d6048ddff"
      },
      "execution_count": null,
      "outputs": [
        {
          "output_type": "execute_result",
          "data": {
            "text/plain": [
              "110841.48584809611"
            ]
          },
          "metadata": {},
          "execution_count": 32
        }
      ]
    },
    {
      "cell_type": "code",
      "source": [
        "notSLG_df['salary'].median()"
      ],
      "metadata": {
        "colab": {
          "base_uri": "https://localhost:8080/"
        },
        "id": "vDCitHxn1B2k",
        "outputId": "ddd4d5ac-81d7-4658-a8fe-285ca4c7fc2b"
      },
      "execution_count": null,
      "outputs": [
        {
          "output_type": "execute_result",
          "data": {
            "text/plain": [
              "60000.0"
            ]
          },
          "metadata": {},
          "execution_count": 33
        }
      ]
    },
    {
      "cell_type": "code",
      "source": [
        "notSLG_df['salary'].mean()"
      ],
      "metadata": {
        "colab": {
          "base_uri": "https://localhost:8080/"
        },
        "id": "154vdIgZyNQJ",
        "outputId": "9f60f7a1-ba2c-4639-b8fb-bb2dafd096a2"
      },
      "execution_count": null,
      "outputs": [
        {
          "output_type": "execute_result",
          "data": {
            "text/plain": [
              "74081.15820118929"
            ]
          },
          "metadata": {},
          "execution_count": 34
        }
      ]
    },
    {
      "cell_type": "markdown",
      "source": [
        "Видно, что среднее значение зарплаты по вакансиям без исследуемых навыков (81970) практически на 40% меньше, чем с навыками (130590), медианное значение практически в 2 раза меньше."
      ],
      "metadata": {
        "id": "G888yfvuyiIX"
      }
    },
    {
      "cell_type": "markdown",
      "source": [
        "Проверяю распределение данных в группах:"
      ],
      "metadata": {
        "id": "jYNoNEAO6qy6"
      }
    },
    {
      "cell_type": "code",
      "source": [
        "stats.shapiro(SLG_df['salary'])  "
      ],
      "metadata": {
        "colab": {
          "base_uri": "https://localhost:8080/"
        },
        "id": "_guxxwrT3d40",
        "outputId": "82bf4cdc-2cc1-42cf-bf3a-dbd87b60f81c"
      },
      "execution_count": null,
      "outputs": [
        {
          "output_type": "execute_result",
          "data": {
            "text/plain": [
              "ShapiroResult(statistic=0.9544792771339417, pvalue=1.2808366601974373e-36)"
            ]
          },
          "metadata": {},
          "execution_count": 35
        }
      ]
    },
    {
      "cell_type": "code",
      "source": [
        "stats.shapiro(notSLG_df['salary'])"
      ],
      "metadata": {
        "colab": {
          "base_uri": "https://localhost:8080/"
        },
        "id": "JEyJVAVv4rdL",
        "outputId": "34b633ba-886b-4035-988f-b7233fbdd603"
      },
      "execution_count": null,
      "outputs": [
        {
          "output_type": "stream",
          "name": "stderr",
          "text": [
            "/usr/local/lib/python3.7/dist-packages/scipy/stats/morestats.py:1760: UserWarning: p-value may not be accurate for N > 5000.\n",
            "  warnings.warn(\"p-value may not be accurate for N > 5000.\")\n"
          ]
        },
        {
          "output_type": "execute_result",
          "data": {
            "text/plain": [
              "ShapiroResult(statistic=0.8900742530822754, pvalue=0.0)"
            ]
          },
          "metadata": {},
          "execution_count": 36
        }
      ]
    },
    {
      "cell_type": "markdown",
      "source": [
        "Обе группы имеют ненормальное распределение. Выбираю критерий сравнения групп:\n",
        "- данные количественные\n",
        "- распределение ненормальное в обоих группах\n",
        "- количество групп: 2\n",
        "- группы независимые\n",
        "\n",
        "Выбираю критерий Манна-Уитни."
      ],
      "metadata": {
        "id": "o4tY3fj-61US"
      }
    },
    {
      "cell_type": "code",
      "source": [
        "scipy.stats.mannwhitneyu(SLG_df['salary'],notSLG_df['salary'])"
      ],
      "metadata": {
        "colab": {
          "base_uri": "https://localhost:8080/"
        },
        "id": "F0m0BG83yNNP",
        "outputId": "49cc14df-991c-4908-f129-4331fe729184"
      },
      "execution_count": null,
      "outputs": [
        {
          "output_type": "execute_result",
          "data": {
            "text/plain": [
              "MannwhitneyuResult(statistic=55364504.0, pvalue=0.0)"
            ]
          },
          "metadata": {},
          "execution_count": 37
        }
      ]
    },
    {
      "cell_type": "markdown",
      "source": [
        "При значении p-value = 0 отвергаю нулевую гипотезу, делаю вывод (получаю подверждение), что владение тремя самыми частыми навыками (Git, Linux, SQL) статистически значимо повышает уровень зарплаты в соответствующей области"
      ],
      "metadata": {
        "id": "e3sT9oyg7tHT"
      }
    },
    {
      "cell_type": "code",
      "source": [],
      "metadata": {
        "id": "ZRhzyLXeEV8C"
      },
      "execution_count": null,
      "outputs": []
    },
    {
      "cell_type": "code",
      "source": [],
      "metadata": {
        "id": "59WLVxyLEV5G"
      },
      "execution_count": null,
      "outputs": []
    },
    {
      "cell_type": "code",
      "source": [],
      "metadata": {
        "id": "BzsFcsB_EV2M"
      },
      "execution_count": null,
      "outputs": []
    },
    {
      "cell_type": "code",
      "source": [],
      "metadata": {
        "id": "26zdyEdTEVzk"
      },
      "execution_count": null,
      "outputs": []
    },
    {
      "cell_type": "code",
      "source": [],
      "metadata": {
        "id": "NurbdLorEVwU"
      },
      "execution_count": null,
      "outputs": []
    },
    {
      "cell_type": "code",
      "source": [],
      "metadata": {
        "id": "7LSPY8APEVts"
      },
      "execution_count": null,
      "outputs": []
    },
    {
      "cell_type": "code",
      "source": [],
      "metadata": {
        "id": "BsH_7GYpEVrp"
      },
      "execution_count": null,
      "outputs": []
    },
    {
      "cell_type": "code",
      "source": [],
      "metadata": {
        "id": "3hOK4OwLEVn7"
      },
      "execution_count": null,
      "outputs": []
    },
    {
      "cell_type": "code",
      "source": [],
      "metadata": {
        "id": "QHSzZe73EVlb"
      },
      "execution_count": null,
      "outputs": []
    },
    {
      "cell_type": "code",
      "source": [],
      "metadata": {
        "id": "rWJo_0olEViC"
      },
      "execution_count": null,
      "outputs": []
    },
    {
      "cell_type": "code",
      "source": [],
      "metadata": {
        "id": "TdfuyJtsEVfK"
      },
      "execution_count": null,
      "outputs": []
    },
    {
      "cell_type": "code",
      "source": [],
      "metadata": {
        "id": "iPlc5wY4yM-A"
      },
      "execution_count": null,
      "outputs": []
    },
    {
      "cell_type": "code",
      "source": [],
      "metadata": {
        "id": "VC5Cprp_yM7P"
      },
      "execution_count": null,
      "outputs": []
    },
    {
      "cell_type": "markdown",
      "source": [
        "________________________________\n",
        "Технический подвал, заметки"
      ],
      "metadata": {
        "id": "c_yKczadxlTd"
      }
    },
    {
      "cell_type": "code",
      "source": [
        "df.name.value_counts()"
      ],
      "metadata": {
        "colab": {
          "base_uri": "https://localhost:8080/"
        },
        "id": "PH2QXlPqsBYC",
        "outputId": "7a733643-336e-4682-a5be-71377c711143"
      },
      "execution_count": null,
      "outputs": [
        {
          "output_type": "execute_result",
          "data": {
            "text/plain": [
              "Системный администратор                                                        1119\n",
              "Программист 1C                                                                  897\n",
              "Специалист технической поддержки                                                327\n",
              "Инженер-программист                                                             224\n",
              "Графический дизайнер                                                            222\n",
              "                                                                               ... \n",
              "Главный специалист технической поддержки, Автоторгбанк                            1\n",
              "Специалист технической поддержки (3-я линия)                                      1\n",
              "ИТ-специалист (поддержка иностранных пользователей)                               1\n",
              "Инженер технической поддержки / Начинающий специалист технической поддержки       1\n",
              "Технический директор (DevOps, технолог)                                           1\n",
              "Name: name, Length: 9650, dtype: int64"
            ]
          },
          "metadata": {},
          "execution_count": 38
        }
      ]
    },
    {
      "cell_type": "code",
      "source": [
        "df.groupby('name', as_index=False).agg({'id': 'count', 'salary': 'mean'}).sort_values('id', ascending=False).head(10)"
      ],
      "metadata": {
        "colab": {
          "base_uri": "https://localhost:8080/",
          "height": 363
        },
        "id": "KV0RaMvuRerE",
        "outputId": "8534fac0-4bf5-4443-8998-415a3d6e27d8"
      },
      "execution_count": null,
      "outputs": [
        {
          "output_type": "execute_result",
          "data": {
            "text/plain": [
              "                                                   name    id         salary\n",
              "7733                            Системный администратор  1119   56557.073280\n",
              "6378                                     Программист 1C   897  108936.283166\n",
              "8824                   Специалист технической поддержки   327   47111.082569\n",
              "4856                                Инженер-программист   224   52987.147321\n",
              "3819                               Графический дизайнер   222   50478.990991\n",
              "3900                                           Дизайнер   187   45735.326203\n",
              "8763        Специалист службы поддержки в Яндекс Бизнес   168   23008.000000\n",
              "4760                      Инженер технической поддержки   159   50410.213836\n",
              "2405                                           Аналитик   158   63752.145570\n",
              "8761  Специалист службы поддержки Рекламной сети Янд...   141   37611.000000"
            ],
            "text/html": [
              "\n",
              "  <div id=\"df-9579fc3c-de88-4655-9f9a-b70dc62ce771\">\n",
              "    <div class=\"colab-df-container\">\n",
              "      <div>\n",
              "<style scoped>\n",
              "    .dataframe tbody tr th:only-of-type {\n",
              "        vertical-align: middle;\n",
              "    }\n",
              "\n",
              "    .dataframe tbody tr th {\n",
              "        vertical-align: top;\n",
              "    }\n",
              "\n",
              "    .dataframe thead th {\n",
              "        text-align: right;\n",
              "    }\n",
              "</style>\n",
              "<table border=\"1\" class=\"dataframe\">\n",
              "  <thead>\n",
              "    <tr style=\"text-align: right;\">\n",
              "      <th></th>\n",
              "      <th>name</th>\n",
              "      <th>id</th>\n",
              "      <th>salary</th>\n",
              "    </tr>\n",
              "  </thead>\n",
              "  <tbody>\n",
              "    <tr>\n",
              "      <th>7733</th>\n",
              "      <td>Системный администратор</td>\n",
              "      <td>1119</td>\n",
              "      <td>56557.073280</td>\n",
              "    </tr>\n",
              "    <tr>\n",
              "      <th>6378</th>\n",
              "      <td>Программист 1C</td>\n",
              "      <td>897</td>\n",
              "      <td>108936.283166</td>\n",
              "    </tr>\n",
              "    <tr>\n",
              "      <th>8824</th>\n",
              "      <td>Специалист технической поддержки</td>\n",
              "      <td>327</td>\n",
              "      <td>47111.082569</td>\n",
              "    </tr>\n",
              "    <tr>\n",
              "      <th>4856</th>\n",
              "      <td>Инженер-программист</td>\n",
              "      <td>224</td>\n",
              "      <td>52987.147321</td>\n",
              "    </tr>\n",
              "    <tr>\n",
              "      <th>3819</th>\n",
              "      <td>Графический дизайнер</td>\n",
              "      <td>222</td>\n",
              "      <td>50478.990991</td>\n",
              "    </tr>\n",
              "    <tr>\n",
              "      <th>3900</th>\n",
              "      <td>Дизайнер</td>\n",
              "      <td>187</td>\n",
              "      <td>45735.326203</td>\n",
              "    </tr>\n",
              "    <tr>\n",
              "      <th>8763</th>\n",
              "      <td>Специалист службы поддержки в Яндекс Бизнес</td>\n",
              "      <td>168</td>\n",
              "      <td>23008.000000</td>\n",
              "    </tr>\n",
              "    <tr>\n",
              "      <th>4760</th>\n",
              "      <td>Инженер технической поддержки</td>\n",
              "      <td>159</td>\n",
              "      <td>50410.213836</td>\n",
              "    </tr>\n",
              "    <tr>\n",
              "      <th>2405</th>\n",
              "      <td>Аналитик</td>\n",
              "      <td>158</td>\n",
              "      <td>63752.145570</td>\n",
              "    </tr>\n",
              "    <tr>\n",
              "      <th>8761</th>\n",
              "      <td>Специалист службы поддержки Рекламной сети Янд...</td>\n",
              "      <td>141</td>\n",
              "      <td>37611.000000</td>\n",
              "    </tr>\n",
              "  </tbody>\n",
              "</table>\n",
              "</div>\n",
              "      <button class=\"colab-df-convert\" onclick=\"convertToInteractive('df-9579fc3c-de88-4655-9f9a-b70dc62ce771')\"\n",
              "              title=\"Convert this dataframe to an interactive table.\"\n",
              "              style=\"display:none;\">\n",
              "        \n",
              "  <svg xmlns=\"http://www.w3.org/2000/svg\" height=\"24px\"viewBox=\"0 0 24 24\"\n",
              "       width=\"24px\">\n",
              "    <path d=\"M0 0h24v24H0V0z\" fill=\"none\"/>\n",
              "    <path d=\"M18.56 5.44l.94 2.06.94-2.06 2.06-.94-2.06-.94-.94-2.06-.94 2.06-2.06.94zm-11 1L8.5 8.5l.94-2.06 2.06-.94-2.06-.94L8.5 2.5l-.94 2.06-2.06.94zm10 10l.94 2.06.94-2.06 2.06-.94-2.06-.94-.94-2.06-.94 2.06-2.06.94z\"/><path d=\"M17.41 7.96l-1.37-1.37c-.4-.4-.92-.59-1.43-.59-.52 0-1.04.2-1.43.59L10.3 9.45l-7.72 7.72c-.78.78-.78 2.05 0 2.83L4 21.41c.39.39.9.59 1.41.59.51 0 1.02-.2 1.41-.59l7.78-7.78 2.81-2.81c.8-.78.8-2.07 0-2.86zM5.41 20L4 18.59l7.72-7.72 1.47 1.35L5.41 20z\"/>\n",
              "  </svg>\n",
              "      </button>\n",
              "      \n",
              "  <style>\n",
              "    .colab-df-container {\n",
              "      display:flex;\n",
              "      flex-wrap:wrap;\n",
              "      gap: 12px;\n",
              "    }\n",
              "\n",
              "    .colab-df-convert {\n",
              "      background-color: #E8F0FE;\n",
              "      border: none;\n",
              "      border-radius: 50%;\n",
              "      cursor: pointer;\n",
              "      display: none;\n",
              "      fill: #1967D2;\n",
              "      height: 32px;\n",
              "      padding: 0 0 0 0;\n",
              "      width: 32px;\n",
              "    }\n",
              "\n",
              "    .colab-df-convert:hover {\n",
              "      background-color: #E2EBFA;\n",
              "      box-shadow: 0px 1px 2px rgba(60, 64, 67, 0.3), 0px 1px 3px 1px rgba(60, 64, 67, 0.15);\n",
              "      fill: #174EA6;\n",
              "    }\n",
              "\n",
              "    [theme=dark] .colab-df-convert {\n",
              "      background-color: #3B4455;\n",
              "      fill: #D2E3FC;\n",
              "    }\n",
              "\n",
              "    [theme=dark] .colab-df-convert:hover {\n",
              "      background-color: #434B5C;\n",
              "      box-shadow: 0px 1px 3px 1px rgba(0, 0, 0, 0.15);\n",
              "      filter: drop-shadow(0px 1px 2px rgba(0, 0, 0, 0.3));\n",
              "      fill: #FFFFFF;\n",
              "    }\n",
              "  </style>\n",
              "\n",
              "      <script>\n",
              "        const buttonEl =\n",
              "          document.querySelector('#df-9579fc3c-de88-4655-9f9a-b70dc62ce771 button.colab-df-convert');\n",
              "        buttonEl.style.display =\n",
              "          google.colab.kernel.accessAllowed ? 'block' : 'none';\n",
              "\n",
              "        async function convertToInteractive(key) {\n",
              "          const element = document.querySelector('#df-9579fc3c-de88-4655-9f9a-b70dc62ce771');\n",
              "          const dataTable =\n",
              "            await google.colab.kernel.invokeFunction('convertToInteractive',\n",
              "                                                     [key], {});\n",
              "          if (!dataTable) return;\n",
              "\n",
              "          const docLinkHtml = 'Like what you see? Visit the ' +\n",
              "            '<a target=\"_blank\" href=https://colab.research.google.com/notebooks/data_table.ipynb>data table notebook</a>'\n",
              "            + ' to learn more about interactive tables.';\n",
              "          element.innerHTML = '';\n",
              "          dataTable['output_type'] = 'display_data';\n",
              "          await google.colab.output.renderOutput(dataTable, element);\n",
              "          const docLink = document.createElement('div');\n",
              "          docLink.innerHTML = docLinkHtml;\n",
              "          element.appendChild(docLink);\n",
              "        }\n",
              "      </script>\n",
              "    </div>\n",
              "  </div>\n",
              "  "
            ]
          },
          "metadata": {},
          "execution_count": 39
        }
      ]
    },
    {
      "cell_type": "code",
      "source": [],
      "metadata": {
        "id": "E4vxQzevDsKp"
      },
      "execution_count": null,
      "outputs": []
    }
  ]
}