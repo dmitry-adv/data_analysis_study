{
  "nbformat": 4,
  "nbformat_minor": 0,
  "metadata": {
    "colab": {
      "provenance": [],
      "collapsed_sections": []
    },
    "kernelspec": {
      "name": "python3",
      "display_name": "Python 3"
    },
    "language_info": {
      "name": "python"
    }
  },
  "cells": [
    {
      "cell_type": "markdown",
      "source": [
        "## Импортирую необходимые библиотеки"
      ],
      "metadata": {
        "id": "bLpLQBKi6d-W"
      }
    },
    {
      "cell_type": "code",
      "execution_count": null,
      "metadata": {
        "id": "jsZnpHCT5GTN"
      },
      "outputs": [],
      "source": [
        "#!pip install -q xlrd  # пакет для чтения excel-файлов\n",
        "import json\n",
        "import pandas as pd\n",
        "import matplotlib.pyplot as plt\n",
        "import seaborn as sns\n",
        "%matplotlib inline"
      ]
    },
    {
      "cell_type": "code",
      "source": [
        "pd.set_option('max_columns', 50)  # отображать 50 колонок максимум\n",
        "pd.set_option('max_rows', 25)  # отображать 25 строк максимум\n",
        "# pd.set_option('display.max_colwidth', None)  # отображать весь текст в ячейках"
      ],
      "metadata": {
        "id": "71COpP_pjmvJ"
      },
      "execution_count": null,
      "outputs": []
    },
    {
      "cell_type": "markdown",
      "source": [
        "Загрузка файла данных с диска"
      ],
      "metadata": {
        "id": "TZAxMVVI6tYo"
      }
    },
    {
      "cell_type": "code",
      "source": [
        "!gdown 1WhPlHp-aW0QHlHXUag2Hm7A8XzOkr5Ac"
      ],
      "metadata": {
        "id": "jU4l2Dpq5Otl",
        "colab": {
          "base_uri": "https://localhost:8080/"
        },
        "outputId": "de4acc42-2256-442f-a110-ce80c4b3e2c3"
      },
      "execution_count": null,
      "outputs": [
        {
          "output_type": "stream",
          "name": "stdout",
          "text": [
            "Downloading...\n",
            "From: https://drive.google.com/uc?id=1WhPlHp-aW0QHlHXUag2Hm7A8XzOkr5Ac\n",
            "To: /content/data26.xlsx\n",
            "100% 84.4M/84.4M [00:00<00:00, 155MB/s]\n"
          ]
        }
      ]
    },
    {
      "cell_type": "markdown",
      "source": [
        "## 1. Создаю DataFrame, изучаю его"
      ],
      "metadata": {
        "id": "qF-kwiUs63wY"
      }
    },
    {
      "cell_type": "code",
      "source": [
        "df = pd.read_excel('data26.xlsx')"
      ],
      "metadata": {
        "id": "-I_irUtE5YJU"
      },
      "execution_count": null,
      "outputs": []
    },
    {
      "cell_type": "code",
      "source": [
        "df.shape"
      ],
      "metadata": {
        "colab": {
          "base_uri": "https://localhost:8080/"
        },
        "id": "ic0hZF1gF3-W",
        "outputId": "fcc2254f-f90c-402c-9e4d-9c9ff8e52212"
      },
      "execution_count": null,
      "outputs": [
        {
          "output_type": "execute_result",
          "data": {
            "text/plain": [
              "(69656, 34)"
            ]
          },
          "metadata": {},
          "execution_count": 5
        }
      ]
    },
    {
      "cell_type": "code",
      "source": [
        "df = df.drop_duplicates(['name', 'employer', 'department', 'area'])  # удаляю дубликаты с учтётом значений в 4-х колонках"
      ],
      "metadata": {
        "id": "kGQZEXAsnInA"
      },
      "execution_count": null,
      "outputs": []
    },
    {
      "cell_type": "code",
      "source": [
        "df.shape"
      ],
      "metadata": {
        "colab": {
          "base_uri": "https://localhost:8080/"
        },
        "id": "Es22uDXV6VqE",
        "outputId": "1b9c5160-ba59-4fc2-d6c2-8226e5b721d7"
      },
      "execution_count": null,
      "outputs": [
        {
          "output_type": "execute_result",
          "data": {
            "text/plain": [
              "(68265, 34)"
            ]
          },
          "metadata": {},
          "execution_count": 7
        }
      ]
    },
    {
      "cell_type": "code",
      "source": [
        "df.info()"
      ],
      "metadata": {
        "colab": {
          "base_uri": "https://localhost:8080/"
        },
        "id": "JwBoNX9S7CN9",
        "outputId": "ebcef69c-dc3e-4ad1-d402-e782ab22a695"
      },
      "execution_count": null,
      "outputs": [
        {
          "output_type": "stream",
          "name": "stdout",
          "text": [
            "<class 'pandas.core.frame.DataFrame'>\n",
            "Int64Index: 68265 entries, 0 to 69655\n",
            "Data columns (total 34 columns):\n",
            " #   Column                    Non-Null Count  Dtype  \n",
            "---  ------                    --------------  -----  \n",
            " 0   Unnamed: 0                68265 non-null  int64  \n",
            " 1   id                        68265 non-null  int64  \n",
            " 2   premium                   68265 non-null  bool   \n",
            " 3   name                      68265 non-null  object \n",
            " 4   department                5083 non-null   object \n",
            " 5   has_test                  68265 non-null  bool   \n",
            " 6   response_letter_required  68265 non-null  bool   \n",
            " 7   area                      68265 non-null  object \n",
            " 8   salary                    36724 non-null  object \n",
            " 9   type                      68265 non-null  object \n",
            " 10  address                   39434 non-null  object \n",
            " 11  response_url              1 non-null      object \n",
            " 12  sort_point_distance       0 non-null      float64\n",
            " 13  published_at              68265 non-null  object \n",
            " 14  created_at                68265 non-null  object \n",
            " 15  archived                  68265 non-null  bool   \n",
            " 16  insider_interview         512 non-null    object \n",
            " 17  url                       68265 non-null  object \n",
            " 18  alternate_url             68265 non-null  object \n",
            " 19  relations                 68265 non-null  object \n",
            " 20  employer                  68265 non-null  object \n",
            " 21  snippet                   68265 non-null  object \n",
            " 22  contacts                  34306 non-null  object \n",
            " 23  schedule                  68265 non-null  object \n",
            " 24  working_days              68265 non-null  object \n",
            " 25  working_time_intervals    68265 non-null  object \n",
            " 26  working_time_modes        68265 non-null  object \n",
            " 27  accept_temporary          68265 non-null  bool   \n",
            " 28  description               68265 non-null  object \n",
            " 29  experience                68265 non-null  object \n",
            " 30  key_skills                68265 non-null  object \n",
            " 31  specializations           68265 non-null  object \n",
            " 32  region                    68265 non-null  object \n",
            " 33  immediate_redirect_url    1 non-null      object \n",
            "dtypes: bool(5), float64(1), int64(2), object(26)\n",
            "memory usage: 16.0+ MB\n"
          ]
        }
      ]
    },
    {
      "cell_type": "code",
      "source": [
        "df.describe()  # по умолчанию никакой полезной информации в статистиках"
      ],
      "metadata": {
        "colab": {
          "base_uri": "https://localhost:8080/",
          "height": 300
        },
        "id": "wvbBbteH93wW",
        "outputId": "200b0345-54eb-41b6-c03f-9b9315e361cf"
      },
      "execution_count": null,
      "outputs": [
        {
          "output_type": "execute_result",
          "data": {
            "text/plain": [
              "         Unnamed: 0            id  sort_point_distance\n",
              "count  68265.000000  6.826500e+04                  0.0\n",
              "mean    3761.696829  5.464607e+07                  NaN\n",
              "std     5239.911472  4.018582e+06                  NaN\n",
              "min        0.000000  6.555939e+06                  NaN\n",
              "25%      306.000000  5.444951e+07                  NaN\n",
              "50%     1141.000000  5.519356e+07                  NaN\n",
              "75%     5388.000000  5.547258e+07                  NaN\n",
              "max    20065.000000  6.611540e+07                  NaN"
            ],
            "text/html": [
              "\n",
              "  <div id=\"df-c8a474d4-0b9f-446f-b7c3-25f86d52f6ac\">\n",
              "    <div class=\"colab-df-container\">\n",
              "      <div>\n",
              "<style scoped>\n",
              "    .dataframe tbody tr th:only-of-type {\n",
              "        vertical-align: middle;\n",
              "    }\n",
              "\n",
              "    .dataframe tbody tr th {\n",
              "        vertical-align: top;\n",
              "    }\n",
              "\n",
              "    .dataframe thead th {\n",
              "        text-align: right;\n",
              "    }\n",
              "</style>\n",
              "<table border=\"1\" class=\"dataframe\">\n",
              "  <thead>\n",
              "    <tr style=\"text-align: right;\">\n",
              "      <th></th>\n",
              "      <th>Unnamed: 0</th>\n",
              "      <th>id</th>\n",
              "      <th>sort_point_distance</th>\n",
              "    </tr>\n",
              "  </thead>\n",
              "  <tbody>\n",
              "    <tr>\n",
              "      <th>count</th>\n",
              "      <td>68265.000000</td>\n",
              "      <td>6.826500e+04</td>\n",
              "      <td>0.0</td>\n",
              "    </tr>\n",
              "    <tr>\n",
              "      <th>mean</th>\n",
              "      <td>3761.696829</td>\n",
              "      <td>5.464607e+07</td>\n",
              "      <td>NaN</td>\n",
              "    </tr>\n",
              "    <tr>\n",
              "      <th>std</th>\n",
              "      <td>5239.911472</td>\n",
              "      <td>4.018582e+06</td>\n",
              "      <td>NaN</td>\n",
              "    </tr>\n",
              "    <tr>\n",
              "      <th>min</th>\n",
              "      <td>0.000000</td>\n",
              "      <td>6.555939e+06</td>\n",
              "      <td>NaN</td>\n",
              "    </tr>\n",
              "    <tr>\n",
              "      <th>25%</th>\n",
              "      <td>306.000000</td>\n",
              "      <td>5.444951e+07</td>\n",
              "      <td>NaN</td>\n",
              "    </tr>\n",
              "    <tr>\n",
              "      <th>50%</th>\n",
              "      <td>1141.000000</td>\n",
              "      <td>5.519356e+07</td>\n",
              "      <td>NaN</td>\n",
              "    </tr>\n",
              "    <tr>\n",
              "      <th>75%</th>\n",
              "      <td>5388.000000</td>\n",
              "      <td>5.547258e+07</td>\n",
              "      <td>NaN</td>\n",
              "    </tr>\n",
              "    <tr>\n",
              "      <th>max</th>\n",
              "      <td>20065.000000</td>\n",
              "      <td>6.611540e+07</td>\n",
              "      <td>NaN</td>\n",
              "    </tr>\n",
              "  </tbody>\n",
              "</table>\n",
              "</div>\n",
              "      <button class=\"colab-df-convert\" onclick=\"convertToInteractive('df-c8a474d4-0b9f-446f-b7c3-25f86d52f6ac')\"\n",
              "              title=\"Convert this dataframe to an interactive table.\"\n",
              "              style=\"display:none;\">\n",
              "        \n",
              "  <svg xmlns=\"http://www.w3.org/2000/svg\" height=\"24px\"viewBox=\"0 0 24 24\"\n",
              "       width=\"24px\">\n",
              "    <path d=\"M0 0h24v24H0V0z\" fill=\"none\"/>\n",
              "    <path d=\"M18.56 5.44l.94 2.06.94-2.06 2.06-.94-2.06-.94-.94-2.06-.94 2.06-2.06.94zm-11 1L8.5 8.5l.94-2.06 2.06-.94-2.06-.94L8.5 2.5l-.94 2.06-2.06.94zm10 10l.94 2.06.94-2.06 2.06-.94-2.06-.94-.94-2.06-.94 2.06-2.06.94z\"/><path d=\"M17.41 7.96l-1.37-1.37c-.4-.4-.92-.59-1.43-.59-.52 0-1.04.2-1.43.59L10.3 9.45l-7.72 7.72c-.78.78-.78 2.05 0 2.83L4 21.41c.39.39.9.59 1.41.59.51 0 1.02-.2 1.41-.59l7.78-7.78 2.81-2.81c.8-.78.8-2.07 0-2.86zM5.41 20L4 18.59l7.72-7.72 1.47 1.35L5.41 20z\"/>\n",
              "  </svg>\n",
              "      </button>\n",
              "      \n",
              "  <style>\n",
              "    .colab-df-container {\n",
              "      display:flex;\n",
              "      flex-wrap:wrap;\n",
              "      gap: 12px;\n",
              "    }\n",
              "\n",
              "    .colab-df-convert {\n",
              "      background-color: #E8F0FE;\n",
              "      border: none;\n",
              "      border-radius: 50%;\n",
              "      cursor: pointer;\n",
              "      display: none;\n",
              "      fill: #1967D2;\n",
              "      height: 32px;\n",
              "      padding: 0 0 0 0;\n",
              "      width: 32px;\n",
              "    }\n",
              "\n",
              "    .colab-df-convert:hover {\n",
              "      background-color: #E2EBFA;\n",
              "      box-shadow: 0px 1px 2px rgba(60, 64, 67, 0.3), 0px 1px 3px 1px rgba(60, 64, 67, 0.15);\n",
              "      fill: #174EA6;\n",
              "    }\n",
              "\n",
              "    [theme=dark] .colab-df-convert {\n",
              "      background-color: #3B4455;\n",
              "      fill: #D2E3FC;\n",
              "    }\n",
              "\n",
              "    [theme=dark] .colab-df-convert:hover {\n",
              "      background-color: #434B5C;\n",
              "      box-shadow: 0px 1px 3px 1px rgba(0, 0, 0, 0.15);\n",
              "      filter: drop-shadow(0px 1px 2px rgba(0, 0, 0, 0.3));\n",
              "      fill: #FFFFFF;\n",
              "    }\n",
              "  </style>\n",
              "\n",
              "      <script>\n",
              "        const buttonEl =\n",
              "          document.querySelector('#df-c8a474d4-0b9f-446f-b7c3-25f86d52f6ac button.colab-df-convert');\n",
              "        buttonEl.style.display =\n",
              "          google.colab.kernel.accessAllowed ? 'block' : 'none';\n",
              "\n",
              "        async function convertToInteractive(key) {\n",
              "          const element = document.querySelector('#df-c8a474d4-0b9f-446f-b7c3-25f86d52f6ac');\n",
              "          const dataTable =\n",
              "            await google.colab.kernel.invokeFunction('convertToInteractive',\n",
              "                                                     [key], {});\n",
              "          if (!dataTable) return;\n",
              "\n",
              "          const docLinkHtml = 'Like what you see? Visit the ' +\n",
              "            '<a target=\"_blank\" href=https://colab.research.google.com/notebooks/data_table.ipynb>data table notebook</a>'\n",
              "            + ' to learn more about interactive tables.';\n",
              "          element.innerHTML = '';\n",
              "          dataTable['output_type'] = 'display_data';\n",
              "          await google.colab.output.renderOutput(dataTable, element);\n",
              "          const docLink = document.createElement('div');\n",
              "          docLink.innerHTML = docLinkHtml;\n",
              "          element.appendChild(docLink);\n",
              "        }\n",
              "      </script>\n",
              "    </div>\n",
              "  </div>\n",
              "  "
            ]
          },
          "metadata": {},
          "execution_count": 9
        }
      ]
    },
    {
      "cell_type": "code",
      "source": [
        "# df.drop(['Unnamed: 0'], axis=1, inplace=True)  # можно удалить первую колонку, чтобы использовать внутренние индексы"
      ],
      "metadata": {
        "id": "MgdfcKJp7EHs"
      },
      "execution_count": null,
      "outputs": []
    },
    {
      "cell_type": "markdown",
      "source": [
        "## 2. Привожу колонку salary к числовому виду"
      ],
      "metadata": {
        "id": "gGNgrei8Af9v"
      }
    },
    {
      "cell_type": "code",
      "source": [
        "df['salary'].describe()"
      ],
      "metadata": {
        "colab": {
          "base_uri": "https://localhost:8080/"
        },
        "id": "-xcbBnuv7J00",
        "outputId": "769e4b5c-df5a-4654-996a-6d1a96ff1e07"
      },
      "execution_count": null,
      "outputs": [
        {
          "output_type": "execute_result",
          "data": {
            "text/plain": [
              "count                                                 36724\n",
              "unique                                                 4073\n",
              "top       {'from': 50000, 'to': None, 'currency': 'RUR',...\n",
              "freq                                                   1135\n",
              "Name: salary, dtype: object"
            ]
          },
          "metadata": {},
          "execution_count": 11
        }
      ]
    },
    {
      "cell_type": "code",
      "source": [
        "df['salary'].iloc[1]  # вывожу полную строку из колонки salary для написания функции обработки"
      ],
      "metadata": {
        "colab": {
          "base_uri": "https://localhost:8080/",
          "height": 35
        },
        "id": "u670Hd8b97Ij",
        "outputId": "751e7ee7-2a3f-43d6-bcf9-20e9f1d2c849"
      },
      "execution_count": null,
      "outputs": [
        {
          "output_type": "execute_result",
          "data": {
            "text/plain": [
              "\"{'from': 25000, 'to': 50000, 'currency': 'RUR', 'gross': True}\""
            ],
            "application/vnd.google.colaboratory.intrinsic+json": {
              "type": "string"
            }
          },
          "metadata": {},
          "execution_count": 12
        }
      ]
    },
    {
      "cell_type": "markdown",
      "source": [
        "Функция, которая возвращает среднее значение между от и до с учётом валюты и налога 13%, если одно из значений не указано, то берется крайнее, если значений нет, то возвращает 0."
      ],
      "metadata": {
        "id": "zEBwSP7SNkcz"
      }
    },
    {
      "cell_type": "code",
      "source": [
        "def salary_edit(string):\n",
        "    if not string:\n",
        "        return 0\n",
        "    try:\n",
        "      val = json.loads(\n",
        "          str(string).replace('False', '\"False\"').replace('True', '\"True\"').replace(\"'\", '\"').replace('None', 'null'))\n",
        "      \n",
        "      frm, to, gross, currency = val['from'], val['to'], val['gross'], val['currency']\n",
        "      exchange = 56.7 if currency == 'USD' else 59.1 if currency == 'EUR' else 1\n",
        "\n",
        "      if frm is None and to is None:\n",
        "          return 0\n",
        "      elif frm is None and to is not None:\n",
        "          return int(((to / 1.13) if gross == 'True' else to) * exchange)\n",
        "      elif frm is not None and to is None:\n",
        "          return int(((frm / 1.13) if gross == 'True' else frm) * exchange)\n",
        "      else:\n",
        "          return int(round(((frm + to) / 1.13) / 2 if gross == 'True' else (frm + to) / 2) * exchange)\n",
        "    except:\n",
        "      # return 0\n",
        "      pass\n",
        "      "
      ],
      "metadata": {
        "id": "njudihEuYusS"
      },
      "execution_count": null,
      "outputs": []
    },
    {
      "cell_type": "code",
      "source": [
        "df['salary'] = df['salary'].apply(salary_edit)"
      ],
      "metadata": {
        "id": "XeN3ByVcBGDL"
      },
      "execution_count": null,
      "outputs": []
    },
    {
      "cell_type": "markdown",
      "source": [
        "После обработки по категориям можно нулевые значения заменить на средние по категориям:\n",
        "\n",
        "    mean = df.groupby(somewhat_category)['column'].mean()\n",
        "    df.fillna(mean)"
      ],
      "metadata": {
        "id": "EbnJmaxDTF__"
      }
    },
    {
      "cell_type": "code",
      "source": [
        "df.head()"
      ],
      "metadata": {
        "colab": {
          "base_uri": "https://localhost:8080/",
          "height": 635
        },
        "id": "zctaTIBeiX3q",
        "outputId": "e176ed0f-7432-4268-a6ec-ba71dfd05840"
      },
      "execution_count": null,
      "outputs": [
        {
          "output_type": "execute_result",
          "data": {
            "text/plain": [
              "   Unnamed: 0        id  premium  \\\n",
              "0           0  49059633    False   \n",
              "1           1  54653519    False   \n",
              "2           2  55116066    False   \n",
              "3           3  54031261    False   \n",
              "4           4  55243040    False   \n",
              "\n",
              "                                               name  \\\n",
              "0           Младший специалист ручного тестирования   \n",
              "1                                   Тестировщик.Net   \n",
              "2                                         Пентестер   \n",
              "3  Ведущий Специалист по информационным технологиям   \n",
              "4                   Специалист по защите информации   \n",
              "\n",
              "                                          department  has_test  \\\n",
              "0                                                NaN     False   \n",
              "1                                                NaN     False   \n",
              "2                                                NaN     False   \n",
              "3  {'id': 'pochta-4352-office', 'name': '«Почта Р...     False   \n",
              "4                                                NaN     False   \n",
              "\n",
              "   response_letter_required  \\\n",
              "0                     False   \n",
              "1                     False   \n",
              "2                     False   \n",
              "3                     False   \n",
              "4                     False   \n",
              "\n",
              "                                                area   salary  \\\n",
              "0  {'id': '15', 'name': 'Астрахань', 'url': 'http...      NaN   \n",
              "1  {'id': '15', 'name': 'Астрахань', 'url': 'http...  33186.0   \n",
              "2  {'id': '15', 'name': 'Астрахань', 'url': 'http...      NaN   \n",
              "3  {'id': '15', 'name': 'Астрахань', 'url': 'http...  23008.0   \n",
              "4  {'id': '15', 'name': 'Астрахань', 'url': 'http...  20000.0   \n",
              "\n",
              "                                 type  \\\n",
              "0  {'id': 'open', 'name': 'Открытая'}   \n",
              "1  {'id': 'open', 'name': 'Открытая'}   \n",
              "2  {'id': 'open', 'name': 'Открытая'}   \n",
              "3  {'id': 'open', 'name': 'Открытая'}   \n",
              "4  {'id': 'open', 'name': 'Открытая'}   \n",
              "\n",
              "                                             address response_url  \\\n",
              "0                                                NaN          NaN   \n",
              "1                                                NaN          NaN   \n",
              "2                                                NaN          NaN   \n",
              "3  {'city': 'Астрахань', 'street': 'улица Черныше...          NaN   \n",
              "4  {'city': 'Астрахань', 'street': 'улица Молодой...          NaN   \n",
              "\n",
              "   sort_point_distance              published_at                created_at  \\\n",
              "0                  NaN  2022-05-23T09:11:18+0300  2022-05-23T09:11:18+0300   \n",
              "1                  NaN  2022-04-28T17:36:03+0300  2022-04-28T17:36:03+0300   \n",
              "2                  NaN  2022-05-20T10:07:33+0300  2022-05-20T10:07:33+0300   \n",
              "3                  NaN  2022-05-23T07:46:16+0300  2022-05-23T07:46:16+0300   \n",
              "4                  NaN  2022-05-06T10:18:54+0300  2022-05-06T10:18:54+0300   \n",
              "\n",
              "   archived insider_interview  \\\n",
              "0     False               NaN   \n",
              "1     False               NaN   \n",
              "2     False               NaN   \n",
              "3     False               NaN   \n",
              "4     False               NaN   \n",
              "\n",
              "                                               url  \\\n",
              "0  https://api.hh.ru/vacancies/49059633?host=hh.ru   \n",
              "1  https://api.hh.ru/vacancies/54653519?host=hh.ru   \n",
              "2  https://api.hh.ru/vacancies/55116066?host=hh.ru   \n",
              "3  https://api.hh.ru/vacancies/54031261?host=hh.ru   \n",
              "4  https://api.hh.ru/vacancies/55243040?host=hh.ru   \n",
              "\n",
              "                    alternate_url relations  \\\n",
              "0  https://hh.ru/vacancy/49059633        []   \n",
              "1  https://hh.ru/vacancy/54653519        []   \n",
              "2  https://hh.ru/vacancy/55116066        []   \n",
              "3  https://hh.ru/vacancy/54031261        []   \n",
              "4  https://hh.ru/vacancy/55243040        []   \n",
              "\n",
              "                                            employer  \\\n",
              "0  {'id': '1740', 'name': 'Яндекс', 'url': 'https...   \n",
              "1  {'id': '1245158', 'name': 'МФК Саммит', 'url':...   \n",
              "2  {'id': '719820', 'name': 'SearchInform', 'url'...   \n",
              "3  {'id': '4352', 'name': 'Почта России', 'url': ...   \n",
              "4  {'id': '6694236', 'name': 'ГБПОУ АО Астраханск...   \n",
              "\n",
              "                                             snippet  \\\n",
              "0  {'requirement': 'Внимательны и наблюдательны. ...   \n",
              "1  {'requirement': 'Мы ищем талантливого и амбици...   \n",
              "2  {'requirement': 'Глубокие знания клиентских и ...   \n",
              "3  {'requirement': 'Средне-профессиональное или в...   \n",
              "4  {'requirement': 'Медицинская комиссия, справка...   \n",
              "\n",
              "                                            contacts  \\\n",
              "0                                                NaN   \n",
              "1  {'name': 'Синанова Мария', 'email': 'sinanova....   \n",
              "2                                                NaN   \n",
              "3  {'name': 'Данилова Екатерина Александровна', '...   \n",
              "4  {'name': 'Трубицына Елена', 'email': 'info@ast...   \n",
              "\n",
              "                                       schedule working_days  \\\n",
              "0  {'id': 'remote', 'name': 'Удаленная работа'}           []   \n",
              "1      {'id': 'fullDay', 'name': 'Полный день'}           []   \n",
              "2      {'id': 'fullDay', 'name': 'Полный день'}           []   \n",
              "3      {'id': 'fullDay', 'name': 'Полный день'}           []   \n",
              "4      {'id': 'fullDay', 'name': 'Полный день'}           []   \n",
              "\n",
              "  working_time_intervals working_time_modes  accept_temporary  \\\n",
              "0                     []                 []             False   \n",
              "1                     []                 []             False   \n",
              "2                     []                 []             False   \n",
              "3                     []                 []             False   \n",
              "4                     []                 []             False   \n",
              "\n",
              "                                         description  \\\n",
              "0  <p>В некоторых проектах Яндексу помогают компа...   \n",
              "1  <p><em><strong>Мы ищем талантливого и амбициоз...   \n",
              "2  <p>Лидер на рынке систем информационной безопа...   \n",
              "3  <ul> <li>Администрирование компьютерной сети</...   \n",
              "4  <strong>Обязанности:</strong> <ul> <li>Обеспеч...   \n",
              "\n",
              "                                          experience  \\\n",
              "0        {'id': 'noExperience', 'name': 'Нет опыта'}   \n",
              "1  {'id': 'between1And3', 'name': 'От 1 года до 3...   \n",
              "2    {'id': 'between3And6', 'name': 'От 3 до 6 лет'}   \n",
              "3        {'id': 'noExperience', 'name': 'Нет опыта'}   \n",
              "4        {'id': 'noExperience', 'name': 'Нет опыта'}   \n",
              "\n",
              "                                          key_skills  \\\n",
              "0                                                 []   \n",
              "1  [{'name': 'Git'}, {'name': 'SQL'}, {'name': 'Т...   \n",
              "2  [{'name': 'SQL'}, {'name': 'Linux'}, {'name': ...   \n",
              "3  [{'name': 'Пользователь ПК'}, {'name': 'Работа...   \n",
              "4  [{'name': 'MS Dos'}, {'name': 'Диагностика ПК'...   \n",
              "\n",
              "                                     specializations                region  \\\n",
              "0  [{'id': '1.172', 'name': 'Начальный уровень, М...  Астраханская область   \n",
              "1  [{'id': '1.221', 'name': 'Программирование, Ра...  Астраханская область   \n",
              "2  [{'id': '1.221', 'name': 'Программирование, Ра...  Астраханская область   \n",
              "3  [{'id': '1.110', 'name': 'Компьютерная безопас...  Астраханская область   \n",
              "4  [{'id': '1.110', 'name': 'Компьютерная безопас...  Астраханская область   \n",
              "\n",
              "  immediate_redirect_url  \n",
              "0                    NaN  \n",
              "1                    NaN  \n",
              "2                    NaN  \n",
              "3                    NaN  \n",
              "4                    NaN  "
            ],
            "text/html": [
              "\n",
              "  <div id=\"df-0159abdb-da52-45a7-b6e2-52dda56184f2\">\n",
              "    <div class=\"colab-df-container\">\n",
              "      <div>\n",
              "<style scoped>\n",
              "    .dataframe tbody tr th:only-of-type {\n",
              "        vertical-align: middle;\n",
              "    }\n",
              "\n",
              "    .dataframe tbody tr th {\n",
              "        vertical-align: top;\n",
              "    }\n",
              "\n",
              "    .dataframe thead th {\n",
              "        text-align: right;\n",
              "    }\n",
              "</style>\n",
              "<table border=\"1\" class=\"dataframe\">\n",
              "  <thead>\n",
              "    <tr style=\"text-align: right;\">\n",
              "      <th></th>\n",
              "      <th>Unnamed: 0</th>\n",
              "      <th>id</th>\n",
              "      <th>premium</th>\n",
              "      <th>name</th>\n",
              "      <th>department</th>\n",
              "      <th>has_test</th>\n",
              "      <th>response_letter_required</th>\n",
              "      <th>area</th>\n",
              "      <th>salary</th>\n",
              "      <th>type</th>\n",
              "      <th>address</th>\n",
              "      <th>response_url</th>\n",
              "      <th>sort_point_distance</th>\n",
              "      <th>published_at</th>\n",
              "      <th>created_at</th>\n",
              "      <th>archived</th>\n",
              "      <th>insider_interview</th>\n",
              "      <th>url</th>\n",
              "      <th>alternate_url</th>\n",
              "      <th>relations</th>\n",
              "      <th>employer</th>\n",
              "      <th>snippet</th>\n",
              "      <th>contacts</th>\n",
              "      <th>schedule</th>\n",
              "      <th>working_days</th>\n",
              "      <th>working_time_intervals</th>\n",
              "      <th>working_time_modes</th>\n",
              "      <th>accept_temporary</th>\n",
              "      <th>description</th>\n",
              "      <th>experience</th>\n",
              "      <th>key_skills</th>\n",
              "      <th>specializations</th>\n",
              "      <th>region</th>\n",
              "      <th>immediate_redirect_url</th>\n",
              "    </tr>\n",
              "  </thead>\n",
              "  <tbody>\n",
              "    <tr>\n",
              "      <th>0</th>\n",
              "      <td>0</td>\n",
              "      <td>49059633</td>\n",
              "      <td>False</td>\n",
              "      <td>Младший специалист ручного тестирования</td>\n",
              "      <td>NaN</td>\n",
              "      <td>False</td>\n",
              "      <td>False</td>\n",
              "      <td>{'id': '15', 'name': 'Астрахань', 'url': 'http...</td>\n",
              "      <td>NaN</td>\n",
              "      <td>{'id': 'open', 'name': 'Открытая'}</td>\n",
              "      <td>NaN</td>\n",
              "      <td>NaN</td>\n",
              "      <td>NaN</td>\n",
              "      <td>2022-05-23T09:11:18+0300</td>\n",
              "      <td>2022-05-23T09:11:18+0300</td>\n",
              "      <td>False</td>\n",
              "      <td>NaN</td>\n",
              "      <td>https://api.hh.ru/vacancies/49059633?host=hh.ru</td>\n",
              "      <td>https://hh.ru/vacancy/49059633</td>\n",
              "      <td>[]</td>\n",
              "      <td>{'id': '1740', 'name': 'Яндекс', 'url': 'https...</td>\n",
              "      <td>{'requirement': 'Внимательны и наблюдательны. ...</td>\n",
              "      <td>NaN</td>\n",
              "      <td>{'id': 'remote', 'name': 'Удаленная работа'}</td>\n",
              "      <td>[]</td>\n",
              "      <td>[]</td>\n",
              "      <td>[]</td>\n",
              "      <td>False</td>\n",
              "      <td>&lt;p&gt;В некоторых проектах Яндексу помогают компа...</td>\n",
              "      <td>{'id': 'noExperience', 'name': 'Нет опыта'}</td>\n",
              "      <td>[]</td>\n",
              "      <td>[{'id': '1.172', 'name': 'Начальный уровень, М...</td>\n",
              "      <td>Астраханская область</td>\n",
              "      <td>NaN</td>\n",
              "    </tr>\n",
              "    <tr>\n",
              "      <th>1</th>\n",
              "      <td>1</td>\n",
              "      <td>54653519</td>\n",
              "      <td>False</td>\n",
              "      <td>Тестировщик.Net</td>\n",
              "      <td>NaN</td>\n",
              "      <td>False</td>\n",
              "      <td>False</td>\n",
              "      <td>{'id': '15', 'name': 'Астрахань', 'url': 'http...</td>\n",
              "      <td>33186.0</td>\n",
              "      <td>{'id': 'open', 'name': 'Открытая'}</td>\n",
              "      <td>NaN</td>\n",
              "      <td>NaN</td>\n",
              "      <td>NaN</td>\n",
              "      <td>2022-04-28T17:36:03+0300</td>\n",
              "      <td>2022-04-28T17:36:03+0300</td>\n",
              "      <td>False</td>\n",
              "      <td>NaN</td>\n",
              "      <td>https://api.hh.ru/vacancies/54653519?host=hh.ru</td>\n",
              "      <td>https://hh.ru/vacancy/54653519</td>\n",
              "      <td>[]</td>\n",
              "      <td>{'id': '1245158', 'name': 'МФК Саммит', 'url':...</td>\n",
              "      <td>{'requirement': 'Мы ищем талантливого и амбици...</td>\n",
              "      <td>{'name': 'Синанова Мария', 'email': 'sinanova....</td>\n",
              "      <td>{'id': 'fullDay', 'name': 'Полный день'}</td>\n",
              "      <td>[]</td>\n",
              "      <td>[]</td>\n",
              "      <td>[]</td>\n",
              "      <td>False</td>\n",
              "      <td>&lt;p&gt;&lt;em&gt;&lt;strong&gt;Мы ищем талантливого и амбициоз...</td>\n",
              "      <td>{'id': 'between1And3', 'name': 'От 1 года до 3...</td>\n",
              "      <td>[{'name': 'Git'}, {'name': 'SQL'}, {'name': 'Т...</td>\n",
              "      <td>[{'id': '1.221', 'name': 'Программирование, Ра...</td>\n",
              "      <td>Астраханская область</td>\n",
              "      <td>NaN</td>\n",
              "    </tr>\n",
              "    <tr>\n",
              "      <th>2</th>\n",
              "      <td>2</td>\n",
              "      <td>55116066</td>\n",
              "      <td>False</td>\n",
              "      <td>Пентестер</td>\n",
              "      <td>NaN</td>\n",
              "      <td>False</td>\n",
              "      <td>False</td>\n",
              "      <td>{'id': '15', 'name': 'Астрахань', 'url': 'http...</td>\n",
              "      <td>NaN</td>\n",
              "      <td>{'id': 'open', 'name': 'Открытая'}</td>\n",
              "      <td>NaN</td>\n",
              "      <td>NaN</td>\n",
              "      <td>NaN</td>\n",
              "      <td>2022-05-20T10:07:33+0300</td>\n",
              "      <td>2022-05-20T10:07:33+0300</td>\n",
              "      <td>False</td>\n",
              "      <td>NaN</td>\n",
              "      <td>https://api.hh.ru/vacancies/55116066?host=hh.ru</td>\n",
              "      <td>https://hh.ru/vacancy/55116066</td>\n",
              "      <td>[]</td>\n",
              "      <td>{'id': '719820', 'name': 'SearchInform', 'url'...</td>\n",
              "      <td>{'requirement': 'Глубокие знания клиентских и ...</td>\n",
              "      <td>NaN</td>\n",
              "      <td>{'id': 'fullDay', 'name': 'Полный день'}</td>\n",
              "      <td>[]</td>\n",
              "      <td>[]</td>\n",
              "      <td>[]</td>\n",
              "      <td>False</td>\n",
              "      <td>&lt;p&gt;Лидер на рынке систем информационной безопа...</td>\n",
              "      <td>{'id': 'between3And6', 'name': 'От 3 до 6 лет'}</td>\n",
              "      <td>[{'name': 'SQL'}, {'name': 'Linux'}, {'name': ...</td>\n",
              "      <td>[{'id': '1.221', 'name': 'Программирование, Ра...</td>\n",
              "      <td>Астраханская область</td>\n",
              "      <td>NaN</td>\n",
              "    </tr>\n",
              "    <tr>\n",
              "      <th>3</th>\n",
              "      <td>3</td>\n",
              "      <td>54031261</td>\n",
              "      <td>False</td>\n",
              "      <td>Ведущий Специалист по информационным технологиям</td>\n",
              "      <td>{'id': 'pochta-4352-office', 'name': '«Почта Р...</td>\n",
              "      <td>False</td>\n",
              "      <td>False</td>\n",
              "      <td>{'id': '15', 'name': 'Астрахань', 'url': 'http...</td>\n",
              "      <td>23008.0</td>\n",
              "      <td>{'id': 'open', 'name': 'Открытая'}</td>\n",
              "      <td>{'city': 'Астрахань', 'street': 'улица Черныше...</td>\n",
              "      <td>NaN</td>\n",
              "      <td>NaN</td>\n",
              "      <td>2022-05-23T07:46:16+0300</td>\n",
              "      <td>2022-05-23T07:46:16+0300</td>\n",
              "      <td>False</td>\n",
              "      <td>NaN</td>\n",
              "      <td>https://api.hh.ru/vacancies/54031261?host=hh.ru</td>\n",
              "      <td>https://hh.ru/vacancy/54031261</td>\n",
              "      <td>[]</td>\n",
              "      <td>{'id': '4352', 'name': 'Почта России', 'url': ...</td>\n",
              "      <td>{'requirement': 'Средне-профессиональное или в...</td>\n",
              "      <td>{'name': 'Данилова Екатерина Александровна', '...</td>\n",
              "      <td>{'id': 'fullDay', 'name': 'Полный день'}</td>\n",
              "      <td>[]</td>\n",
              "      <td>[]</td>\n",
              "      <td>[]</td>\n",
              "      <td>False</td>\n",
              "      <td>&lt;ul&gt; &lt;li&gt;Администрирование компьютерной сети&lt;/...</td>\n",
              "      <td>{'id': 'noExperience', 'name': 'Нет опыта'}</td>\n",
              "      <td>[{'name': 'Пользователь ПК'}, {'name': 'Работа...</td>\n",
              "      <td>[{'id': '1.110', 'name': 'Компьютерная безопас...</td>\n",
              "      <td>Астраханская область</td>\n",
              "      <td>NaN</td>\n",
              "    </tr>\n",
              "    <tr>\n",
              "      <th>4</th>\n",
              "      <td>4</td>\n",
              "      <td>55243040</td>\n",
              "      <td>False</td>\n",
              "      <td>Специалист по защите информации</td>\n",
              "      <td>NaN</td>\n",
              "      <td>False</td>\n",
              "      <td>False</td>\n",
              "      <td>{'id': '15', 'name': 'Астрахань', 'url': 'http...</td>\n",
              "      <td>20000.0</td>\n",
              "      <td>{'id': 'open', 'name': 'Открытая'}</td>\n",
              "      <td>{'city': 'Астрахань', 'street': 'улица Молодой...</td>\n",
              "      <td>NaN</td>\n",
              "      <td>NaN</td>\n",
              "      <td>2022-05-06T10:18:54+0300</td>\n",
              "      <td>2022-05-06T10:18:54+0300</td>\n",
              "      <td>False</td>\n",
              "      <td>NaN</td>\n",
              "      <td>https://api.hh.ru/vacancies/55243040?host=hh.ru</td>\n",
              "      <td>https://hh.ru/vacancy/55243040</td>\n",
              "      <td>[]</td>\n",
              "      <td>{'id': '6694236', 'name': 'ГБПОУ АО Астраханск...</td>\n",
              "      <td>{'requirement': 'Медицинская комиссия, справка...</td>\n",
              "      <td>{'name': 'Трубицына Елена', 'email': 'info@ast...</td>\n",
              "      <td>{'id': 'fullDay', 'name': 'Полный день'}</td>\n",
              "      <td>[]</td>\n",
              "      <td>[]</td>\n",
              "      <td>[]</td>\n",
              "      <td>False</td>\n",
              "      <td>&lt;strong&gt;Обязанности:&lt;/strong&gt; &lt;ul&gt; &lt;li&gt;Обеспеч...</td>\n",
              "      <td>{'id': 'noExperience', 'name': 'Нет опыта'}</td>\n",
              "      <td>[{'name': 'MS Dos'}, {'name': 'Диагностика ПК'...</td>\n",
              "      <td>[{'id': '1.110', 'name': 'Компьютерная безопас...</td>\n",
              "      <td>Астраханская область</td>\n",
              "      <td>NaN</td>\n",
              "    </tr>\n",
              "  </tbody>\n",
              "</table>\n",
              "</div>\n",
              "      <button class=\"colab-df-convert\" onclick=\"convertToInteractive('df-0159abdb-da52-45a7-b6e2-52dda56184f2')\"\n",
              "              title=\"Convert this dataframe to an interactive table.\"\n",
              "              style=\"display:none;\">\n",
              "        \n",
              "  <svg xmlns=\"http://www.w3.org/2000/svg\" height=\"24px\"viewBox=\"0 0 24 24\"\n",
              "       width=\"24px\">\n",
              "    <path d=\"M0 0h24v24H0V0z\" fill=\"none\"/>\n",
              "    <path d=\"M18.56 5.44l.94 2.06.94-2.06 2.06-.94-2.06-.94-.94-2.06-.94 2.06-2.06.94zm-11 1L8.5 8.5l.94-2.06 2.06-.94-2.06-.94L8.5 2.5l-.94 2.06-2.06.94zm10 10l.94 2.06.94-2.06 2.06-.94-2.06-.94-.94-2.06-.94 2.06-2.06.94z\"/><path d=\"M17.41 7.96l-1.37-1.37c-.4-.4-.92-.59-1.43-.59-.52 0-1.04.2-1.43.59L10.3 9.45l-7.72 7.72c-.78.78-.78 2.05 0 2.83L4 21.41c.39.39.9.59 1.41.59.51 0 1.02-.2 1.41-.59l7.78-7.78 2.81-2.81c.8-.78.8-2.07 0-2.86zM5.41 20L4 18.59l7.72-7.72 1.47 1.35L5.41 20z\"/>\n",
              "  </svg>\n",
              "      </button>\n",
              "      \n",
              "  <style>\n",
              "    .colab-df-container {\n",
              "      display:flex;\n",
              "      flex-wrap:wrap;\n",
              "      gap: 12px;\n",
              "    }\n",
              "\n",
              "    .colab-df-convert {\n",
              "      background-color: #E8F0FE;\n",
              "      border: none;\n",
              "      border-radius: 50%;\n",
              "      cursor: pointer;\n",
              "      display: none;\n",
              "      fill: #1967D2;\n",
              "      height: 32px;\n",
              "      padding: 0 0 0 0;\n",
              "      width: 32px;\n",
              "    }\n",
              "\n",
              "    .colab-df-convert:hover {\n",
              "      background-color: #E2EBFA;\n",
              "      box-shadow: 0px 1px 2px rgba(60, 64, 67, 0.3), 0px 1px 3px 1px rgba(60, 64, 67, 0.15);\n",
              "      fill: #174EA6;\n",
              "    }\n",
              "\n",
              "    [theme=dark] .colab-df-convert {\n",
              "      background-color: #3B4455;\n",
              "      fill: #D2E3FC;\n",
              "    }\n",
              "\n",
              "    [theme=dark] .colab-df-convert:hover {\n",
              "      background-color: #434B5C;\n",
              "      box-shadow: 0px 1px 3px 1px rgba(0, 0, 0, 0.15);\n",
              "      filter: drop-shadow(0px 1px 2px rgba(0, 0, 0, 0.3));\n",
              "      fill: #FFFFFF;\n",
              "    }\n",
              "  </style>\n",
              "\n",
              "      <script>\n",
              "        const buttonEl =\n",
              "          document.querySelector('#df-0159abdb-da52-45a7-b6e2-52dda56184f2 button.colab-df-convert');\n",
              "        buttonEl.style.display =\n",
              "          google.colab.kernel.accessAllowed ? 'block' : 'none';\n",
              "\n",
              "        async function convertToInteractive(key) {\n",
              "          const element = document.querySelector('#df-0159abdb-da52-45a7-b6e2-52dda56184f2');\n",
              "          const dataTable =\n",
              "            await google.colab.kernel.invokeFunction('convertToInteractive',\n",
              "                                                     [key], {});\n",
              "          if (!dataTable) return;\n",
              "\n",
              "          const docLinkHtml = 'Like what you see? Visit the ' +\n",
              "            '<a target=\"_blank\" href=https://colab.research.google.com/notebooks/data_table.ipynb>data table notebook</a>'\n",
              "            + ' to learn more about interactive tables.';\n",
              "          element.innerHTML = '';\n",
              "          dataTable['output_type'] = 'display_data';\n",
              "          await google.colab.output.renderOutput(dataTable, element);\n",
              "          const docLink = document.createElement('div');\n",
              "          docLink.innerHTML = docLinkHtml;\n",
              "          element.appendChild(docLink);\n",
              "        }\n",
              "      </script>\n",
              "    </div>\n",
              "  </div>\n",
              "  "
            ]
          },
          "metadata": {},
          "execution_count": 15
        }
      ]
    },
    {
      "cell_type": "markdown",
      "source": [
        "## 3. Обработка данных в колонках"
      ],
      "metadata": {
        "id": "FuQEfnh6JtUa"
      }
    },
    {
      "cell_type": "markdown",
      "source": [
        "Выделяю специализации из колонки **_specializations_**"
      ],
      "metadata": {
        "id": "HuHGeql0Kvkf"
      }
    },
    {
      "cell_type": "code",
      "source": [
        "def profarea(string):\n",
        "\n",
        "  res = []\n",
        "  data = json.loads(string.replace(\"'\", '\"'))\n",
        "  # print(data)\n",
        "  for element in data:\n",
        "    for k,v in element.items():\n",
        "      if k == 'profarea_name':\n",
        "        res.append(v)\n",
        "  return(str(set(res)))\n"
      ],
      "metadata": {
        "id": "lGLpMQFFCIeS"
      },
      "execution_count": null,
      "outputs": []
    },
    {
      "cell_type": "code",
      "source": [
        "df['specializations_edited'] = df['specializations'].apply(profarea)"
      ],
      "metadata": {
        "id": "MpAfIisVCZzi"
      },
      "execution_count": null,
      "outputs": []
    },
    {
      "cell_type": "code",
      "source": [
        "df['specializations_edited'].describe()"
      ],
      "metadata": {
        "colab": {
          "base_uri": "https://localhost:8080/"
        },
        "id": "RYgZg-bVGKFM",
        "outputId": "c1202c29-ec2d-460e-aad6-7ed3e9d972b3"
      },
      "execution_count": null,
      "outputs": [
        {
          "output_type": "execute_result",
          "data": {
            "text/plain": [
              "count                                                68265\n",
              "unique                                                 254\n",
              "top       {'Информационные технологии, интернет, телеком'}\n",
              "freq                                                 36908\n",
              "Name: specializations_edited, dtype: object"
            ]
          },
          "metadata": {},
          "execution_count": 18
        }
      ]
    },
    {
      "cell_type": "code",
      "source": [
        "df['specializations_edited'].value_counts().head(20)"
      ],
      "metadata": {
        "colab": {
          "base_uri": "https://localhost:8080/"
        },
        "id": "lGhL4qmrJS_Y",
        "outputId": "2182a32f-70ef-41a4-fbbc-e5eb2898d8bd"
      },
      "execution_count": null,
      "outputs": [
        {
          "output_type": "execute_result",
          "data": {
            "text/plain": [
              "{'Информационные технологии, интернет, телеком'}                                                                    36908\n",
              "{'Управление персоналом, тренинги'}                                                                                  8337\n",
              "{'Продажи', 'Информационные технологии, интернет, телеком', 'Консультирование', 'Маркетинг, реклама, PR'}            5586\n",
              "{'Продажи', 'Консультирование', 'Строительство, недвижимость'}                                                       5316\n",
              "{'Информационные технологии, интернет, телеком', 'Искусство, развлечения, масс-медиа', 'Маркетинг, реклама, PR'}     2598\n",
              "{'Информационные технологии, интернет, телеком', 'Консультирование'}                                                 1786\n",
              "{'Информационные технологии, интернет, телеком', 'Маркетинг, реклама, PR'}                                           1603\n",
              "{'Маркетинг, реклама, PR'}                                                                                           1603\n",
              "{'Спортивные клубы, фитнес, салоны красоты'}                                                                         1587\n",
              "{'Высший менеджмент'}                                                                                                 603\n",
              "{'Информационные технологии, интернет, телеком', 'Высший менеджмент'}                                                 593\n",
              "{'Информационные технологии, интернет, телеком', 'Искусство, развлечения, масс-медиа'}                                244\n",
              "{'Начало карьеры, студенты', 'Информационные технологии, интернет, телеком'}                                          183\n",
              "{'Продажи'}                                                                                                           168\n",
              "{'Начало карьеры, студенты', 'Продажи'}                                                                               154\n",
              "{'Продажи', 'Строительство, недвижимость'}                                                                            118\n",
              "{'Строительство, недвижимость'}                                                                                        69\n",
              "{'Начало карьеры, студенты', 'Продажи', 'Строительство, недвижимость'}                                                 63\n",
              "{'Безопасность', 'Информационные технологии, интернет, телеком'}                                                       52\n",
              "{'Административный персонал'}                                                                                          33\n",
              "Name: specializations_edited, dtype: int64"
            ]
          },
          "metadata": {},
          "execution_count": 19
        }
      ]
    },
    {
      "cell_type": "markdown",
      "source": [
        "Функция для выбора только специализации ИТ:"
      ],
      "metadata": {
        "id": "5VqGeG1wUpc6"
      }
    },
    {
      "cell_type": "code",
      "source": [
        "def it_in_list(data):\n",
        "  return 'Информационные технологии, интернет, телеком' in data"
      ],
      "metadata": {
        "id": "xzWZxHQ6RAmc"
      },
      "execution_count": null,
      "outputs": []
    },
    {
      "cell_type": "code",
      "source": [
        "filter = df['specializations_edited'].apply(it_in_list)\n",
        "filter.describe()"
      ],
      "metadata": {
        "colab": {
          "base_uri": "https://localhost:8080/"
        },
        "id": "fVgF-AfvQaFc",
        "outputId": "95280dbd-f0f9-456e-fffb-845365bbb3bc"
      },
      "execution_count": null,
      "outputs": [
        {
          "output_type": "execute_result",
          "data": {
            "text/plain": [
              "count     68265\n",
              "unique        2\n",
              "top        True\n",
              "freq      49679\n",
              "Name: specializations_edited, dtype: object"
            ]
          },
          "metadata": {},
          "execution_count": 21
        }
      ]
    },
    {
      "cell_type": "code",
      "source": [
        "filter.value_counts()"
      ],
      "metadata": {
        "colab": {
          "base_uri": "https://localhost:8080/"
        },
        "id": "5BnGI6L3SL4o",
        "outputId": "cfc85ea3-dc5f-47da-eba0-15d7959a0804"
      },
      "execution_count": null,
      "outputs": [
        {
          "output_type": "execute_result",
          "data": {
            "text/plain": [
              "True     49679\n",
              "False    18586\n",
              "Name: specializations_edited, dtype: int64"
            ]
          },
          "metadata": {},
          "execution_count": 22
        }
      ]
    },
    {
      "cell_type": "markdown",
      "source": [
        "Применив фильтр, я удалил 18586 вакансий, не связаных с ИТ."
      ],
      "metadata": {
        "id": "fvc3DSNqa9Tt"
      }
    },
    {
      "cell_type": "code",
      "source": [
        "df = df[filter]"
      ],
      "metadata": {
        "id": "RYyk-shJR9lO"
      },
      "execution_count": null,
      "outputs": []
    },
    {
      "cell_type": "code",
      "source": [
        "df.describe()"
      ],
      "metadata": {
        "colab": {
          "base_uri": "https://localhost:8080/",
          "height": 300
        },
        "id": "V3bsf8nQSDsS",
        "outputId": "f640c563-de23-4bcd-a0f7-1a7b4272f59d"
      },
      "execution_count": null,
      "outputs": [
        {
          "output_type": "execute_result",
          "data": {
            "text/plain": [
              "         Unnamed: 0            id         salary  sort_point_distance\n",
              "count  49679.000000  4.967900e+04   22478.000000                  0.0\n",
              "mean    3979.682401  5.468925e+07   93861.796779                  NaN\n",
              "std     5280.225548  3.767057e+06   74738.050240                  NaN\n",
              "min        0.000000  6.555939e+06      30.000000                  NaN\n",
              "25%      384.000000  5.440801e+07   40500.000000                  NaN\n",
              "50%     1379.000000  5.517681e+07   70000.000000                  NaN\n",
              "75%     6303.500000  5.546657e+07  123893.000000                  NaN\n",
              "max    20065.000000  6.611540e+07  898230.000000                  NaN"
            ],
            "text/html": [
              "\n",
              "  <div id=\"df-9b033e2a-e480-4933-8f36-be959b3dccbf\">\n",
              "    <div class=\"colab-df-container\">\n",
              "      <div>\n",
              "<style scoped>\n",
              "    .dataframe tbody tr th:only-of-type {\n",
              "        vertical-align: middle;\n",
              "    }\n",
              "\n",
              "    .dataframe tbody tr th {\n",
              "        vertical-align: top;\n",
              "    }\n",
              "\n",
              "    .dataframe thead th {\n",
              "        text-align: right;\n",
              "    }\n",
              "</style>\n",
              "<table border=\"1\" class=\"dataframe\">\n",
              "  <thead>\n",
              "    <tr style=\"text-align: right;\">\n",
              "      <th></th>\n",
              "      <th>Unnamed: 0</th>\n",
              "      <th>id</th>\n",
              "      <th>salary</th>\n",
              "      <th>sort_point_distance</th>\n",
              "    </tr>\n",
              "  </thead>\n",
              "  <tbody>\n",
              "    <tr>\n",
              "      <th>count</th>\n",
              "      <td>49679.000000</td>\n",
              "      <td>4.967900e+04</td>\n",
              "      <td>22478.000000</td>\n",
              "      <td>0.0</td>\n",
              "    </tr>\n",
              "    <tr>\n",
              "      <th>mean</th>\n",
              "      <td>3979.682401</td>\n",
              "      <td>5.468925e+07</td>\n",
              "      <td>93861.796779</td>\n",
              "      <td>NaN</td>\n",
              "    </tr>\n",
              "    <tr>\n",
              "      <th>std</th>\n",
              "      <td>5280.225548</td>\n",
              "      <td>3.767057e+06</td>\n",
              "      <td>74738.050240</td>\n",
              "      <td>NaN</td>\n",
              "    </tr>\n",
              "    <tr>\n",
              "      <th>min</th>\n",
              "      <td>0.000000</td>\n",
              "      <td>6.555939e+06</td>\n",
              "      <td>30.000000</td>\n",
              "      <td>NaN</td>\n",
              "    </tr>\n",
              "    <tr>\n",
              "      <th>25%</th>\n",
              "      <td>384.000000</td>\n",
              "      <td>5.440801e+07</td>\n",
              "      <td>40500.000000</td>\n",
              "      <td>NaN</td>\n",
              "    </tr>\n",
              "    <tr>\n",
              "      <th>50%</th>\n",
              "      <td>1379.000000</td>\n",
              "      <td>5.517681e+07</td>\n",
              "      <td>70000.000000</td>\n",
              "      <td>NaN</td>\n",
              "    </tr>\n",
              "    <tr>\n",
              "      <th>75%</th>\n",
              "      <td>6303.500000</td>\n",
              "      <td>5.546657e+07</td>\n",
              "      <td>123893.000000</td>\n",
              "      <td>NaN</td>\n",
              "    </tr>\n",
              "    <tr>\n",
              "      <th>max</th>\n",
              "      <td>20065.000000</td>\n",
              "      <td>6.611540e+07</td>\n",
              "      <td>898230.000000</td>\n",
              "      <td>NaN</td>\n",
              "    </tr>\n",
              "  </tbody>\n",
              "</table>\n",
              "</div>\n",
              "      <button class=\"colab-df-convert\" onclick=\"convertToInteractive('df-9b033e2a-e480-4933-8f36-be959b3dccbf')\"\n",
              "              title=\"Convert this dataframe to an interactive table.\"\n",
              "              style=\"display:none;\">\n",
              "        \n",
              "  <svg xmlns=\"http://www.w3.org/2000/svg\" height=\"24px\"viewBox=\"0 0 24 24\"\n",
              "       width=\"24px\">\n",
              "    <path d=\"M0 0h24v24H0V0z\" fill=\"none\"/>\n",
              "    <path d=\"M18.56 5.44l.94 2.06.94-2.06 2.06-.94-2.06-.94-.94-2.06-.94 2.06-2.06.94zm-11 1L8.5 8.5l.94-2.06 2.06-.94-2.06-.94L8.5 2.5l-.94 2.06-2.06.94zm10 10l.94 2.06.94-2.06 2.06-.94-2.06-.94-.94-2.06-.94 2.06-2.06.94z\"/><path d=\"M17.41 7.96l-1.37-1.37c-.4-.4-.92-.59-1.43-.59-.52 0-1.04.2-1.43.59L10.3 9.45l-7.72 7.72c-.78.78-.78 2.05 0 2.83L4 21.41c.39.39.9.59 1.41.59.51 0 1.02-.2 1.41-.59l7.78-7.78 2.81-2.81c.8-.78.8-2.07 0-2.86zM5.41 20L4 18.59l7.72-7.72 1.47 1.35L5.41 20z\"/>\n",
              "  </svg>\n",
              "      </button>\n",
              "      \n",
              "  <style>\n",
              "    .colab-df-container {\n",
              "      display:flex;\n",
              "      flex-wrap:wrap;\n",
              "      gap: 12px;\n",
              "    }\n",
              "\n",
              "    .colab-df-convert {\n",
              "      background-color: #E8F0FE;\n",
              "      border: none;\n",
              "      border-radius: 50%;\n",
              "      cursor: pointer;\n",
              "      display: none;\n",
              "      fill: #1967D2;\n",
              "      height: 32px;\n",
              "      padding: 0 0 0 0;\n",
              "      width: 32px;\n",
              "    }\n",
              "\n",
              "    .colab-df-convert:hover {\n",
              "      background-color: #E2EBFA;\n",
              "      box-shadow: 0px 1px 2px rgba(60, 64, 67, 0.3), 0px 1px 3px 1px rgba(60, 64, 67, 0.15);\n",
              "      fill: #174EA6;\n",
              "    }\n",
              "\n",
              "    [theme=dark] .colab-df-convert {\n",
              "      background-color: #3B4455;\n",
              "      fill: #D2E3FC;\n",
              "    }\n",
              "\n",
              "    [theme=dark] .colab-df-convert:hover {\n",
              "      background-color: #434B5C;\n",
              "      box-shadow: 0px 1px 3px 1px rgba(0, 0, 0, 0.15);\n",
              "      filter: drop-shadow(0px 1px 2px rgba(0, 0, 0, 0.3));\n",
              "      fill: #FFFFFF;\n",
              "    }\n",
              "  </style>\n",
              "\n",
              "      <script>\n",
              "        const buttonEl =\n",
              "          document.querySelector('#df-9b033e2a-e480-4933-8f36-be959b3dccbf button.colab-df-convert');\n",
              "        buttonEl.style.display =\n",
              "          google.colab.kernel.accessAllowed ? 'block' : 'none';\n",
              "\n",
              "        async function convertToInteractive(key) {\n",
              "          const element = document.querySelector('#df-9b033e2a-e480-4933-8f36-be959b3dccbf');\n",
              "          const dataTable =\n",
              "            await google.colab.kernel.invokeFunction('convertToInteractive',\n",
              "                                                     [key], {});\n",
              "          if (!dataTable) return;\n",
              "\n",
              "          const docLinkHtml = 'Like what you see? Visit the ' +\n",
              "            '<a target=\"_blank\" href=https://colab.research.google.com/notebooks/data_table.ipynb>data table notebook</a>'\n",
              "            + ' to learn more about interactive tables.';\n",
              "          element.innerHTML = '';\n",
              "          dataTable['output_type'] = 'display_data';\n",
              "          await google.colab.output.renderOutput(dataTable, element);\n",
              "          const docLink = document.createElement('div');\n",
              "          docLink.innerHTML = docLinkHtml;\n",
              "          element.appendChild(docLink);\n",
              "        }\n",
              "      </script>\n",
              "    </div>\n",
              "  </div>\n",
              "  "
            ]
          },
          "metadata": {},
          "execution_count": 24
        }
      ]
    },
    {
      "cell_type": "markdown",
      "source": [
        "Можно оценить статистики по зарплате по всей ИТ (исключая минимальное значение, которое принимается как выброс и в дальнейшем будет скорректировно)"
      ],
      "metadata": {
        "id": "dMwMvWdhbHkq"
      }
    },
    {
      "cell_type": "markdown",
      "source": [
        "## 4. Выбираю колонки для анализа\n"
      ],
      "metadata": {
        "id": "JsvE-pjfg6HR"
      }
    },
    {
      "cell_type": "code",
      "source": [
        "df.head()"
      ],
      "metadata": {
        "colab": {
          "base_uri": "https://localhost:8080/",
          "height": 635
        },
        "id": "RrROmtqchFch",
        "outputId": "d26b9a72-5937-4465-94e6-8e622792cbde"
      },
      "execution_count": null,
      "outputs": [
        {
          "output_type": "execute_result",
          "data": {
            "text/plain": [
              "   Unnamed: 0        id  premium  \\\n",
              "0           0  49059633    False   \n",
              "1           1  54653519    False   \n",
              "2           2  55116066    False   \n",
              "3           3  54031261    False   \n",
              "4           4  55243040    False   \n",
              "\n",
              "                                               name  \\\n",
              "0           Младший специалист ручного тестирования   \n",
              "1                                   Тестировщик.Net   \n",
              "2                                         Пентестер   \n",
              "3  Ведущий Специалист по информационным технологиям   \n",
              "4                   Специалист по защите информации   \n",
              "\n",
              "                                          department  has_test  \\\n",
              "0                                                NaN     False   \n",
              "1                                                NaN     False   \n",
              "2                                                NaN     False   \n",
              "3  {'id': 'pochta-4352-office', 'name': '«Почта Р...     False   \n",
              "4                                                NaN     False   \n",
              "\n",
              "   response_letter_required  \\\n",
              "0                     False   \n",
              "1                     False   \n",
              "2                     False   \n",
              "3                     False   \n",
              "4                     False   \n",
              "\n",
              "                                                area   salary  \\\n",
              "0  {'id': '15', 'name': 'Астрахань', 'url': 'http...      NaN   \n",
              "1  {'id': '15', 'name': 'Астрахань', 'url': 'http...  33186.0   \n",
              "2  {'id': '15', 'name': 'Астрахань', 'url': 'http...      NaN   \n",
              "3  {'id': '15', 'name': 'Астрахань', 'url': 'http...  23008.0   \n",
              "4  {'id': '15', 'name': 'Астрахань', 'url': 'http...  20000.0   \n",
              "\n",
              "                                 type  \\\n",
              "0  {'id': 'open', 'name': 'Открытая'}   \n",
              "1  {'id': 'open', 'name': 'Открытая'}   \n",
              "2  {'id': 'open', 'name': 'Открытая'}   \n",
              "3  {'id': 'open', 'name': 'Открытая'}   \n",
              "4  {'id': 'open', 'name': 'Открытая'}   \n",
              "\n",
              "                                             address response_url  \\\n",
              "0                                                NaN          NaN   \n",
              "1                                                NaN          NaN   \n",
              "2                                                NaN          NaN   \n",
              "3  {'city': 'Астрахань', 'street': 'улица Черныше...          NaN   \n",
              "4  {'city': 'Астрахань', 'street': 'улица Молодой...          NaN   \n",
              "\n",
              "   sort_point_distance              published_at                created_at  \\\n",
              "0                  NaN  2022-05-23T09:11:18+0300  2022-05-23T09:11:18+0300   \n",
              "1                  NaN  2022-04-28T17:36:03+0300  2022-04-28T17:36:03+0300   \n",
              "2                  NaN  2022-05-20T10:07:33+0300  2022-05-20T10:07:33+0300   \n",
              "3                  NaN  2022-05-23T07:46:16+0300  2022-05-23T07:46:16+0300   \n",
              "4                  NaN  2022-05-06T10:18:54+0300  2022-05-06T10:18:54+0300   \n",
              "\n",
              "   archived insider_interview  \\\n",
              "0     False               NaN   \n",
              "1     False               NaN   \n",
              "2     False               NaN   \n",
              "3     False               NaN   \n",
              "4     False               NaN   \n",
              "\n",
              "                                               url  \\\n",
              "0  https://api.hh.ru/vacancies/49059633?host=hh.ru   \n",
              "1  https://api.hh.ru/vacancies/54653519?host=hh.ru   \n",
              "2  https://api.hh.ru/vacancies/55116066?host=hh.ru   \n",
              "3  https://api.hh.ru/vacancies/54031261?host=hh.ru   \n",
              "4  https://api.hh.ru/vacancies/55243040?host=hh.ru   \n",
              "\n",
              "                    alternate_url relations  \\\n",
              "0  https://hh.ru/vacancy/49059633        []   \n",
              "1  https://hh.ru/vacancy/54653519        []   \n",
              "2  https://hh.ru/vacancy/55116066        []   \n",
              "3  https://hh.ru/vacancy/54031261        []   \n",
              "4  https://hh.ru/vacancy/55243040        []   \n",
              "\n",
              "                                            employer  \\\n",
              "0  {'id': '1740', 'name': 'Яндекс', 'url': 'https...   \n",
              "1  {'id': '1245158', 'name': 'МФК Саммит', 'url':...   \n",
              "2  {'id': '719820', 'name': 'SearchInform', 'url'...   \n",
              "3  {'id': '4352', 'name': 'Почта России', 'url': ...   \n",
              "4  {'id': '6694236', 'name': 'ГБПОУ АО Астраханск...   \n",
              "\n",
              "                                             snippet  \\\n",
              "0  {'requirement': 'Внимательны и наблюдательны. ...   \n",
              "1  {'requirement': 'Мы ищем талантливого и амбици...   \n",
              "2  {'requirement': 'Глубокие знания клиентских и ...   \n",
              "3  {'requirement': 'Средне-профессиональное или в...   \n",
              "4  {'requirement': 'Медицинская комиссия, справка...   \n",
              "\n",
              "                                            contacts  \\\n",
              "0                                                NaN   \n",
              "1  {'name': 'Синанова Мария', 'email': 'sinanova....   \n",
              "2                                                NaN   \n",
              "3  {'name': 'Данилова Екатерина Александровна', '...   \n",
              "4  {'name': 'Трубицына Елена', 'email': 'info@ast...   \n",
              "\n",
              "                                       schedule working_days  \\\n",
              "0  {'id': 'remote', 'name': 'Удаленная работа'}           []   \n",
              "1      {'id': 'fullDay', 'name': 'Полный день'}           []   \n",
              "2      {'id': 'fullDay', 'name': 'Полный день'}           []   \n",
              "3      {'id': 'fullDay', 'name': 'Полный день'}           []   \n",
              "4      {'id': 'fullDay', 'name': 'Полный день'}           []   \n",
              "\n",
              "  working_time_intervals working_time_modes  accept_temporary  \\\n",
              "0                     []                 []             False   \n",
              "1                     []                 []             False   \n",
              "2                     []                 []             False   \n",
              "3                     []                 []             False   \n",
              "4                     []                 []             False   \n",
              "\n",
              "                                         description  \\\n",
              "0  <p>В некоторых проектах Яндексу помогают компа...   \n",
              "1  <p><em><strong>Мы ищем талантливого и амбициоз...   \n",
              "2  <p>Лидер на рынке систем информационной безопа...   \n",
              "3  <ul> <li>Администрирование компьютерной сети</...   \n",
              "4  <strong>Обязанности:</strong> <ul> <li>Обеспеч...   \n",
              "\n",
              "                                          experience  \\\n",
              "0        {'id': 'noExperience', 'name': 'Нет опыта'}   \n",
              "1  {'id': 'between1And3', 'name': 'От 1 года до 3...   \n",
              "2    {'id': 'between3And6', 'name': 'От 3 до 6 лет'}   \n",
              "3        {'id': 'noExperience', 'name': 'Нет опыта'}   \n",
              "4        {'id': 'noExperience', 'name': 'Нет опыта'}   \n",
              "\n",
              "                                          key_skills  \\\n",
              "0                                                 []   \n",
              "1  [{'name': 'Git'}, {'name': 'SQL'}, {'name': 'Т...   \n",
              "2  [{'name': 'SQL'}, {'name': 'Linux'}, {'name': ...   \n",
              "3  [{'name': 'Пользователь ПК'}, {'name': 'Работа...   \n",
              "4  [{'name': 'MS Dos'}, {'name': 'Диагностика ПК'...   \n",
              "\n",
              "                                     specializations                region  \\\n",
              "0  [{'id': '1.172', 'name': 'Начальный уровень, М...  Астраханская область   \n",
              "1  [{'id': '1.221', 'name': 'Программирование, Ра...  Астраханская область   \n",
              "2  [{'id': '1.221', 'name': 'Программирование, Ра...  Астраханская область   \n",
              "3  [{'id': '1.110', 'name': 'Компьютерная безопас...  Астраханская область   \n",
              "4  [{'id': '1.110', 'name': 'Компьютерная безопас...  Астраханская область   \n",
              "\n",
              "  immediate_redirect_url                             specializations_edited  \n",
              "0                    NaN  {'Начало карьеры, студенты', 'Информационные т...  \n",
              "1                    NaN   {'Информационные технологии, интернет, телеком'}  \n",
              "2                    NaN   {'Информационные технологии, интернет, телеком'}  \n",
              "3                    NaN   {'Информационные технологии, интернет, телеком'}  \n",
              "4                    NaN   {'Информационные технологии, интернет, телеком'}  "
            ],
            "text/html": [
              "\n",
              "  <div id=\"df-3cd7e513-f233-4565-8514-04e34eca98dc\">\n",
              "    <div class=\"colab-df-container\">\n",
              "      <div>\n",
              "<style scoped>\n",
              "    .dataframe tbody tr th:only-of-type {\n",
              "        vertical-align: middle;\n",
              "    }\n",
              "\n",
              "    .dataframe tbody tr th {\n",
              "        vertical-align: top;\n",
              "    }\n",
              "\n",
              "    .dataframe thead th {\n",
              "        text-align: right;\n",
              "    }\n",
              "</style>\n",
              "<table border=\"1\" class=\"dataframe\">\n",
              "  <thead>\n",
              "    <tr style=\"text-align: right;\">\n",
              "      <th></th>\n",
              "      <th>Unnamed: 0</th>\n",
              "      <th>id</th>\n",
              "      <th>premium</th>\n",
              "      <th>name</th>\n",
              "      <th>department</th>\n",
              "      <th>has_test</th>\n",
              "      <th>response_letter_required</th>\n",
              "      <th>area</th>\n",
              "      <th>salary</th>\n",
              "      <th>type</th>\n",
              "      <th>address</th>\n",
              "      <th>response_url</th>\n",
              "      <th>sort_point_distance</th>\n",
              "      <th>published_at</th>\n",
              "      <th>created_at</th>\n",
              "      <th>archived</th>\n",
              "      <th>insider_interview</th>\n",
              "      <th>url</th>\n",
              "      <th>alternate_url</th>\n",
              "      <th>relations</th>\n",
              "      <th>employer</th>\n",
              "      <th>snippet</th>\n",
              "      <th>contacts</th>\n",
              "      <th>schedule</th>\n",
              "      <th>working_days</th>\n",
              "      <th>working_time_intervals</th>\n",
              "      <th>working_time_modes</th>\n",
              "      <th>accept_temporary</th>\n",
              "      <th>description</th>\n",
              "      <th>experience</th>\n",
              "      <th>key_skills</th>\n",
              "      <th>specializations</th>\n",
              "      <th>region</th>\n",
              "      <th>immediate_redirect_url</th>\n",
              "      <th>specializations_edited</th>\n",
              "    </tr>\n",
              "  </thead>\n",
              "  <tbody>\n",
              "    <tr>\n",
              "      <th>0</th>\n",
              "      <td>0</td>\n",
              "      <td>49059633</td>\n",
              "      <td>False</td>\n",
              "      <td>Младший специалист ручного тестирования</td>\n",
              "      <td>NaN</td>\n",
              "      <td>False</td>\n",
              "      <td>False</td>\n",
              "      <td>{'id': '15', 'name': 'Астрахань', 'url': 'http...</td>\n",
              "      <td>NaN</td>\n",
              "      <td>{'id': 'open', 'name': 'Открытая'}</td>\n",
              "      <td>NaN</td>\n",
              "      <td>NaN</td>\n",
              "      <td>NaN</td>\n",
              "      <td>2022-05-23T09:11:18+0300</td>\n",
              "      <td>2022-05-23T09:11:18+0300</td>\n",
              "      <td>False</td>\n",
              "      <td>NaN</td>\n",
              "      <td>https://api.hh.ru/vacancies/49059633?host=hh.ru</td>\n",
              "      <td>https://hh.ru/vacancy/49059633</td>\n",
              "      <td>[]</td>\n",
              "      <td>{'id': '1740', 'name': 'Яндекс', 'url': 'https...</td>\n",
              "      <td>{'requirement': 'Внимательны и наблюдательны. ...</td>\n",
              "      <td>NaN</td>\n",
              "      <td>{'id': 'remote', 'name': 'Удаленная работа'}</td>\n",
              "      <td>[]</td>\n",
              "      <td>[]</td>\n",
              "      <td>[]</td>\n",
              "      <td>False</td>\n",
              "      <td>&lt;p&gt;В некоторых проектах Яндексу помогают компа...</td>\n",
              "      <td>{'id': 'noExperience', 'name': 'Нет опыта'}</td>\n",
              "      <td>[]</td>\n",
              "      <td>[{'id': '1.172', 'name': 'Начальный уровень, М...</td>\n",
              "      <td>Астраханская область</td>\n",
              "      <td>NaN</td>\n",
              "      <td>{'Начало карьеры, студенты', 'Информационные т...</td>\n",
              "    </tr>\n",
              "    <tr>\n",
              "      <th>1</th>\n",
              "      <td>1</td>\n",
              "      <td>54653519</td>\n",
              "      <td>False</td>\n",
              "      <td>Тестировщик.Net</td>\n",
              "      <td>NaN</td>\n",
              "      <td>False</td>\n",
              "      <td>False</td>\n",
              "      <td>{'id': '15', 'name': 'Астрахань', 'url': 'http...</td>\n",
              "      <td>33186.0</td>\n",
              "      <td>{'id': 'open', 'name': 'Открытая'}</td>\n",
              "      <td>NaN</td>\n",
              "      <td>NaN</td>\n",
              "      <td>NaN</td>\n",
              "      <td>2022-04-28T17:36:03+0300</td>\n",
              "      <td>2022-04-28T17:36:03+0300</td>\n",
              "      <td>False</td>\n",
              "      <td>NaN</td>\n",
              "      <td>https://api.hh.ru/vacancies/54653519?host=hh.ru</td>\n",
              "      <td>https://hh.ru/vacancy/54653519</td>\n",
              "      <td>[]</td>\n",
              "      <td>{'id': '1245158', 'name': 'МФК Саммит', 'url':...</td>\n",
              "      <td>{'requirement': 'Мы ищем талантливого и амбици...</td>\n",
              "      <td>{'name': 'Синанова Мария', 'email': 'sinanova....</td>\n",
              "      <td>{'id': 'fullDay', 'name': 'Полный день'}</td>\n",
              "      <td>[]</td>\n",
              "      <td>[]</td>\n",
              "      <td>[]</td>\n",
              "      <td>False</td>\n",
              "      <td>&lt;p&gt;&lt;em&gt;&lt;strong&gt;Мы ищем талантливого и амбициоз...</td>\n",
              "      <td>{'id': 'between1And3', 'name': 'От 1 года до 3...</td>\n",
              "      <td>[{'name': 'Git'}, {'name': 'SQL'}, {'name': 'Т...</td>\n",
              "      <td>[{'id': '1.221', 'name': 'Программирование, Ра...</td>\n",
              "      <td>Астраханская область</td>\n",
              "      <td>NaN</td>\n",
              "      <td>{'Информационные технологии, интернет, телеком'}</td>\n",
              "    </tr>\n",
              "    <tr>\n",
              "      <th>2</th>\n",
              "      <td>2</td>\n",
              "      <td>55116066</td>\n",
              "      <td>False</td>\n",
              "      <td>Пентестер</td>\n",
              "      <td>NaN</td>\n",
              "      <td>False</td>\n",
              "      <td>False</td>\n",
              "      <td>{'id': '15', 'name': 'Астрахань', 'url': 'http...</td>\n",
              "      <td>NaN</td>\n",
              "      <td>{'id': 'open', 'name': 'Открытая'}</td>\n",
              "      <td>NaN</td>\n",
              "      <td>NaN</td>\n",
              "      <td>NaN</td>\n",
              "      <td>2022-05-20T10:07:33+0300</td>\n",
              "      <td>2022-05-20T10:07:33+0300</td>\n",
              "      <td>False</td>\n",
              "      <td>NaN</td>\n",
              "      <td>https://api.hh.ru/vacancies/55116066?host=hh.ru</td>\n",
              "      <td>https://hh.ru/vacancy/55116066</td>\n",
              "      <td>[]</td>\n",
              "      <td>{'id': '719820', 'name': 'SearchInform', 'url'...</td>\n",
              "      <td>{'requirement': 'Глубокие знания клиентских и ...</td>\n",
              "      <td>NaN</td>\n",
              "      <td>{'id': 'fullDay', 'name': 'Полный день'}</td>\n",
              "      <td>[]</td>\n",
              "      <td>[]</td>\n",
              "      <td>[]</td>\n",
              "      <td>False</td>\n",
              "      <td>&lt;p&gt;Лидер на рынке систем информационной безопа...</td>\n",
              "      <td>{'id': 'between3And6', 'name': 'От 3 до 6 лет'}</td>\n",
              "      <td>[{'name': 'SQL'}, {'name': 'Linux'}, {'name': ...</td>\n",
              "      <td>[{'id': '1.221', 'name': 'Программирование, Ра...</td>\n",
              "      <td>Астраханская область</td>\n",
              "      <td>NaN</td>\n",
              "      <td>{'Информационные технологии, интернет, телеком'}</td>\n",
              "    </tr>\n",
              "    <tr>\n",
              "      <th>3</th>\n",
              "      <td>3</td>\n",
              "      <td>54031261</td>\n",
              "      <td>False</td>\n",
              "      <td>Ведущий Специалист по информационным технологиям</td>\n",
              "      <td>{'id': 'pochta-4352-office', 'name': '«Почта Р...</td>\n",
              "      <td>False</td>\n",
              "      <td>False</td>\n",
              "      <td>{'id': '15', 'name': 'Астрахань', 'url': 'http...</td>\n",
              "      <td>23008.0</td>\n",
              "      <td>{'id': 'open', 'name': 'Открытая'}</td>\n",
              "      <td>{'city': 'Астрахань', 'street': 'улица Черныше...</td>\n",
              "      <td>NaN</td>\n",
              "      <td>NaN</td>\n",
              "      <td>2022-05-23T07:46:16+0300</td>\n",
              "      <td>2022-05-23T07:46:16+0300</td>\n",
              "      <td>False</td>\n",
              "      <td>NaN</td>\n",
              "      <td>https://api.hh.ru/vacancies/54031261?host=hh.ru</td>\n",
              "      <td>https://hh.ru/vacancy/54031261</td>\n",
              "      <td>[]</td>\n",
              "      <td>{'id': '4352', 'name': 'Почта России', 'url': ...</td>\n",
              "      <td>{'requirement': 'Средне-профессиональное или в...</td>\n",
              "      <td>{'name': 'Данилова Екатерина Александровна', '...</td>\n",
              "      <td>{'id': 'fullDay', 'name': 'Полный день'}</td>\n",
              "      <td>[]</td>\n",
              "      <td>[]</td>\n",
              "      <td>[]</td>\n",
              "      <td>False</td>\n",
              "      <td>&lt;ul&gt; &lt;li&gt;Администрирование компьютерной сети&lt;/...</td>\n",
              "      <td>{'id': 'noExperience', 'name': 'Нет опыта'}</td>\n",
              "      <td>[{'name': 'Пользователь ПК'}, {'name': 'Работа...</td>\n",
              "      <td>[{'id': '1.110', 'name': 'Компьютерная безопас...</td>\n",
              "      <td>Астраханская область</td>\n",
              "      <td>NaN</td>\n",
              "      <td>{'Информационные технологии, интернет, телеком'}</td>\n",
              "    </tr>\n",
              "    <tr>\n",
              "      <th>4</th>\n",
              "      <td>4</td>\n",
              "      <td>55243040</td>\n",
              "      <td>False</td>\n",
              "      <td>Специалист по защите информации</td>\n",
              "      <td>NaN</td>\n",
              "      <td>False</td>\n",
              "      <td>False</td>\n",
              "      <td>{'id': '15', 'name': 'Астрахань', 'url': 'http...</td>\n",
              "      <td>20000.0</td>\n",
              "      <td>{'id': 'open', 'name': 'Открытая'}</td>\n",
              "      <td>{'city': 'Астрахань', 'street': 'улица Молодой...</td>\n",
              "      <td>NaN</td>\n",
              "      <td>NaN</td>\n",
              "      <td>2022-05-06T10:18:54+0300</td>\n",
              "      <td>2022-05-06T10:18:54+0300</td>\n",
              "      <td>False</td>\n",
              "      <td>NaN</td>\n",
              "      <td>https://api.hh.ru/vacancies/55243040?host=hh.ru</td>\n",
              "      <td>https://hh.ru/vacancy/55243040</td>\n",
              "      <td>[]</td>\n",
              "      <td>{'id': '6694236', 'name': 'ГБПОУ АО Астраханск...</td>\n",
              "      <td>{'requirement': 'Медицинская комиссия, справка...</td>\n",
              "      <td>{'name': 'Трубицына Елена', 'email': 'info@ast...</td>\n",
              "      <td>{'id': 'fullDay', 'name': 'Полный день'}</td>\n",
              "      <td>[]</td>\n",
              "      <td>[]</td>\n",
              "      <td>[]</td>\n",
              "      <td>False</td>\n",
              "      <td>&lt;strong&gt;Обязанности:&lt;/strong&gt; &lt;ul&gt; &lt;li&gt;Обеспеч...</td>\n",
              "      <td>{'id': 'noExperience', 'name': 'Нет опыта'}</td>\n",
              "      <td>[{'name': 'MS Dos'}, {'name': 'Диагностика ПК'...</td>\n",
              "      <td>[{'id': '1.110', 'name': 'Компьютерная безопас...</td>\n",
              "      <td>Астраханская область</td>\n",
              "      <td>NaN</td>\n",
              "      <td>{'Информационные технологии, интернет, телеком'}</td>\n",
              "    </tr>\n",
              "  </tbody>\n",
              "</table>\n",
              "</div>\n",
              "      <button class=\"colab-df-convert\" onclick=\"convertToInteractive('df-3cd7e513-f233-4565-8514-04e34eca98dc')\"\n",
              "              title=\"Convert this dataframe to an interactive table.\"\n",
              "              style=\"display:none;\">\n",
              "        \n",
              "  <svg xmlns=\"http://www.w3.org/2000/svg\" height=\"24px\"viewBox=\"0 0 24 24\"\n",
              "       width=\"24px\">\n",
              "    <path d=\"M0 0h24v24H0V0z\" fill=\"none\"/>\n",
              "    <path d=\"M18.56 5.44l.94 2.06.94-2.06 2.06-.94-2.06-.94-.94-2.06-.94 2.06-2.06.94zm-11 1L8.5 8.5l.94-2.06 2.06-.94-2.06-.94L8.5 2.5l-.94 2.06-2.06.94zm10 10l.94 2.06.94-2.06 2.06-.94-2.06-.94-.94-2.06-.94 2.06-2.06.94z\"/><path d=\"M17.41 7.96l-1.37-1.37c-.4-.4-.92-.59-1.43-.59-.52 0-1.04.2-1.43.59L10.3 9.45l-7.72 7.72c-.78.78-.78 2.05 0 2.83L4 21.41c.39.39.9.59 1.41.59.51 0 1.02-.2 1.41-.59l7.78-7.78 2.81-2.81c.8-.78.8-2.07 0-2.86zM5.41 20L4 18.59l7.72-7.72 1.47 1.35L5.41 20z\"/>\n",
              "  </svg>\n",
              "      </button>\n",
              "      \n",
              "  <style>\n",
              "    .colab-df-container {\n",
              "      display:flex;\n",
              "      flex-wrap:wrap;\n",
              "      gap: 12px;\n",
              "    }\n",
              "\n",
              "    .colab-df-convert {\n",
              "      background-color: #E8F0FE;\n",
              "      border: none;\n",
              "      border-radius: 50%;\n",
              "      cursor: pointer;\n",
              "      display: none;\n",
              "      fill: #1967D2;\n",
              "      height: 32px;\n",
              "      padding: 0 0 0 0;\n",
              "      width: 32px;\n",
              "    }\n",
              "\n",
              "    .colab-df-convert:hover {\n",
              "      background-color: #E2EBFA;\n",
              "      box-shadow: 0px 1px 2px rgba(60, 64, 67, 0.3), 0px 1px 3px 1px rgba(60, 64, 67, 0.15);\n",
              "      fill: #174EA6;\n",
              "    }\n",
              "\n",
              "    [theme=dark] .colab-df-convert {\n",
              "      background-color: #3B4455;\n",
              "      fill: #D2E3FC;\n",
              "    }\n",
              "\n",
              "    [theme=dark] .colab-df-convert:hover {\n",
              "      background-color: #434B5C;\n",
              "      box-shadow: 0px 1px 3px 1px rgba(0, 0, 0, 0.15);\n",
              "      filter: drop-shadow(0px 1px 2px rgba(0, 0, 0, 0.3));\n",
              "      fill: #FFFFFF;\n",
              "    }\n",
              "  </style>\n",
              "\n",
              "      <script>\n",
              "        const buttonEl =\n",
              "          document.querySelector('#df-3cd7e513-f233-4565-8514-04e34eca98dc button.colab-df-convert');\n",
              "        buttonEl.style.display =\n",
              "          google.colab.kernel.accessAllowed ? 'block' : 'none';\n",
              "\n",
              "        async function convertToInteractive(key) {\n",
              "          const element = document.querySelector('#df-3cd7e513-f233-4565-8514-04e34eca98dc');\n",
              "          const dataTable =\n",
              "            await google.colab.kernel.invokeFunction('convertToInteractive',\n",
              "                                                     [key], {});\n",
              "          if (!dataTable) return;\n",
              "\n",
              "          const docLinkHtml = 'Like what you see? Visit the ' +\n",
              "            '<a target=\"_blank\" href=https://colab.research.google.com/notebooks/data_table.ipynb>data table notebook</a>'\n",
              "            + ' to learn more about interactive tables.';\n",
              "          element.innerHTML = '';\n",
              "          dataTable['output_type'] = 'display_data';\n",
              "          await google.colab.output.renderOutput(dataTable, element);\n",
              "          const docLink = document.createElement('div');\n",
              "          docLink.innerHTML = docLinkHtml;\n",
              "          element.appendChild(docLink);\n",
              "        }\n",
              "      </script>\n",
              "    </div>\n",
              "  </div>\n",
              "  "
            ]
          },
          "metadata": {},
          "execution_count": 25
        }
      ]
    },
    {
      "cell_type": "markdown",
      "source": [
        "### Заметки по колонкам:\n",
        " - id - для быстрой ссылки на вакансию в основном df\n",
        " - name - наименование професии (привести к удобоваримому виду)\n",
        " - salary - средний доход по специальностям\n",
        " - published_at - проанализировать, как долго размещено объявление\n",
        " - employer - найти топ работодателей, понять, есть ли у них свои программы подготовки\n",
        " - experience - какой уровень опыта наиболее востребован\n",
        " - key_skills - чсто требуется, чему учить\n",
        "\n",
        " ~~- specializations - предметная область~~ изначально отфильтровано по данному полю\n",
        " - region - интересно посмотреть, где больше всего вакансий, кроме Мск.\n",
        "\n"
      ],
      "metadata": {
        "id": "y36fKweKHLC2"
      }
    },
    {
      "cell_type": "code",
      "source": [
        "df = df[['id', 'name', 'salary', 'published_at', 'employer', 'experience', 'key_skills', 'region']]"
      ],
      "metadata": {
        "id": "t-ZjFD3NhHsC"
      },
      "execution_count": null,
      "outputs": []
    },
    {
      "cell_type": "code",
      "source": [
        "df"
      ],
      "metadata": {
        "colab": {
          "base_uri": "https://localhost:8080/",
          "height": 1000
        },
        "id": "MqRb_wAPlg9Q",
        "outputId": "a60f9e50-3dbb-45d5-f854-023050a9e195"
      },
      "execution_count": null,
      "outputs": [
        {
          "output_type": "execute_result",
          "data": {
            "text/plain": [
              "             id                                               name    salary  \\\n",
              "0      49059633            Младший специалист ручного тестирования       NaN   \n",
              "1      54653519                                    Тестировщик.Net   33186.0   \n",
              "2      55116066                                          Пентестер       NaN   \n",
              "3      54031261   Ведущий Специалист по информационным технологиям   23008.0   \n",
              "4      55243040                    Специалист по защите информации   20000.0   \n",
              "...         ...                                                ...       ...   \n",
              "69651  66113834                                   Программист Java       NaN   \n",
              "69652  66113885                                     Программист 1C  130000.0   \n",
              "69653  54749225         Начальник отдела информационных технологий   50000.0   \n",
              "69654  55498724            Технический директор (DevOps, технолог)   85000.0   \n",
              "69655  55544352  Начальник отдела по защите информации и информ...       NaN   \n",
              "\n",
              "                   published_at  \\\n",
              "0      2022-05-23T09:11:18+0300   \n",
              "1      2022-04-28T17:36:03+0300   \n",
              "2      2022-05-20T10:07:33+0300   \n",
              "3      2022-05-23T07:46:16+0300   \n",
              "4      2022-05-06T10:18:54+0300   \n",
              "...                         ...   \n",
              "69651  2022-05-26T14:40:09+0300   \n",
              "69652  2022-05-26T14:41:55+0300   \n",
              "69653  2022-05-23T09:22:06+0300   \n",
              "69654  2022-05-18T09:38:54+0300   \n",
              "69655  2022-05-19T09:27:47+0300   \n",
              "\n",
              "                                                employer  \\\n",
              "0      {'id': '1740', 'name': 'Яндекс', 'url': 'https...   \n",
              "1      {'id': '1245158', 'name': 'МФК Саммит', 'url':...   \n",
              "2      {'id': '719820', 'name': 'SearchInform', 'url'...   \n",
              "3      {'id': '4352', 'name': 'Почта России', 'url': ...   \n",
              "4      {'id': '6694236', 'name': 'ГБПОУ АО Астраханск...   \n",
              "...                                                  ...   \n",
              "69651  {'id': '47858', 'name': 'Центральный банк Росс...   \n",
              "69652  {'id': '97966', 'name': 'Окраина', 'url': 'htt...   \n",
              "69653  {'id': '4494454', 'name': 'ГУЗ ГБ № 3 Г.Тулы',...   \n",
              "69654  {'id': '180706', 'name': 'ИнтерЛабс', 'url': '...   \n",
              "69655  {'id': '223916', 'name': 'ТИТАН-2, холдинг', '...   \n",
              "\n",
              "                                              experience  \\\n",
              "0            {'id': 'noExperience', 'name': 'Нет опыта'}   \n",
              "1      {'id': 'between1And3', 'name': 'От 1 года до 3...   \n",
              "2        {'id': 'between3And6', 'name': 'От 3 до 6 лет'}   \n",
              "3            {'id': 'noExperience', 'name': 'Нет опыта'}   \n",
              "4            {'id': 'noExperience', 'name': 'Нет опыта'}   \n",
              "...                                                  ...   \n",
              "69651    {'id': 'between3And6', 'name': 'От 3 до 6 лет'}   \n",
              "69652  {'id': 'between1And3', 'name': 'От 1 года до 3...   \n",
              "69653  {'id': 'between1And3', 'name': 'От 1 года до 3...   \n",
              "69654    {'id': 'between3And6', 'name': 'От 3 до 6 лет'}   \n",
              "69655         {'id': 'moreThan6', 'name': 'Более 6 лет'}   \n",
              "\n",
              "                                              key_skills                region  \n",
              "0                                                     []  Астраханская область  \n",
              "1      [{'name': 'Git'}, {'name': 'SQL'}, {'name': 'Т...  Астраханская область  \n",
              "2      [{'name': 'SQL'}, {'name': 'Linux'}, {'name': ...  Астраханская область  \n",
              "3      [{'name': 'Пользователь ПК'}, {'name': 'Работа...  Астраханская область  \n",
              "4      [{'name': 'MS Dos'}, {'name': 'Диагностика ПК'...  Астраханская область  \n",
              "...                                                  ...                   ...  \n",
              "69651                                                 []      Тульская область  \n",
              "69652  [{'name': '1С: Управление Торговлей'}, {'name'...      Тульская область  \n",
              "69653  [{'name': 'Организаторские навыки'}, {'name': ...      Тульская область  \n",
              "69654                                                 []      Тульская область  \n",
              "69655  [{'name': 'Информационная безопасность'}, {'na...      Тульская область  \n",
              "\n",
              "[49679 rows x 8 columns]"
            ],
            "text/html": [
              "\n",
              "  <div id=\"df-fb631a87-b726-427a-a3d7-560ba403cef4\">\n",
              "    <div class=\"colab-df-container\">\n",
              "      <div>\n",
              "<style scoped>\n",
              "    .dataframe tbody tr th:only-of-type {\n",
              "        vertical-align: middle;\n",
              "    }\n",
              "\n",
              "    .dataframe tbody tr th {\n",
              "        vertical-align: top;\n",
              "    }\n",
              "\n",
              "    .dataframe thead th {\n",
              "        text-align: right;\n",
              "    }\n",
              "</style>\n",
              "<table border=\"1\" class=\"dataframe\">\n",
              "  <thead>\n",
              "    <tr style=\"text-align: right;\">\n",
              "      <th></th>\n",
              "      <th>id</th>\n",
              "      <th>name</th>\n",
              "      <th>salary</th>\n",
              "      <th>published_at</th>\n",
              "      <th>employer</th>\n",
              "      <th>experience</th>\n",
              "      <th>key_skills</th>\n",
              "      <th>region</th>\n",
              "    </tr>\n",
              "  </thead>\n",
              "  <tbody>\n",
              "    <tr>\n",
              "      <th>0</th>\n",
              "      <td>49059633</td>\n",
              "      <td>Младший специалист ручного тестирования</td>\n",
              "      <td>NaN</td>\n",
              "      <td>2022-05-23T09:11:18+0300</td>\n",
              "      <td>{'id': '1740', 'name': 'Яндекс', 'url': 'https...</td>\n",
              "      <td>{'id': 'noExperience', 'name': 'Нет опыта'}</td>\n",
              "      <td>[]</td>\n",
              "      <td>Астраханская область</td>\n",
              "    </tr>\n",
              "    <tr>\n",
              "      <th>1</th>\n",
              "      <td>54653519</td>\n",
              "      <td>Тестировщик.Net</td>\n",
              "      <td>33186.0</td>\n",
              "      <td>2022-04-28T17:36:03+0300</td>\n",
              "      <td>{'id': '1245158', 'name': 'МФК Саммит', 'url':...</td>\n",
              "      <td>{'id': 'between1And3', 'name': 'От 1 года до 3...</td>\n",
              "      <td>[{'name': 'Git'}, {'name': 'SQL'}, {'name': 'Т...</td>\n",
              "      <td>Астраханская область</td>\n",
              "    </tr>\n",
              "    <tr>\n",
              "      <th>2</th>\n",
              "      <td>55116066</td>\n",
              "      <td>Пентестер</td>\n",
              "      <td>NaN</td>\n",
              "      <td>2022-05-20T10:07:33+0300</td>\n",
              "      <td>{'id': '719820', 'name': 'SearchInform', 'url'...</td>\n",
              "      <td>{'id': 'between3And6', 'name': 'От 3 до 6 лет'}</td>\n",
              "      <td>[{'name': 'SQL'}, {'name': 'Linux'}, {'name': ...</td>\n",
              "      <td>Астраханская область</td>\n",
              "    </tr>\n",
              "    <tr>\n",
              "      <th>3</th>\n",
              "      <td>54031261</td>\n",
              "      <td>Ведущий Специалист по информационным технологиям</td>\n",
              "      <td>23008.0</td>\n",
              "      <td>2022-05-23T07:46:16+0300</td>\n",
              "      <td>{'id': '4352', 'name': 'Почта России', 'url': ...</td>\n",
              "      <td>{'id': 'noExperience', 'name': 'Нет опыта'}</td>\n",
              "      <td>[{'name': 'Пользователь ПК'}, {'name': 'Работа...</td>\n",
              "      <td>Астраханская область</td>\n",
              "    </tr>\n",
              "    <tr>\n",
              "      <th>4</th>\n",
              "      <td>55243040</td>\n",
              "      <td>Специалист по защите информации</td>\n",
              "      <td>20000.0</td>\n",
              "      <td>2022-05-06T10:18:54+0300</td>\n",
              "      <td>{'id': '6694236', 'name': 'ГБПОУ АО Астраханск...</td>\n",
              "      <td>{'id': 'noExperience', 'name': 'Нет опыта'}</td>\n",
              "      <td>[{'name': 'MS Dos'}, {'name': 'Диагностика ПК'...</td>\n",
              "      <td>Астраханская область</td>\n",
              "    </tr>\n",
              "    <tr>\n",
              "      <th>...</th>\n",
              "      <td>...</td>\n",
              "      <td>...</td>\n",
              "      <td>...</td>\n",
              "      <td>...</td>\n",
              "      <td>...</td>\n",
              "      <td>...</td>\n",
              "      <td>...</td>\n",
              "      <td>...</td>\n",
              "    </tr>\n",
              "    <tr>\n",
              "      <th>69651</th>\n",
              "      <td>66113834</td>\n",
              "      <td>Программист Java</td>\n",
              "      <td>NaN</td>\n",
              "      <td>2022-05-26T14:40:09+0300</td>\n",
              "      <td>{'id': '47858', 'name': 'Центральный банк Росс...</td>\n",
              "      <td>{'id': 'between3And6', 'name': 'От 3 до 6 лет'}</td>\n",
              "      <td>[]</td>\n",
              "      <td>Тульская область</td>\n",
              "    </tr>\n",
              "    <tr>\n",
              "      <th>69652</th>\n",
              "      <td>66113885</td>\n",
              "      <td>Программист 1C</td>\n",
              "      <td>130000.0</td>\n",
              "      <td>2022-05-26T14:41:55+0300</td>\n",
              "      <td>{'id': '97966', 'name': 'Окраина', 'url': 'htt...</td>\n",
              "      <td>{'id': 'between1And3', 'name': 'От 1 года до 3...</td>\n",
              "      <td>[{'name': '1С: Управление Торговлей'}, {'name'...</td>\n",
              "      <td>Тульская область</td>\n",
              "    </tr>\n",
              "    <tr>\n",
              "      <th>69653</th>\n",
              "      <td>54749225</td>\n",
              "      <td>Начальник отдела информационных технологий</td>\n",
              "      <td>50000.0</td>\n",
              "      <td>2022-05-23T09:22:06+0300</td>\n",
              "      <td>{'id': '4494454', 'name': 'ГУЗ ГБ № 3 Г.Тулы',...</td>\n",
              "      <td>{'id': 'between1And3', 'name': 'От 1 года до 3...</td>\n",
              "      <td>[{'name': 'Организаторские навыки'}, {'name': ...</td>\n",
              "      <td>Тульская область</td>\n",
              "    </tr>\n",
              "    <tr>\n",
              "      <th>69654</th>\n",
              "      <td>55498724</td>\n",
              "      <td>Технический директор (DevOps, технолог)</td>\n",
              "      <td>85000.0</td>\n",
              "      <td>2022-05-18T09:38:54+0300</td>\n",
              "      <td>{'id': '180706', 'name': 'ИнтерЛабс', 'url': '...</td>\n",
              "      <td>{'id': 'between3And6', 'name': 'От 3 до 6 лет'}</td>\n",
              "      <td>[]</td>\n",
              "      <td>Тульская область</td>\n",
              "    </tr>\n",
              "    <tr>\n",
              "      <th>69655</th>\n",
              "      <td>55544352</td>\n",
              "      <td>Начальник отдела по защите информации и информ...</td>\n",
              "      <td>NaN</td>\n",
              "      <td>2022-05-19T09:27:47+0300</td>\n",
              "      <td>{'id': '223916', 'name': 'ТИТАН-2, холдинг', '...</td>\n",
              "      <td>{'id': 'moreThan6', 'name': 'Более 6 лет'}</td>\n",
              "      <td>[{'name': 'Информационная безопасность'}, {'na...</td>\n",
              "      <td>Тульская область</td>\n",
              "    </tr>\n",
              "  </tbody>\n",
              "</table>\n",
              "<p>49679 rows × 8 columns</p>\n",
              "</div>\n",
              "      <button class=\"colab-df-convert\" onclick=\"convertToInteractive('df-fb631a87-b726-427a-a3d7-560ba403cef4')\"\n",
              "              title=\"Convert this dataframe to an interactive table.\"\n",
              "              style=\"display:none;\">\n",
              "        \n",
              "  <svg xmlns=\"http://www.w3.org/2000/svg\" height=\"24px\"viewBox=\"0 0 24 24\"\n",
              "       width=\"24px\">\n",
              "    <path d=\"M0 0h24v24H0V0z\" fill=\"none\"/>\n",
              "    <path d=\"M18.56 5.44l.94 2.06.94-2.06 2.06-.94-2.06-.94-.94-2.06-.94 2.06-2.06.94zm-11 1L8.5 8.5l.94-2.06 2.06-.94-2.06-.94L8.5 2.5l-.94 2.06-2.06.94zm10 10l.94 2.06.94-2.06 2.06-.94-2.06-.94-.94-2.06-.94 2.06-2.06.94z\"/><path d=\"M17.41 7.96l-1.37-1.37c-.4-.4-.92-.59-1.43-.59-.52 0-1.04.2-1.43.59L10.3 9.45l-7.72 7.72c-.78.78-.78 2.05 0 2.83L4 21.41c.39.39.9.59 1.41.59.51 0 1.02-.2 1.41-.59l7.78-7.78 2.81-2.81c.8-.78.8-2.07 0-2.86zM5.41 20L4 18.59l7.72-7.72 1.47 1.35L5.41 20z\"/>\n",
              "  </svg>\n",
              "      </button>\n",
              "      \n",
              "  <style>\n",
              "    .colab-df-container {\n",
              "      display:flex;\n",
              "      flex-wrap:wrap;\n",
              "      gap: 12px;\n",
              "    }\n",
              "\n",
              "    .colab-df-convert {\n",
              "      background-color: #E8F0FE;\n",
              "      border: none;\n",
              "      border-radius: 50%;\n",
              "      cursor: pointer;\n",
              "      display: none;\n",
              "      fill: #1967D2;\n",
              "      height: 32px;\n",
              "      padding: 0 0 0 0;\n",
              "      width: 32px;\n",
              "    }\n",
              "\n",
              "    .colab-df-convert:hover {\n",
              "      background-color: #E2EBFA;\n",
              "      box-shadow: 0px 1px 2px rgba(60, 64, 67, 0.3), 0px 1px 3px 1px rgba(60, 64, 67, 0.15);\n",
              "      fill: #174EA6;\n",
              "    }\n",
              "\n",
              "    [theme=dark] .colab-df-convert {\n",
              "      background-color: #3B4455;\n",
              "      fill: #D2E3FC;\n",
              "    }\n",
              "\n",
              "    [theme=dark] .colab-df-convert:hover {\n",
              "      background-color: #434B5C;\n",
              "      box-shadow: 0px 1px 3px 1px rgba(0, 0, 0, 0.15);\n",
              "      filter: drop-shadow(0px 1px 2px rgba(0, 0, 0, 0.3));\n",
              "      fill: #FFFFFF;\n",
              "    }\n",
              "  </style>\n",
              "\n",
              "      <script>\n",
              "        const buttonEl =\n",
              "          document.querySelector('#df-fb631a87-b726-427a-a3d7-560ba403cef4 button.colab-df-convert');\n",
              "        buttonEl.style.display =\n",
              "          google.colab.kernel.accessAllowed ? 'block' : 'none';\n",
              "\n",
              "        async function convertToInteractive(key) {\n",
              "          const element = document.querySelector('#df-fb631a87-b726-427a-a3d7-560ba403cef4');\n",
              "          const dataTable =\n",
              "            await google.colab.kernel.invokeFunction('convertToInteractive',\n",
              "                                                     [key], {});\n",
              "          if (!dataTable) return;\n",
              "\n",
              "          const docLinkHtml = 'Like what you see? Visit the ' +\n",
              "            '<a target=\"_blank\" href=https://colab.research.google.com/notebooks/data_table.ipynb>data table notebook</a>'\n",
              "            + ' to learn more about interactive tables.';\n",
              "          element.innerHTML = '';\n",
              "          dataTable['output_type'] = 'display_data';\n",
              "          await google.colab.output.renderOutput(dataTable, element);\n",
              "          const docLink = document.createElement('div');\n",
              "          docLink.innerHTML = docLinkHtml;\n",
              "          element.appendChild(docLink);\n",
              "        }\n",
              "      </script>\n",
              "    </div>\n",
              "  </div>\n",
              "  "
            ]
          },
          "metadata": {},
          "execution_count": 27
        }
      ]
    },
    {
      "cell_type": "code",
      "source": [
        "df.info()"
      ],
      "metadata": {
        "colab": {
          "base_uri": "https://localhost:8080/"
        },
        "id": "DKs_ODM3llza",
        "outputId": "d7c72b3f-e200-4483-dc53-66ba5a28b075"
      },
      "execution_count": null,
      "outputs": [
        {
          "output_type": "stream",
          "name": "stdout",
          "text": [
            "<class 'pandas.core.frame.DataFrame'>\n",
            "Int64Index: 49679 entries, 0 to 69655\n",
            "Data columns (total 8 columns):\n",
            " #   Column        Non-Null Count  Dtype  \n",
            "---  ------        --------------  -----  \n",
            " 0   id            49679 non-null  int64  \n",
            " 1   name          49679 non-null  object \n",
            " 2   salary        22478 non-null  float64\n",
            " 3   published_at  49679 non-null  object \n",
            " 4   employer      49679 non-null  object \n",
            " 5   experience    49679 non-null  object \n",
            " 6   key_skills    49679 non-null  object \n",
            " 7   region        49679 non-null  object \n",
            "dtypes: float64(1), int64(1), object(6)\n",
            "memory usage: 3.4+ MB\n"
          ]
        }
      ]
    },
    {
      "cell_type": "code",
      "source": [
        "df.shape"
      ],
      "metadata": {
        "colab": {
          "base_uri": "https://localhost:8080/"
        },
        "id": "SmCn2N4PmDfp",
        "outputId": "fe20eb94-33f6-4a5e-f3cc-1f1bf8a1ed4a"
      },
      "execution_count": null,
      "outputs": [
        {
          "output_type": "execute_result",
          "data": {
            "text/plain": [
              "(49679, 8)"
            ]
          },
          "metadata": {},
          "execution_count": 29
        }
      ]
    },
    {
      "cell_type": "markdown",
      "source": [
        "##5. Числовые данные"
      ],
      "metadata": {
        "id": "G0fe4UwMxhaN"
      }
    },
    {
      "cell_type": "code",
      "source": [
        "df['salary'].describe()\n"
      ],
      "metadata": {
        "colab": {
          "base_uri": "https://localhost:8080/"
        },
        "id": "Jp4ry6fUySk5",
        "outputId": "c6a56a20-1a9f-4ea2-883e-2503d45b9b6f"
      },
      "execution_count": null,
      "outputs": [
        {
          "output_type": "execute_result",
          "data": {
            "text/plain": [
              "count     22478.000000\n",
              "mean      93861.796779\n",
              "std       74738.050240\n",
              "min          30.000000\n",
              "25%       40500.000000\n",
              "50%       70000.000000\n",
              "75%      123893.000000\n",
              "max      898230.000000\n",
              "Name: salary, dtype: float64"
            ]
          },
          "metadata": {},
          "execution_count": 30
        }
      ]
    },
    {
      "cell_type": "code",
      "source": [
        "df['salary'].median().astype(int)  # 50% perсentile"
      ],
      "metadata": {
        "colab": {
          "base_uri": "https://localhost:8080/"
        },
        "id": "EGXDEGeSy7QQ",
        "outputId": "c10efacf-d48b-4780-ba1a-31cbd64aece4"
      },
      "execution_count": null,
      "outputs": [
        {
          "output_type": "execute_result",
          "data": {
            "text/plain": [
              "70000"
            ]
          },
          "metadata": {},
          "execution_count": 31
        }
      ]
    },
    {
      "cell_type": "code",
      "source": [
        "df['salary'].quantile(0.01)  # всё, что ниже, можно отбросить при анализе"
      ],
      "metadata": {
        "colab": {
          "base_uri": "https://localhost:8080/"
        },
        "id": "YU74gUw1zIFQ",
        "outputId": "c2e0aa45-a2cc-4077-b888-f5f4eee73aa7"
      },
      "execution_count": null,
      "outputs": [
        {
          "output_type": "execute_result",
          "data": {
            "text/plain": [
              "11504.0"
            ]
          },
          "metadata": {},
          "execution_count": 32
        }
      ]
    },
    {
      "cell_type": "code",
      "source": [
        "df['salary'].quantile(0.99)  # всё, что выше, можно отбросить при анализе"
      ],
      "metadata": {
        "colab": {
          "base_uri": "https://localhost:8080/"
        },
        "id": "9Jah6tLjzRWg",
        "outputId": "b4534a9f-abca-491b-955f-569226d41a65"
      },
      "execution_count": null,
      "outputs": [
        {
          "output_type": "execute_result",
          "data": {
            "text/plain": [
              "350000.0"
            ]
          },
          "metadata": {},
          "execution_count": 33
        }
      ]
    },
    {
      "cell_type": "code",
      "source": [
        "plt.figure(figsize=(15,10))\n",
        "plt.title('Разброс зарплат')\n",
        "plt.hist(df['salary'].dropna(), bins=500)\n",
        "plt.xlim((0, 150_000))\n",
        "plt.xlabel('Зарплата')\n",
        "plt.show()\n"
      ],
      "metadata": {
        "colab": {
          "base_uri": "https://localhost:8080/",
          "height": 608
        },
        "id": "yfQlCFYXz5_a",
        "outputId": "fef25554-0200-4c69-86c8-d4aec5894fc6"
      },
      "execution_count": null,
      "outputs": [
        {
          "output_type": "display_data",
          "data": {
            "text/plain": [
              "<Figure size 1080x720 with 1 Axes>"
            ],
            "image/png": "[encoded data removed]"
          },
          "metadata": {
            "needs_background": "light"
          }
        }
      ]
    },
    {
      "cell_type": "markdown",
      "source": [
        "##6. Категориальные данные"
      ],
      "metadata": {
        "id": "Vw2k74ncpt6a"
      }
    },
    {
      "cell_type": "code",
      "source": [
        "df['name'].describe()  # todo продумать, как привести вакансии к меньшему количеству уникальных значений"
      ],
      "metadata": {
        "colab": {
          "base_uri": "https://localhost:8080/"
        },
        "id": "Xfen1EHkrGZT",
        "outputId": "b76c9b88-d964-47f6-b967-6cd7beb1a64a"
      },
      "execution_count": null,
      "outputs": [
        {
          "output_type": "execute_result",
          "data": {
            "text/plain": [
              "count                       49679\n",
              "unique                      24007\n",
              "top       Системный администратор\n",
              "freq                         1625\n",
              "Name: name, dtype: object"
            ]
          },
          "metadata": {},
          "execution_count": 35
        }
      ]
    },
    {
      "cell_type": "code",
      "source": [
        "df['name'].values"
      ],
      "metadata": {
        "colab": {
          "base_uri": "https://localhost:8080/"
        },
        "id": "P0LEutnDrzqT",
        "outputId": "c23d29ad-5108-4aba-e50d-1658725b8150"
      },
      "execution_count": null,
      "outputs": [
        {
          "output_type": "execute_result",
          "data": {
            "text/plain": [
              "array(['Младший специалист ручного тестирования', 'Тестировщик.Net',\n",
              "       'Пентестер', ..., 'Начальник отдела информационных технологий',\n",
              "       'Технический директор (DevOps, технолог)',\n",
              "       'Начальник отдела по защите информации и информационной безопасности'],\n",
              "      dtype=object)"
            ]
          },
          "metadata": {},
          "execution_count": 36
        }
      ]
    },
    {
      "cell_type": "code",
      "source": [
        "df.loc[df['name'] == 'Программист 1С', 'name'] = 'Программист 1C'  # меняю значение 1С на английскую букву"
      ],
      "metadata": {
        "id": "gcTiL5p1qFPF"
      },
      "execution_count": null,
      "outputs": []
    },
    {
      "cell_type": "code",
      "source": [
        "job_title = df['name'].value_counts()"
      ],
      "metadata": {
        "id": "smsaNBuInvjQ"
      },
      "execution_count": null,
      "outputs": []
    },
    {
      "cell_type": "code",
      "source": [
        "job_title.head(25)"
      ],
      "metadata": {
        "colab": {
          "base_uri": "https://localhost:8080/"
        },
        "id": "tBkD3atrpbXi",
        "outputId": "d669265b-a495-4a53-b6e3-3ad6ba02c8ea"
      },
      "execution_count": null,
      "outputs": [
        {
          "output_type": "execute_result",
          "data": {
            "text/plain": [
              "Системный администратор                                       1625\n",
              "Программист 1C                                                1428\n",
              "Специалист технической поддержки                               471\n",
              "Системный аналитик                                             433\n",
              "Аналитик                                                       335\n",
              "Инженер-программист                                            319\n",
              "Графический дизайнер                                           309\n",
              "Инженер технической поддержки                                  268\n",
              "Бизнес-аналитик                                                262\n",
              "Дизайнер                                                       251\n",
              "Технический писатель                                           210\n",
              "Руководитель проекта                                           204\n",
              "Специалист по информационной безопасности                      181\n",
              "Программист                                                    181\n",
              "Frontend-разработчик                                           180\n",
              "Специалист службы поддержки в Яндекс Бизнес                    168\n",
              "Менеджер проектов                                              160\n",
              "Младший специалист ручного тестирования                        159\n",
              "Руководитель проектов                                          155\n",
              "DevOps инженер                                                 146\n",
              "Специалист службы поддержки Рекламной сети Яндекса и ADFOX     141\n",
              "Ведущий системный администратор                                131\n",
              "Java-разработчик                                               131\n",
              "Специалист службы поддержки пользователей                      120\n",
              "PHP-разработчик                                                115\n",
              "Name: name, dtype: int64"
            ]
          },
          "metadata": {},
          "execution_count": 39
        }
      ]
    },
    {
      "cell_type": "code",
      "source": [
        "job_title[:10].index\n",
        "plt.figure(figsize=(10,7))\n",
        "plt.barh(job_title[:10].index, job_title[:10].values)\n",
        "plt.title('ТОП наименований вакансий')\n",
        "plt.xlabel('Количество упоминаний')\n",
        "plt.ylabel('Наименование вакансии')\n",
        "plt.gca().invert_yaxis()  # инвертирую для отображения максимальных позиций вверху\n",
        "plt.show()"
      ],
      "metadata": {
        "colab": {
          "base_uri": "https://localhost:8080/",
          "height": 458
        },
        "id": "GewCpOeksQY5",
        "outputId": "8c6aa71a-ebcc-411f-88e2-9143356223bd"
      },
      "execution_count": null,
      "outputs": [
        {
          "output_type": "display_data",
          "data": {
            "text/plain": [
              "<Figure size 720x504 with 1 Axes>"
            ],
            "image/png": "[encoded data removed]"
          },
          "metadata": {
            "needs_background": "light"
          }
        }
      ]
    },
    {
      "cell_type": "code",
      "source": [
        "# TODO полумать, как выбрать топ-10 вакансий\n",
        "# def job_name(data):\n",
        "#   system_administrator = ['Системный администратор', 'сисадмин', 'DevOps']\n",
        "#   1c_programmer = ['Программист 1С', 'Программист 1C']\n",
        "#   analyst = ['Системный аналитик', 'Аналитик', 'Бизнес-аналитик']"
      ],
      "metadata": {
        "id": "ZRDBZqzDo1qj"
      },
      "execution_count": null,
      "outputs": []
    },
    {
      "cell_type": "code",
      "source": [
        "df['employer'].describe()"
      ],
      "metadata": {
        "colab": {
          "base_uri": "https://localhost:8080/"
        },
        "id": "juFhawAWjqPC",
        "outputId": "1a92b123-d825-4c1e-cded-aab0b3d8acd8"
      },
      "execution_count": null,
      "outputs": [
        {
          "output_type": "execute_result",
          "data": {
            "text/plain": [
              "count                                                 49679\n",
              "unique                                                13403\n",
              "top       {'id': '1740', 'name': 'Яндекс', 'url': 'https...\n",
              "freq                                                   1877\n",
              "Name: employer, dtype: object"
            ]
          },
          "metadata": {},
          "execution_count": 42
        }
      ]
    },
    {
      "cell_type": "markdown",
      "source": [
        "Выбираем ТОП работодателей:"
      ],
      "metadata": {
        "id": "ii4nsrBvlQXc"
      }
    },
    {
      "cell_type": "code",
      "source": [
        "df['employer'][0]"
      ],
      "metadata": {
        "colab": {
          "base_uri": "https://localhost:8080/",
          "height": 87
        },
        "id": "fiTqqKLhgHoY",
        "outputId": "a4d6c7b7-7097-4adf-e0f2-add10eb76aae"
      },
      "execution_count": null,
      "outputs": [
        {
          "output_type": "execute_result",
          "data": {
            "text/plain": [
              "\"{'id': '1740', 'name': 'Яндекс', 'url': 'https://api.hh.ru/employers/1740', 'alternate_url': 'https://hh.ru/employer/1740', 'logo_urls': {'90': 'https://hhcdn.ru/employer-logo/3790847.png', '240': 'https://hhcdn.ru/employer-logo/3790848.png', 'original': 'https://hhcdn.ru/employer-logo-original/837491.png'}, 'vacancies_url': 'https://api.hh.ru/vacancies?employer_id=1740', 'trusted': True}\""
            ],
            "application/vnd.google.colaboratory.intrinsic+json": {
              "type": "string"
            }
          },
          "metadata": {},
          "execution_count": 43
        }
      ]
    },
    {
      "cell_type": "code",
      "source": [
        "# не получается применить json.load() из-за неверных данных в каких-то строках, eval использую в следующей функции\n",
        "\n",
        "def employer(string):\n",
        "  try:\n",
        "    return string.split(':')[2].split(\"'\")[1]\n",
        "  except:\n",
        "    pass\n"
      ],
      "metadata": {
        "id": "uqFnrl2ggx6w"
      },
      "execution_count": null,
      "outputs": []
    },
    {
      "cell_type": "code",
      "source": [
        "top_employer = df['employer'].apply(employer)"
      ],
      "metadata": {
        "id": "4C_lgviPhQg6"
      },
      "execution_count": null,
      "outputs": []
    },
    {
      "cell_type": "code",
      "source": [
        "top_employer.value_counts().head(15)"
      ],
      "metadata": {
        "colab": {
          "base_uri": "https://localhost:8080/"
        },
        "id": "RL-PKCp0hVug",
        "outputId": "dc493e2c-99f4-4a9a-b547-60775f65404a"
      },
      "execution_count": null,
      "outputs": [
        {
          "output_type": "execute_result",
          "data": {
            "text/plain": [
              "Яндекс                      1877\n",
              "Газпром нефть                523\n",
              "Сбербанк                     462\n",
              "Тинькофф                     444\n",
              "Ростелеком                   415\n",
              "ИК СИБИНТЕК                  340\n",
              "МТС                          335\n",
              "Ozon                         258\n",
              "VK                           234\n",
              "Совкомбанк Технологии        215\n",
              "Первый Бит                   201\n",
              "Иннотех, Группа компаний     168\n",
              "IBS                          157\n",
              "ЛАНИТ                        152\n",
              "Тензор                       146\n",
              "Name: employer, dtype: int64"
            ]
          },
          "metadata": {},
          "execution_count": 46
        }
      ]
    },
    {
      "cell_type": "code",
      "source": [
        "top_employer_result = top_employer.value_counts().head(10)"
      ],
      "metadata": {
        "id": "6rXowpOsvjkH"
      },
      "execution_count": null,
      "outputs": []
    },
    {
      "cell_type": "code",
      "source": [
        "plt.figure(figsize=(10,7))\n",
        "plt.barh(top_employer_result.index, top_employer_result.values)\n",
        "plt.title('ТОП-10 работодателей')\n",
        "plt.xlabel('Количество упоминаний')\n",
        "plt.ylabel('Работодатель')\n",
        "plt.gca().invert_yaxis()\n",
        "plt.show()"
      ],
      "metadata": {
        "colab": {
          "base_uri": "https://localhost:8080/",
          "height": 459
        },
        "id": "hPTu3h5zvKLP",
        "outputId": "73df8582-28f5-4283-c6c6-54dd32a88da1"
      },
      "execution_count": null,
      "outputs": [
        {
          "output_type": "display_data",
          "data": {
            "text/plain": [
              "<Figure size 720x504 with 1 Axes>"
            ],
            "image/png": "[encoded data removed]"
          },
          "metadata": {
            "needs_background": "light"
          }
        }
      ]
    },
    {
      "cell_type": "markdown",
      "source": [
        "Выбор ключевыъ навыков:"
      ],
      "metadata": {
        "id": "iQypjyOTxdj4"
      }
    },
    {
      "cell_type": "code",
      "source": [
        "df['key_skills'][1]"
      ],
      "metadata": {
        "colab": {
          "base_uri": "https://localhost:8080/",
          "height": 35
        },
        "id": "rZI4XSuyl1xA",
        "outputId": "7272bde1-a55d-4149-cf23-b8c7fe11abf9"
      },
      "execution_count": null,
      "outputs": [
        {
          "output_type": "execute_result",
          "data": {
            "text/plain": [
              "\"[{'name': 'Git'}, {'name': 'SQL'}, {'name': 'Тестирование'}, {'name': 'C#'}, {'name': 'API'}]\""
            ],
            "application/vnd.google.colaboratory.intrinsic+json": {
              "type": "string"
            }
          },
          "metadata": {},
          "execution_count": 49
        }
      ]
    },
    {
      "cell_type": "code",
      "source": [
        "def skills(data):\n",
        "  try:\n",
        "    res = []\n",
        "    for element in data:\n",
        "      res.append(element['name'])\n",
        "    return res\n",
        "  except:\n",
        "    return None"
      ],
      "metadata": {
        "id": "-yIfhTRh0aL7"
      },
      "execution_count": null,
      "outputs": []
    },
    {
      "cell_type": "code",
      "source": [
        "df['key_skills_edited'] = df['key_skills'].fillna('{}').apply(eval).apply(skills)"
      ],
      "metadata": {
        "id": "626ekybXxFla"
      },
      "execution_count": null,
      "outputs": []
    },
    {
      "cell_type": "code",
      "source": [
        "df['key_skills_edited']"
      ],
      "metadata": {
        "colab": {
          "base_uri": "https://localhost:8080/"
        },
        "id": "yVfTu9kP1HrY",
        "outputId": "862df92d-c930-4a8b-c730-3a4ee836f12c"
      },
      "execution_count": null,
      "outputs": [
        {
          "output_type": "execute_result",
          "data": {
            "text/plain": [
              "0                                                       []\n",
              "1                        [Git, SQL, Тестирование, C#, API]\n",
              "2        [SQL, Linux, Информационная безопасность, Рабо...\n",
              "3        [Пользователь ПК, Работа в команде, 1С: Предпр...\n",
              "4        [MS Dos, Диагностика ПК, Компьютер, Работа в у...\n",
              "                               ...                        \n",
              "69651                                                   []\n",
              "69652    [1С: Управление Торговлей, 1С: Предприятие 8, ...\n",
              "69653    [Организаторские навыки, Работа в команде, Упр...\n",
              "69654                                                   []\n",
              "69655    [Информационная безопасность, Аудит безопаснос...\n",
              "Name: key_skills_edited, Length: 49679, dtype: object"
            ]
          },
          "metadata": {},
          "execution_count": 52
        }
      ]
    },
    {
      "cell_type": "code",
      "source": [
        "new_df = df[['key_skills_edited', 'salary']] # датафрейм для анализа соотношения навыков и зарплат"
      ],
      "metadata": {
        "id": "VjEeAulBxYPR"
      },
      "execution_count": null,
      "outputs": []
    },
    {
      "cell_type": "code",
      "source": [
        "skill_salary = new_df.explode('key_skills_edited')\n",
        "skill_salary"
      ],
      "metadata": {
        "colab": {
          "base_uri": "https://localhost:8080/",
          "height": 424
        },
        "id": "xVRfCVr20AFC",
        "outputId": "67e087bd-ba34-46d5-b9df-bf906f1bffd0"
      },
      "execution_count": null,
      "outputs": [
        {
          "output_type": "execute_result",
          "data": {
            "text/plain": [
              "                                  key_skills_edited   salary\n",
              "0                                               NaN      NaN\n",
              "1                                               Git  33186.0\n",
              "1                                               SQL  33186.0\n",
              "1                                      Тестирование  33186.0\n",
              "1                                                C#  33186.0\n",
              "...                                             ...      ...\n",
              "69655                   Информационная безопасность      NaN\n",
              "69655                            Аудит безопасности      NaN\n",
              "69655  Средства криптографической защиты информации      NaN\n",
              "69655                               Английский язык      NaN\n",
              "69655                             Деловая переписка      NaN\n",
              "\n",
              "[270626 rows x 2 columns]"
            ],
            "text/html": [
              "\n",
              "  <div id=\"df-517d9164-b544-45c4-90d5-02422b663f19\">\n",
              "    <div class=\"colab-df-container\">\n",
              "      <div>\n",
              "<style scoped>\n",
              "    .dataframe tbody tr th:only-of-type {\n",
              "        vertical-align: middle;\n",
              "    }\n",
              "\n",
              "    .dataframe tbody tr th {\n",
              "        vertical-align: top;\n",
              "    }\n",
              "\n",
              "    .dataframe thead th {\n",
              "        text-align: right;\n",
              "    }\n",
              "</style>\n",
              "<table border=\"1\" class=\"dataframe\">\n",
              "  <thead>\n",
              "    <tr style=\"text-align: right;\">\n",
              "      <th></th>\n",
              "      <th>key_skills_edited</th>\n",
              "      <th>salary</th>\n",
              "    </tr>\n",
              "  </thead>\n",
              "  <tbody>\n",
              "    <tr>\n",
              "      <th>0</th>\n",
              "      <td>NaN</td>\n",
              "      <td>NaN</td>\n",
              "    </tr>\n",
              "    <tr>\n",
              "      <th>1</th>\n",
              "      <td>Git</td>\n",
              "      <td>33186.0</td>\n",
              "    </tr>\n",
              "    <tr>\n",
              "      <th>1</th>\n",
              "      <td>SQL</td>\n",
              "      <td>33186.0</td>\n",
              "    </tr>\n",
              "    <tr>\n",
              "      <th>1</th>\n",
              "      <td>Тестирование</td>\n",
              "      <td>33186.0</td>\n",
              "    </tr>\n",
              "    <tr>\n",
              "      <th>1</th>\n",
              "      <td>C#</td>\n",
              "      <td>33186.0</td>\n",
              "    </tr>\n",
              "    <tr>\n",
              "      <th>...</th>\n",
              "      <td>...</td>\n",
              "      <td>...</td>\n",
              "    </tr>\n",
              "    <tr>\n",
              "      <th>69655</th>\n",
              "      <td>Информационная безопасность</td>\n",
              "      <td>NaN</td>\n",
              "    </tr>\n",
              "    <tr>\n",
              "      <th>69655</th>\n",
              "      <td>Аудит безопасности</td>\n",
              "      <td>NaN</td>\n",
              "    </tr>\n",
              "    <tr>\n",
              "      <th>69655</th>\n",
              "      <td>Средства криптографической защиты информации</td>\n",
              "      <td>NaN</td>\n",
              "    </tr>\n",
              "    <tr>\n",
              "      <th>69655</th>\n",
              "      <td>Английский язык</td>\n",
              "      <td>NaN</td>\n",
              "    </tr>\n",
              "    <tr>\n",
              "      <th>69655</th>\n",
              "      <td>Деловая переписка</td>\n",
              "      <td>NaN</td>\n",
              "    </tr>\n",
              "  </tbody>\n",
              "</table>\n",
              "<p>270626 rows × 2 columns</p>\n",
              "</div>\n",
              "      <button class=\"colab-df-convert\" onclick=\"convertToInteractive('df-517d9164-b544-45c4-90d5-02422b663f19')\"\n",
              "              title=\"Convert this dataframe to an interactive table.\"\n",
              "              style=\"display:none;\">\n",
              "        \n",
              "  <svg xmlns=\"http://www.w3.org/2000/svg\" height=\"24px\"viewBox=\"0 0 24 24\"\n",
              "       width=\"24px\">\n",
              "    <path d=\"M0 0h24v24H0V0z\" fill=\"none\"/>\n",
              "    <path d=\"M18.56 5.44l.94 2.06.94-2.06 2.06-.94-2.06-.94-.94-2.06-.94 2.06-2.06.94zm-11 1L8.5 8.5l.94-2.06 2.06-.94-2.06-.94L8.5 2.5l-.94 2.06-2.06.94zm10 10l.94 2.06.94-2.06 2.06-.94-2.06-.94-.94-2.06-.94 2.06-2.06.94z\"/><path d=\"M17.41 7.96l-1.37-1.37c-.4-.4-.92-.59-1.43-.59-.52 0-1.04.2-1.43.59L10.3 9.45l-7.72 7.72c-.78.78-.78 2.05 0 2.83L4 21.41c.39.39.9.59 1.41.59.51 0 1.02-.2 1.41-.59l7.78-7.78 2.81-2.81c.8-.78.8-2.07 0-2.86zM5.41 20L4 18.59l7.72-7.72 1.47 1.35L5.41 20z\"/>\n",
              "  </svg>\n",
              "      </button>\n",
              "      \n",
              "  <style>\n",
              "    .colab-df-container {\n",
              "      display:flex;\n",
              "      flex-wrap:wrap;\n",
              "      gap: 12px;\n",
              "    }\n",
              "\n",
              "    .colab-df-convert {\n",
              "      background-color: #E8F0FE;\n",
              "      border: none;\n",
              "      border-radius: 50%;\n",
              "      cursor: pointer;\n",
              "      display: none;\n",
              "      fill: #1967D2;\n",
              "      height: 32px;\n",
              "      padding: 0 0 0 0;\n",
              "      width: 32px;\n",
              "    }\n",
              "\n",
              "    .colab-df-convert:hover {\n",
              "      background-color: #E2EBFA;\n",
              "      box-shadow: 0px 1px 2px rgba(60, 64, 67, 0.3), 0px 1px 3px 1px rgba(60, 64, 67, 0.15);\n",
              "      fill: #174EA6;\n",
              "    }\n",
              "\n",
              "    [theme=dark] .colab-df-convert {\n",
              "      background-color: #3B4455;\n",
              "      fill: #D2E3FC;\n",
              "    }\n",
              "\n",
              "    [theme=dark] .colab-df-convert:hover {\n",
              "      background-color: #434B5C;\n",
              "      box-shadow: 0px 1px 3px 1px rgba(0, 0, 0, 0.15);\n",
              "      filter: drop-shadow(0px 1px 2px rgba(0, 0, 0, 0.3));\n",
              "      fill: #FFFFFF;\n",
              "    }\n",
              "  </style>\n",
              "\n",
              "      <script>\n",
              "        const buttonEl =\n",
              "          document.querySelector('#df-517d9164-b544-45c4-90d5-02422b663f19 button.colab-df-convert');\n",
              "        buttonEl.style.display =\n",
              "          google.colab.kernel.accessAllowed ? 'block' : 'none';\n",
              "\n",
              "        async function convertToInteractive(key) {\n",
              "          const element = document.querySelector('#df-517d9164-b544-45c4-90d5-02422b663f19');\n",
              "          const dataTable =\n",
              "            await google.colab.kernel.invokeFunction('convertToInteractive',\n",
              "                                                     [key], {});\n",
              "          if (!dataTable) return;\n",
              "\n",
              "          const docLinkHtml = 'Like what you see? Visit the ' +\n",
              "            '<a target=\"_blank\" href=https://colab.research.google.com/notebooks/data_table.ipynb>data table notebook</a>'\n",
              "            + ' to learn more about interactive tables.';\n",
              "          element.innerHTML = '';\n",
              "          dataTable['output_type'] = 'display_data';\n",
              "          await google.colab.output.renderOutput(dataTable, element);\n",
              "          const docLink = document.createElement('div');\n",
              "          docLink.innerHTML = docLinkHtml;\n",
              "          element.appendChild(docLink);\n",
              "        }\n",
              "      </script>\n",
              "    </div>\n",
              "  </div>\n",
              "  "
            ]
          },
          "metadata": {},
          "execution_count": 54
        }
      ]
    },
    {
      "cell_type": "code",
      "source": [
        "skill_salary['key_skills_edited'].value_counts().head(25)"
      ],
      "metadata": {
        "colab": {
          "base_uri": "https://localhost:8080/"
        },
        "id": "7ksd__US0BSR",
        "outputId": "7fc8eee0-a334-4ee2-bac6-88d8d0466119"
      },
      "execution_count": null,
      "outputs": [
        {
          "output_type": "execute_result",
          "data": {
            "text/plain": [
              "SQL                            6268\n",
              "Linux                          4855\n",
              "Git                            4522\n",
              "Английский язык                3905\n",
              "Работа в команде               3438\n",
              "Управление проектами           3404\n",
              "Python                         3193\n",
              "JavaScript                     2739\n",
              "1С программирование            2567\n",
              "PostgreSQL                     2514\n",
              "Java                           2269\n",
              "1С: Предприятие 8              2084\n",
              "Грамотная речь                 2047\n",
              "Аналитическое мышление         1906\n",
              "Adobe Photoshop                1900\n",
              "ООП                            1798\n",
              "MS PowerPoint                  1754\n",
              "MS SQL                         1727\n",
              "MySQL                          1718\n",
              "HTML                           1656\n",
              "PHP                            1655\n",
              "Информационные технологии      1618\n",
              "Atlassian Jira                 1578\n",
              "Docker                         1536\n",
              "Информационная безопасность    1474\n",
              "Name: key_skills_edited, dtype: int64"
            ]
          },
          "metadata": {},
          "execution_count": 55
        }
      ]
    },
    {
      "cell_type": "code",
      "source": [
        "skill_salary_top = skill_salary['key_skills_edited'].value_counts().head(25)"
      ],
      "metadata": {
        "id": "VnZkF9LGxI2S"
      },
      "execution_count": null,
      "outputs": []
    },
    {
      "cell_type": "code",
      "source": [
        "plt.figure(figsize=(15,10))\n",
        "plt.barh(skill_salary_top.index, skill_salary_top.values)\n",
        "plt.title('Самые востребованные навыки для соискателя')\n",
        "plt.xlabel('Количество упоминаний')\n",
        "plt.ylabel('Навык')\n",
        "plt.gca().invert_yaxis()\n",
        "plt.show()"
      ],
      "metadata": {
        "colab": {
          "base_uri": "https://localhost:8080/",
          "height": 516
        },
        "id": "vftlR8P7xcLO",
        "outputId": "ac6ed3eb-e839-4ef5-ba19-30d36871e28a"
      },
      "execution_count": null,
      "outputs": [
        {
          "output_type": "display_data",
          "data": {
            "text/plain": [
              "<Figure size 1080x720 with 1 Axes>"
            ],
            "image/png": "[encoded data removed]"
          },
          "metadata": {
            "needs_background": "light"
          }
        }
      ]
    },
    {
      "cell_type": "code",
      "source": [
        "skills_df = pd.DataFrame(skill_salary.groupby('key_skills_edited')['salary'].mean().dropna()).reset_index()  # создаю новый датафрейм со средними значениями по скиллам\n",
        "skills_df"
      ],
      "metadata": {
        "colab": {
          "base_uri": "https://localhost:8080/",
          "height": 424
        },
        "id": "p9eRrMsYZRfQ",
        "outputId": "dfe6fa1f-a2af-41e5-b610-3559c29f647d"
      },
      "execution_count": null,
      "outputs": [
        {
          "output_type": "execute_result",
          "data": {
            "text/plain": [
              "                                      key_skills_edited         salary\n",
              "0                                            \"СТЕК-РСО\"   46720.000000\n",
              "1                                          *nix системы  166666.666667\n",
              "2                                          *nix-системы  140000.000000\n",
              "3     - Опыт руководства отделом; - Навыки планирова...   41593.000000\n",
              "4                                                  .NET  142119.615385\n",
              "...                                                 ...            ...\n",
              "7199                        • умение работать в команде  112831.750000\n",
              "7200  • умение своевременно выявлять инциденты, связ...   75221.000000\n",
              "7201                           • умение читать чертежи;   80000.000000\n",
              "7202                                            №223-фз   66372.000000\n",
              "7203                                             №44-фз   66372.000000\n",
              "\n",
              "[7204 rows x 2 columns]"
            ],
            "text/html": [
              "\n",
              "  <div id=\"df-93b36fcf-7b21-41b5-b84e-19e2c594cf1a\">\n",
              "    <div class=\"colab-df-container\">\n",
              "      <div>\n",
              "<style scoped>\n",
              "    .dataframe tbody tr th:only-of-type {\n",
              "        vertical-align: middle;\n",
              "    }\n",
              "\n",
              "    .dataframe tbody tr th {\n",
              "        vertical-align: top;\n",
              "    }\n",
              "\n",
              "    .dataframe thead th {\n",
              "        text-align: right;\n",
              "    }\n",
              "</style>\n",
              "<table border=\"1\" class=\"dataframe\">\n",
              "  <thead>\n",
              "    <tr style=\"text-align: right;\">\n",
              "      <th></th>\n",
              "      <th>key_skills_edited</th>\n",
              "      <th>salary</th>\n",
              "    </tr>\n",
              "  </thead>\n",
              "  <tbody>\n",
              "    <tr>\n",
              "      <th>0</th>\n",
              "      <td>\"СТЕК-РСО\"</td>\n",
              "      <td>46720.000000</td>\n",
              "    </tr>\n",
              "    <tr>\n",
              "      <th>1</th>\n",
              "      <td>*nix системы</td>\n",
              "      <td>166666.666667</td>\n",
              "    </tr>\n",
              "    <tr>\n",
              "      <th>2</th>\n",
              "      <td>*nix-системы</td>\n",
              "      <td>140000.000000</td>\n",
              "    </tr>\n",
              "    <tr>\n",
              "      <th>3</th>\n",
              "      <td>- Опыт руководства отделом; - Навыки планирова...</td>\n",
              "      <td>41593.000000</td>\n",
              "    </tr>\n",
              "    <tr>\n",
              "      <th>4</th>\n",
              "      <td>.NET</td>\n",
              "      <td>142119.615385</td>\n",
              "    </tr>\n",
              "    <tr>\n",
              "      <th>...</th>\n",
              "      <td>...</td>\n",
              "      <td>...</td>\n",
              "    </tr>\n",
              "    <tr>\n",
              "      <th>7199</th>\n",
              "      <td>• умение работать в команде</td>\n",
              "      <td>112831.750000</td>\n",
              "    </tr>\n",
              "    <tr>\n",
              "      <th>7200</th>\n",
              "      <td>• умение своевременно выявлять инциденты, связ...</td>\n",
              "      <td>75221.000000</td>\n",
              "    </tr>\n",
              "    <tr>\n",
              "      <th>7201</th>\n",
              "      <td>• умение читать чертежи;</td>\n",
              "      <td>80000.000000</td>\n",
              "    </tr>\n",
              "    <tr>\n",
              "      <th>7202</th>\n",
              "      <td>№223-фз</td>\n",
              "      <td>66372.000000</td>\n",
              "    </tr>\n",
              "    <tr>\n",
              "      <th>7203</th>\n",
              "      <td>№44-фз</td>\n",
              "      <td>66372.000000</td>\n",
              "    </tr>\n",
              "  </tbody>\n",
              "</table>\n",
              "<p>7204 rows × 2 columns</p>\n",
              "</div>\n",
              "      <button class=\"colab-df-convert\" onclick=\"convertToInteractive('df-93b36fcf-7b21-41b5-b84e-19e2c594cf1a')\"\n",
              "              title=\"Convert this dataframe to an interactive table.\"\n",
              "              style=\"display:none;\">\n",
              "        \n",
              "  <svg xmlns=\"http://www.w3.org/2000/svg\" height=\"24px\"viewBox=\"0 0 24 24\"\n",
              "       width=\"24px\">\n",
              "    <path d=\"M0 0h24v24H0V0z\" fill=\"none\"/>\n",
              "    <path d=\"M18.56 5.44l.94 2.06.94-2.06 2.06-.94-2.06-.94-.94-2.06-.94 2.06-2.06.94zm-11 1L8.5 8.5l.94-2.06 2.06-.94-2.06-.94L8.5 2.5l-.94 2.06-2.06.94zm10 10l.94 2.06.94-2.06 2.06-.94-2.06-.94-.94-2.06-.94 2.06-2.06.94z\"/><path d=\"M17.41 7.96l-1.37-1.37c-.4-.4-.92-.59-1.43-.59-.52 0-1.04.2-1.43.59L10.3 9.45l-7.72 7.72c-.78.78-.78 2.05 0 2.83L4 21.41c.39.39.9.59 1.41.59.51 0 1.02-.2 1.41-.59l7.78-7.78 2.81-2.81c.8-.78.8-2.07 0-2.86zM5.41 20L4 18.59l7.72-7.72 1.47 1.35L5.41 20z\"/>\n",
              "  </svg>\n",
              "      </button>\n",
              "      \n",
              "  <style>\n",
              "    .colab-df-container {\n",
              "      display:flex;\n",
              "      flex-wrap:wrap;\n",
              "      gap: 12px;\n",
              "    }\n",
              "\n",
              "    .colab-df-convert {\n",
              "      background-color: #E8F0FE;\n",
              "      border: none;\n",
              "      border-radius: 50%;\n",
              "      cursor: pointer;\n",
              "      display: none;\n",
              "      fill: #1967D2;\n",
              "      height: 32px;\n",
              "      padding: 0 0 0 0;\n",
              "      width: 32px;\n",
              "    }\n",
              "\n",
              "    .colab-df-convert:hover {\n",
              "      background-color: #E2EBFA;\n",
              "      box-shadow: 0px 1px 2px rgba(60, 64, 67, 0.3), 0px 1px 3px 1px rgba(60, 64, 67, 0.15);\n",
              "      fill: #174EA6;\n",
              "    }\n",
              "\n",
              "    [theme=dark] .colab-df-convert {\n",
              "      background-color: #3B4455;\n",
              "      fill: #D2E3FC;\n",
              "    }\n",
              "\n",
              "    [theme=dark] .colab-df-convert:hover {\n",
              "      background-color: #434B5C;\n",
              "      box-shadow: 0px 1px 3px 1px rgba(0, 0, 0, 0.15);\n",
              "      filter: drop-shadow(0px 1px 2px rgba(0, 0, 0, 0.3));\n",
              "      fill: #FFFFFF;\n",
              "    }\n",
              "  </style>\n",
              "\n",
              "      <script>\n",
              "        const buttonEl =\n",
              "          document.querySelector('#df-93b36fcf-7b21-41b5-b84e-19e2c594cf1a button.colab-df-convert');\n",
              "        buttonEl.style.display =\n",
              "          google.colab.kernel.accessAllowed ? 'block' : 'none';\n",
              "\n",
              "        async function convertToInteractive(key) {\n",
              "          const element = document.querySelector('#df-93b36fcf-7b21-41b5-b84e-19e2c594cf1a');\n",
              "          const dataTable =\n",
              "            await google.colab.kernel.invokeFunction('convertToInteractive',\n",
              "                                                     [key], {});\n",
              "          if (!dataTable) return;\n",
              "\n",
              "          const docLinkHtml = 'Like what you see? Visit the ' +\n",
              "            '<a target=\"_blank\" href=https://colab.research.google.com/notebooks/data_table.ipynb>data table notebook</a>'\n",
              "            + ' to learn more about interactive tables.';\n",
              "          element.innerHTML = '';\n",
              "          dataTable['output_type'] = 'display_data';\n",
              "          await google.colab.output.renderOutput(dataTable, element);\n",
              "          const docLink = document.createElement('div');\n",
              "          docLink.innerHTML = docLinkHtml;\n",
              "          element.appendChild(docLink);\n",
              "        }\n",
              "      </script>\n",
              "    </div>\n",
              "  </div>\n",
              "  "
            ]
          },
          "metadata": {},
          "execution_count": 58
        }
      ]
    },
    {
      "cell_type": "markdown",
      "source": [
        "Пишу функцию фильтрации по ТОП-10 скиллам"
      ],
      "metadata": {
        "id": "XycDspRccQQQ"
      }
    },
    {
      "cell_type": "code",
      "source": [
        "skill_salary_top_filter = list(skill_salary_top.index[:10])\n",
        "skill_salary_top_filter"
      ],
      "metadata": {
        "colab": {
          "base_uri": "https://localhost:8080/"
        },
        "id": "B73gccBtXns0",
        "outputId": "15fa7bbd-24c1-4968-c8c1-f6e36f3c0baa"
      },
      "execution_count": null,
      "outputs": [
        {
          "output_type": "execute_result",
          "data": {
            "text/plain": [
              "['SQL',\n",
              " 'Linux',\n",
              " 'Git',\n",
              " 'Английский язык',\n",
              " 'Работа в команде',\n",
              " 'Управление проектами',\n",
              " 'Python',\n",
              " 'JavaScript',\n",
              " '1С программирование',\n",
              " 'PostgreSQL']"
            ]
          },
          "metadata": {},
          "execution_count": 59
        }
      ]
    },
    {
      "cell_type": "code",
      "source": [
        "def return_top_skills(data):\n",
        "  return data in skill_salary_top_filter"
      ],
      "metadata": {
        "id": "Ib-Y02SzX3Td"
      },
      "execution_count": null,
      "outputs": []
    },
    {
      "cell_type": "code",
      "source": [
        "filter2 = skills_df['key_skills_edited'].apply(return_top_skills)"
      ],
      "metadata": {
        "id": "0wk2fLspYBGr"
      },
      "execution_count": null,
      "outputs": []
    },
    {
      "cell_type": "markdown",
      "source": [
        "Применяю фильтрацию, сбрасываю индекс и сортирую среднюю ЗП по уменьшению"
      ],
      "metadata": {
        "id": "1CRjctGlcXKA"
      }
    },
    {
      "cell_type": "code",
      "source": [
        "skill_salary_new = skills_df[filter2].reset_index().drop(['index'], axis=1).sort_values('salary', ascending=False)\n",
        "skill_salary_new"
      ],
      "metadata": {
        "colab": {
          "base_uri": "https://localhost:8080/",
          "height": 363
        },
        "id": "wgdIMW_PYR20",
        "outputId": "caa477b9-d2b8-4574-ea05-1a01ade0b8fe"
      },
      "execution_count": null,
      "outputs": [
        {
          "output_type": "execute_result",
          "data": {
            "text/plain": [
              "      key_skills_edited         salary\n",
              "4            PostgreSQL  166706.381198\n",
              "5                Python  158718.823737\n",
              "1                   Git  153280.553104\n",
              "2            JavaScript  133510.815201\n",
              "7       Английский язык  130258.275727\n",
              "6                   SQL  128469.433709\n",
              "3                 Linux  119929.442438\n",
              "9  Управление проектами  119305.071366\n",
              "0   1С программирование  107584.678893\n",
              "8      Работа в команде   73895.721159"
            ],
            "text/html": [
              "\n",
              "  <div id=\"df-e9e60804-ab2f-4993-acb2-fcb1a05885b3\">\n",
              "    <div class=\"colab-df-container\">\n",
              "      <div>\n",
              "<style scoped>\n",
              "    .dataframe tbody tr th:only-of-type {\n",
              "        vertical-align: middle;\n",
              "    }\n",
              "\n",
              "    .dataframe tbody tr th {\n",
              "        vertical-align: top;\n",
              "    }\n",
              "\n",
              "    .dataframe thead th {\n",
              "        text-align: right;\n",
              "    }\n",
              "</style>\n",
              "<table border=\"1\" class=\"dataframe\">\n",
              "  <thead>\n",
              "    <tr style=\"text-align: right;\">\n",
              "      <th></th>\n",
              "      <th>key_skills_edited</th>\n",
              "      <th>salary</th>\n",
              "    </tr>\n",
              "  </thead>\n",
              "  <tbody>\n",
              "    <tr>\n",
              "      <th>4</th>\n",
              "      <td>PostgreSQL</td>\n",
              "      <td>166706.381198</td>\n",
              "    </tr>\n",
              "    <tr>\n",
              "      <th>5</th>\n",
              "      <td>Python</td>\n",
              "      <td>158718.823737</td>\n",
              "    </tr>\n",
              "    <tr>\n",
              "      <th>1</th>\n",
              "      <td>Git</td>\n",
              "      <td>153280.553104</td>\n",
              "    </tr>\n",
              "    <tr>\n",
              "      <th>2</th>\n",
              "      <td>JavaScript</td>\n",
              "      <td>133510.815201</td>\n",
              "    </tr>\n",
              "    <tr>\n",
              "      <th>7</th>\n",
              "      <td>Английский язык</td>\n",
              "      <td>130258.275727</td>\n",
              "    </tr>\n",
              "    <tr>\n",
              "      <th>6</th>\n",
              "      <td>SQL</td>\n",
              "      <td>128469.433709</td>\n",
              "    </tr>\n",
              "    <tr>\n",
              "      <th>3</th>\n",
              "      <td>Linux</td>\n",
              "      <td>119929.442438</td>\n",
              "    </tr>\n",
              "    <tr>\n",
              "      <th>9</th>\n",
              "      <td>Управление проектами</td>\n",
              "      <td>119305.071366</td>\n",
              "    </tr>\n",
              "    <tr>\n",
              "      <th>0</th>\n",
              "      <td>1С программирование</td>\n",
              "      <td>107584.678893</td>\n",
              "    </tr>\n",
              "    <tr>\n",
              "      <th>8</th>\n",
              "      <td>Работа в команде</td>\n",
              "      <td>73895.721159</td>\n",
              "    </tr>\n",
              "  </tbody>\n",
              "</table>\n",
              "</div>\n",
              "      <button class=\"colab-df-convert\" onclick=\"convertToInteractive('df-e9e60804-ab2f-4993-acb2-fcb1a05885b3')\"\n",
              "              title=\"Convert this dataframe to an interactive table.\"\n",
              "              style=\"display:none;\">\n",
              "        \n",
              "  <svg xmlns=\"http://www.w3.org/2000/svg\" height=\"24px\"viewBox=\"0 0 24 24\"\n",
              "       width=\"24px\">\n",
              "    <path d=\"M0 0h24v24H0V0z\" fill=\"none\"/>\n",
              "    <path d=\"M18.56 5.44l.94 2.06.94-2.06 2.06-.94-2.06-.94-.94-2.06-.94 2.06-2.06.94zm-11 1L8.5 8.5l.94-2.06 2.06-.94-2.06-.94L8.5 2.5l-.94 2.06-2.06.94zm10 10l.94 2.06.94-2.06 2.06-.94-2.06-.94-.94-2.06-.94 2.06-2.06.94z\"/><path d=\"M17.41 7.96l-1.37-1.37c-.4-.4-.92-.59-1.43-.59-.52 0-1.04.2-1.43.59L10.3 9.45l-7.72 7.72c-.78.78-.78 2.05 0 2.83L4 21.41c.39.39.9.59 1.41.59.51 0 1.02-.2 1.41-.59l7.78-7.78 2.81-2.81c.8-.78.8-2.07 0-2.86zM5.41 20L4 18.59l7.72-7.72 1.47 1.35L5.41 20z\"/>\n",
              "  </svg>\n",
              "      </button>\n",
              "      \n",
              "  <style>\n",
              "    .colab-df-container {\n",
              "      display:flex;\n",
              "      flex-wrap:wrap;\n",
              "      gap: 12px;\n",
              "    }\n",
              "\n",
              "    .colab-df-convert {\n",
              "      background-color: #E8F0FE;\n",
              "      border: none;\n",
              "      border-radius: 50%;\n",
              "      cursor: pointer;\n",
              "      display: none;\n",
              "      fill: #1967D2;\n",
              "      height: 32px;\n",
              "      padding: 0 0 0 0;\n",
              "      width: 32px;\n",
              "    }\n",
              "\n",
              "    .colab-df-convert:hover {\n",
              "      background-color: #E2EBFA;\n",
              "      box-shadow: 0px 1px 2px rgba(60, 64, 67, 0.3), 0px 1px 3px 1px rgba(60, 64, 67, 0.15);\n",
              "      fill: #174EA6;\n",
              "    }\n",
              "\n",
              "    [theme=dark] .colab-df-convert {\n",
              "      background-color: #3B4455;\n",
              "      fill: #D2E3FC;\n",
              "    }\n",
              "\n",
              "    [theme=dark] .colab-df-convert:hover {\n",
              "      background-color: #434B5C;\n",
              "      box-shadow: 0px 1px 3px 1px rgba(0, 0, 0, 0.15);\n",
              "      filter: drop-shadow(0px 1px 2px rgba(0, 0, 0, 0.3));\n",
              "      fill: #FFFFFF;\n",
              "    }\n",
              "  </style>\n",
              "\n",
              "      <script>\n",
              "        const buttonEl =\n",
              "          document.querySelector('#df-e9e60804-ab2f-4993-acb2-fcb1a05885b3 button.colab-df-convert');\n",
              "        buttonEl.style.display =\n",
              "          google.colab.kernel.accessAllowed ? 'block' : 'none';\n",
              "\n",
              "        async function convertToInteractive(key) {\n",
              "          const element = document.querySelector('#df-e9e60804-ab2f-4993-acb2-fcb1a05885b3');\n",
              "          const dataTable =\n",
              "            await google.colab.kernel.invokeFunction('convertToInteractive',\n",
              "                                                     [key], {});\n",
              "          if (!dataTable) return;\n",
              "\n",
              "          const docLinkHtml = 'Like what you see? Visit the ' +\n",
              "            '<a target=\"_blank\" href=https://colab.research.google.com/notebooks/data_table.ipynb>data table notebook</a>'\n",
              "            + ' to learn more about interactive tables.';\n",
              "          element.innerHTML = '';\n",
              "          dataTable['output_type'] = 'display_data';\n",
              "          await google.colab.output.renderOutput(dataTable, element);\n",
              "          const docLink = document.createElement('div');\n",
              "          docLink.innerHTML = docLinkHtml;\n",
              "          element.appendChild(docLink);\n",
              "        }\n",
              "      </script>\n",
              "    </div>\n",
              "  </div>\n",
              "  "
            ]
          },
          "metadata": {},
          "execution_count": 62
        }
      ]
    },
    {
      "cell_type": "markdown",
      "source": [
        "Вывожу топ профессий по средней зарплате:"
      ],
      "metadata": {
        "id": "nqw-zC7x-6MD"
      }
    },
    {
      "cell_type": "code",
      "source": [
        "df.groupby('name', as_index=False).agg({'salary': 'mean'}).sort_values('salary', ascending=False).head(20)"
      ],
      "metadata": {
        "id": "JSDFZn2MPbxO",
        "colab": {
          "base_uri": "https://localhost:8080/",
          "height": 677
        },
        "outputId": "99ba7cc8-8930-4a03-b91b-a829a1807df7"
      },
      "execution_count": null,
      "outputs": [
        {
          "output_type": "execute_result",
          "data": {
            "text/plain": [
              "                                                    name    salary\n",
              "14988              Менеджер проекта Мобильное приложение  898230.0\n",
              "8758                      Брокер по продаже апартаментов  750000.0\n",
              "8291   Архитектор облачных решений (Cloud Architects)...  750000.0\n",
              "19709                         СТО/Директор по разработке  750000.0\n",
              "6371                               Team lead / PHP (CTO)  625000.0\n",
              "17626  Разработчик Solidity/Разработчик Rust/Разработ...  600000.0\n",
              "4390                             Product manager LATOKEN  600000.0\n",
              "738      BizDev Руководитель проекта (со знанием иврита)  600000.0\n",
              "906    CTO / Global Head of Technology – Hamburg, Ger...  591000.0\n",
              "4105   Platform Engineering Manager - Java, Big Data ...  577035.0\n",
              "101                  1С:Эксперт по производительности 1С  575221.0\n",
              "6830                                  Web-дизайнер UI/UX  567000.0\n",
              "17783  Разработчик бизнес-процессов/Разработчик Atlas...  550000.0\n",
              "19036         Руководитель проекта (пищевые ингредиенты)  540000.0\n",
              "6149             Solutions Architect (Europe and Israel)  538650.0\n",
              "18428                    Руководитель команды разработки  530973.0\n",
              "929    Chief Software Architect (Principal Software E...  530973.0\n",
              "5381   Sales and project manager (Менеджер по продажа...  525000.0\n",
              "4608                            Project/Delivery manager  512548.0\n",
              "2514                     Java Backend Developer (remote)  500000.0"
            ],
            "text/html": [
              "\n",
              "  <div id=\"df-f334e86d-22b1-4de4-807e-005cc6dc1edb\">\n",
              "    <div class=\"colab-df-container\">\n",
              "      <div>\n",
              "<style scoped>\n",
              "    .dataframe tbody tr th:only-of-type {\n",
              "        vertical-align: middle;\n",
              "    }\n",
              "\n",
              "    .dataframe tbody tr th {\n",
              "        vertical-align: top;\n",
              "    }\n",
              "\n",
              "    .dataframe thead th {\n",
              "        text-align: right;\n",
              "    }\n",
              "</style>\n",
              "<table border=\"1\" class=\"dataframe\">\n",
              "  <thead>\n",
              "    <tr style=\"text-align: right;\">\n",
              "      <th></th>\n",
              "      <th>name</th>\n",
              "      <th>salary</th>\n",
              "    </tr>\n",
              "  </thead>\n",
              "  <tbody>\n",
              "    <tr>\n",
              "      <th>14988</th>\n",
              "      <td>Менеджер проекта Мобильное приложение</td>\n",
              "      <td>898230.0</td>\n",
              "    </tr>\n",
              "    <tr>\n",
              "      <th>8758</th>\n",
              "      <td>Брокер по продаже апартаментов</td>\n",
              "      <td>750000.0</td>\n",
              "    </tr>\n",
              "    <tr>\n",
              "      <th>8291</th>\n",
              "      <td>Архитектор облачных решений (Cloud Architects)...</td>\n",
              "      <td>750000.0</td>\n",
              "    </tr>\n",
              "    <tr>\n",
              "      <th>19709</th>\n",
              "      <td>СТО/Директор по разработке</td>\n",
              "      <td>750000.0</td>\n",
              "    </tr>\n",
              "    <tr>\n",
              "      <th>6371</th>\n",
              "      <td>Team lead / PHP (CTO)</td>\n",
              "      <td>625000.0</td>\n",
              "    </tr>\n",
              "    <tr>\n",
              "      <th>17626</th>\n",
              "      <td>Разработчик Solidity/Разработчик Rust/Разработ...</td>\n",
              "      <td>600000.0</td>\n",
              "    </tr>\n",
              "    <tr>\n",
              "      <th>4390</th>\n",
              "      <td>Product manager LATOKEN</td>\n",
              "      <td>600000.0</td>\n",
              "    </tr>\n",
              "    <tr>\n",
              "      <th>738</th>\n",
              "      <td>BizDev Руководитель проекта (со знанием иврита)</td>\n",
              "      <td>600000.0</td>\n",
              "    </tr>\n",
              "    <tr>\n",
              "      <th>906</th>\n",
              "      <td>CTO / Global Head of Technology – Hamburg, Ger...</td>\n",
              "      <td>591000.0</td>\n",
              "    </tr>\n",
              "    <tr>\n",
              "      <th>4105</th>\n",
              "      <td>Platform Engineering Manager - Java, Big Data ...</td>\n",
              "      <td>577035.0</td>\n",
              "    </tr>\n",
              "    <tr>\n",
              "      <th>101</th>\n",
              "      <td>1С:Эксперт по производительности 1С</td>\n",
              "      <td>575221.0</td>\n",
              "    </tr>\n",
              "    <tr>\n",
              "      <th>6830</th>\n",
              "      <td>Web-дизайнер UI/UX</td>\n",
              "      <td>567000.0</td>\n",
              "    </tr>\n",
              "    <tr>\n",
              "      <th>17783</th>\n",
              "      <td>Разработчик бизнес-процессов/Разработчик Atlas...</td>\n",
              "      <td>550000.0</td>\n",
              "    </tr>\n",
              "    <tr>\n",
              "      <th>19036</th>\n",
              "      <td>Руководитель проекта (пищевые ингредиенты)</td>\n",
              "      <td>540000.0</td>\n",
              "    </tr>\n",
              "    <tr>\n",
              "      <th>6149</th>\n",
              "      <td>Solutions Architect (Europe and Israel)</td>\n",
              "      <td>538650.0</td>\n",
              "    </tr>\n",
              "    <tr>\n",
              "      <th>18428</th>\n",
              "      <td>Руководитель команды разработки</td>\n",
              "      <td>530973.0</td>\n",
              "    </tr>\n",
              "    <tr>\n",
              "      <th>929</th>\n",
              "      <td>Chief Software Architect (Principal Software E...</td>\n",
              "      <td>530973.0</td>\n",
              "    </tr>\n",
              "    <tr>\n",
              "      <th>5381</th>\n",
              "      <td>Sales and project manager (Менеджер по продажа...</td>\n",
              "      <td>525000.0</td>\n",
              "    </tr>\n",
              "    <tr>\n",
              "      <th>4608</th>\n",
              "      <td>Project/Delivery manager</td>\n",
              "      <td>512548.0</td>\n",
              "    </tr>\n",
              "    <tr>\n",
              "      <th>2514</th>\n",
              "      <td>Java Backend Developer (remote)</td>\n",
              "      <td>500000.0</td>\n",
              "    </tr>\n",
              "  </tbody>\n",
              "</table>\n",
              "</div>\n",
              "      <button class=\"colab-df-convert\" onclick=\"convertToInteractive('df-f334e86d-22b1-4de4-807e-005cc6dc1edb')\"\n",
              "              title=\"Convert this dataframe to an interactive table.\"\n",
              "              style=\"display:none;\">\n",
              "        \n",
              "  <svg xmlns=\"http://www.w3.org/2000/svg\" height=\"24px\"viewBox=\"0 0 24 24\"\n",
              "       width=\"24px\">\n",
              "    <path d=\"M0 0h24v24H0V0z\" fill=\"none\"/>\n",
              "    <path d=\"M18.56 5.44l.94 2.06.94-2.06 2.06-.94-2.06-.94-.94-2.06-.94 2.06-2.06.94zm-11 1L8.5 8.5l.94-2.06 2.06-.94-2.06-.94L8.5 2.5l-.94 2.06-2.06.94zm10 10l.94 2.06.94-2.06 2.06-.94-2.06-.94-.94-2.06-.94 2.06-2.06.94z\"/><path d=\"M17.41 7.96l-1.37-1.37c-.4-.4-.92-.59-1.43-.59-.52 0-1.04.2-1.43.59L10.3 9.45l-7.72 7.72c-.78.78-.78 2.05 0 2.83L4 21.41c.39.39.9.59 1.41.59.51 0 1.02-.2 1.41-.59l7.78-7.78 2.81-2.81c.8-.78.8-2.07 0-2.86zM5.41 20L4 18.59l7.72-7.72 1.47 1.35L5.41 20z\"/>\n",
              "  </svg>\n",
              "      </button>\n",
              "      \n",
              "  <style>\n",
              "    .colab-df-container {\n",
              "      display:flex;\n",
              "      flex-wrap:wrap;\n",
              "      gap: 12px;\n",
              "    }\n",
              "\n",
              "    .colab-df-convert {\n",
              "      background-color: #E8F0FE;\n",
              "      border: none;\n",
              "      border-radius: 50%;\n",
              "      cursor: pointer;\n",
              "      display: none;\n",
              "      fill: #1967D2;\n",
              "      height: 32px;\n",
              "      padding: 0 0 0 0;\n",
              "      width: 32px;\n",
              "    }\n",
              "\n",
              "    .colab-df-convert:hover {\n",
              "      background-color: #E2EBFA;\n",
              "      box-shadow: 0px 1px 2px rgba(60, 64, 67, 0.3), 0px 1px 3px 1px rgba(60, 64, 67, 0.15);\n",
              "      fill: #174EA6;\n",
              "    }\n",
              "\n",
              "    [theme=dark] .colab-df-convert {\n",
              "      background-color: #3B4455;\n",
              "      fill: #D2E3FC;\n",
              "    }\n",
              "\n",
              "    [theme=dark] .colab-df-convert:hover {\n",
              "      background-color: #434B5C;\n",
              "      box-shadow: 0px 1px 3px 1px rgba(0, 0, 0, 0.15);\n",
              "      filter: drop-shadow(0px 1px 2px rgba(0, 0, 0, 0.3));\n",
              "      fill: #FFFFFF;\n",
              "    }\n",
              "  </style>\n",
              "\n",
              "      <script>\n",
              "        const buttonEl =\n",
              "          document.querySelector('#df-f334e86d-22b1-4de4-807e-005cc6dc1edb button.colab-df-convert');\n",
              "        buttonEl.style.display =\n",
              "          google.colab.kernel.accessAllowed ? 'block' : 'none';\n",
              "\n",
              "        async function convertToInteractive(key) {\n",
              "          const element = document.querySelector('#df-f334e86d-22b1-4de4-807e-005cc6dc1edb');\n",
              "          const dataTable =\n",
              "            await google.colab.kernel.invokeFunction('convertToInteractive',\n",
              "                                                     [key], {});\n",
              "          if (!dataTable) return;\n",
              "\n",
              "          const docLinkHtml = 'Like what you see? Visit the ' +\n",
              "            '<a target=\"_blank\" href=https://colab.research.google.com/notebooks/data_table.ipynb>data table notebook</a>'\n",
              "            + ' to learn more about interactive tables.';\n",
              "          element.innerHTML = '';\n",
              "          dataTable['output_type'] = 'display_data';\n",
              "          await google.colab.output.renderOutput(dataTable, element);\n",
              "          const docLink = document.createElement('div');\n",
              "          docLink.innerHTML = docLinkHtml;\n",
              "          element.appendChild(docLink);\n",
              "        }\n",
              "      </script>\n",
              "    </div>\n",
              "  </div>\n",
              "  "
            ]
          },
          "metadata": {},
          "execution_count": 63
        }
      ]
    },
    {
      "cell_type": "markdown",
      "source": [
        "# 7. Взаимосвязи данных"
      ],
      "metadata": {
        "id": "dTo6LMrRE1DV"
      }
    },
    {
      "cell_type": "code",
      "source": [
        "df.groupby('name')['salary'].mean().sort_values(ascending=False).head(25)  # нахожу среднюю зарплату по названию вакансии"
      ],
      "metadata": {
        "colab": {
          "base_uri": "https://localhost:8080/"
        },
        "id": "MvCQlZ0sE_eB",
        "outputId": "0a7ab0e2-0bc5-4596-e44e-d4cb0d85f9a4"
      },
      "execution_count": null,
      "outputs": [
        {
          "output_type": "execute_result",
          "data": {
            "text/plain": [
              "name\n",
              "Менеджер проекта Мобильное приложение                                                 898230.0\n",
              "Брокер по продаже апартаментов                                                        750000.0\n",
              "Архитектор облачных решений (Cloud Architects), Германия                              750000.0\n",
              "СТО/Директор по разработке                                                            750000.0\n",
              "Team lead / PHP (CTO)                                                                 625000.0\n",
              "Разработчик Solidity/Разработчик Rust/Разработчик Go/Разработчтик python(удаленно)    600000.0\n",
              "Product manager LATOKEN                                                               600000.0\n",
              "BizDev Руководитель проекта (со знанием иврита)                                       600000.0\n",
              "CTO / Global Head of Technology – Hamburg, Germany                                    591000.0\n",
              "Platform Engineering Manager - Java, Big Data (to Canada/Serbia)                      577035.0\n",
              "1С:Эксперт по производительности 1С                                                   575221.0\n",
              "Web-дизайнер UI/UX                                                                    567000.0\n",
              "Разработчик бизнес-процессов/Разработчик Atlassian                                    550000.0\n",
              "Руководитель проекта (пищевые ингредиенты)                                            540000.0\n",
              "Solutions Architect (Europe and Israel)                                               538650.0\n",
              "Руководитель команды разработки                                                       530973.0\n",
              "Chief Software Architect (Principal Software Engineer)                                530973.0\n",
              "Sales and project manager (Менеджер по продажам/проектный менеджер)                   525000.0\n",
              "Project/Delivery manager                                                              512548.0\n",
              "Java Backend Developer (remote)                                                       500000.0\n",
              "Unity Developer (Senior)                                                              500000.0\n",
              "Разработчик React.js для NFT маркетплейса и терминала биржи                           500000.0\n",
              "General Producer / Генеральный продюсер (gamedev)                                     500000.0\n",
              "CTO / Global Head of Technical Services - Dubai                                       490530.0\n",
              "Senior Python Developer - AI/ML Infrastructure (to Canada/Serbia)                     489207.0\n",
              "Name: salary, dtype: float64"
            ]
          },
          "metadata": {},
          "execution_count": 64
        }
      ]
    },
    {
      "cell_type": "code",
      "source": [
        "df.reset_index(inplace=True)  # сбрасываю индекс датафрейма, чтобы определить индекс некорректного значения 'Брокер по продаже апартаментов'"
      ],
      "metadata": {
        "id": "ymh16KzfIUcN"
      },
      "execution_count": null,
      "outputs": []
    },
    {
      "cell_type": "code",
      "source": [
        "df.loc[(df['name'] == 'Брокер по продаже апартаментов')]"
      ],
      "metadata": {
        "colab": {
          "base_uri": "https://localhost:8080/",
          "height": 214
        },
        "id": "NaM69X1tGVNL",
        "outputId": "867f02a8-b2f8-489c-8b0a-2b8aa4f8dd65"
      },
      "execution_count": null,
      "outputs": [
        {
          "output_type": "execute_result",
          "data": {
            "text/plain": [
              "       index        id                            name    salary  \\\n",
              "39462  53889  53692636  Брокер по продаже апартаментов  750000.0   \n",
              "\n",
              "                   published_at  \\\n",
              "39462  2022-05-06T10:41:41+0300   \n",
              "\n",
              "                                                employer  \\\n",
              "39462  {'id': '1625845', 'name': 'Агентство недвижимо...   \n",
              "\n",
              "                                              experience  \\\n",
              "39462  {'id': 'between1And3', 'name': 'От 1 года до 3...   \n",
              "\n",
              "                                              key_skills              region  \\\n",
              "39462  [{'name': 'Ведение переговоров'}, {'name': 'Те...  Краснодарский край   \n",
              "\n",
              "                                       key_skills_edited  \n",
              "39462  [Ведение переговоров, Телефонные переговоры, Р...  "
            ],
            "text/html": [
              "\n",
              "  <div id=\"df-05c2deb1-6200-48e2-8196-ff0667abcc19\">\n",
              "    <div class=\"colab-df-container\">\n",
              "      <div>\n",
              "<style scoped>\n",
              "    .dataframe tbody tr th:only-of-type {\n",
              "        vertical-align: middle;\n",
              "    }\n",
              "\n",
              "    .dataframe tbody tr th {\n",
              "        vertical-align: top;\n",
              "    }\n",
              "\n",
              "    .dataframe thead th {\n",
              "        text-align: right;\n",
              "    }\n",
              "</style>\n",
              "<table border=\"1\" class=\"dataframe\">\n",
              "  <thead>\n",
              "    <tr style=\"text-align: right;\">\n",
              "      <th></th>\n",
              "      <th>index</th>\n",
              "      <th>id</th>\n",
              "      <th>name</th>\n",
              "      <th>salary</th>\n",
              "      <th>published_at</th>\n",
              "      <th>employer</th>\n",
              "      <th>experience</th>\n",
              "      <th>key_skills</th>\n",
              "      <th>region</th>\n",
              "      <th>key_skills_edited</th>\n",
              "    </tr>\n",
              "  </thead>\n",
              "  <tbody>\n",
              "    <tr>\n",
              "      <th>39462</th>\n",
              "      <td>53889</td>\n",
              "      <td>53692636</td>\n",
              "      <td>Брокер по продаже апартаментов</td>\n",
              "      <td>750000.0</td>\n",
              "      <td>2022-05-06T10:41:41+0300</td>\n",
              "      <td>{'id': '1625845', 'name': 'Агентство недвижимо...</td>\n",
              "      <td>{'id': 'between1And3', 'name': 'От 1 года до 3...</td>\n",
              "      <td>[{'name': 'Ведение переговоров'}, {'name': 'Те...</td>\n",
              "      <td>Краснодарский край</td>\n",
              "      <td>[Ведение переговоров, Телефонные переговоры, Р...</td>\n",
              "    </tr>\n",
              "  </tbody>\n",
              "</table>\n",
              "</div>\n",
              "      <button class=\"colab-df-convert\" onclick=\"convertToInteractive('df-05c2deb1-6200-48e2-8196-ff0667abcc19')\"\n",
              "              title=\"Convert this dataframe to an interactive table.\"\n",
              "              style=\"display:none;\">\n",
              "        \n",
              "  <svg xmlns=\"http://www.w3.org/2000/svg\" height=\"24px\"viewBox=\"0 0 24 24\"\n",
              "       width=\"24px\">\n",
              "    <path d=\"M0 0h24v24H0V0z\" fill=\"none\"/>\n",
              "    <path d=\"M18.56 5.44l.94 2.06.94-2.06 2.06-.94-2.06-.94-.94-2.06-.94 2.06-2.06.94zm-11 1L8.5 8.5l.94-2.06 2.06-.94-2.06-.94L8.5 2.5l-.94 2.06-2.06.94zm10 10l.94 2.06.94-2.06 2.06-.94-2.06-.94-.94-2.06-.94 2.06-2.06.94z\"/><path d=\"M17.41 7.96l-1.37-1.37c-.4-.4-.92-.59-1.43-.59-.52 0-1.04.2-1.43.59L10.3 9.45l-7.72 7.72c-.78.78-.78 2.05 0 2.83L4 21.41c.39.39.9.59 1.41.59.51 0 1.02-.2 1.41-.59l7.78-7.78 2.81-2.81c.8-.78.8-2.07 0-2.86zM5.41 20L4 18.59l7.72-7.72 1.47 1.35L5.41 20z\"/>\n",
              "  </svg>\n",
              "      </button>\n",
              "      \n",
              "  <style>\n",
              "    .colab-df-container {\n",
              "      display:flex;\n",
              "      flex-wrap:wrap;\n",
              "      gap: 12px;\n",
              "    }\n",
              "\n",
              "    .colab-df-convert {\n",
              "      background-color: #E8F0FE;\n",
              "      border: none;\n",
              "      border-radius: 50%;\n",
              "      cursor: pointer;\n",
              "      display: none;\n",
              "      fill: #1967D2;\n",
              "      height: 32px;\n",
              "      padding: 0 0 0 0;\n",
              "      width: 32px;\n",
              "    }\n",
              "\n",
              "    .colab-df-convert:hover {\n",
              "      background-color: #E2EBFA;\n",
              "      box-shadow: 0px 1px 2px rgba(60, 64, 67, 0.3), 0px 1px 3px 1px rgba(60, 64, 67, 0.15);\n",
              "      fill: #174EA6;\n",
              "    }\n",
              "\n",
              "    [theme=dark] .colab-df-convert {\n",
              "      background-color: #3B4455;\n",
              "      fill: #D2E3FC;\n",
              "    }\n",
              "\n",
              "    [theme=dark] .colab-df-convert:hover {\n",
              "      background-color: #434B5C;\n",
              "      box-shadow: 0px 1px 3px 1px rgba(0, 0, 0, 0.15);\n",
              "      filter: drop-shadow(0px 1px 2px rgba(0, 0, 0, 0.3));\n",
              "      fill: #FFFFFF;\n",
              "    }\n",
              "  </style>\n",
              "\n",
              "      <script>\n",
              "        const buttonEl =\n",
              "          document.querySelector('#df-05c2deb1-6200-48e2-8196-ff0667abcc19 button.colab-df-convert');\n",
              "        buttonEl.style.display =\n",
              "          google.colab.kernel.accessAllowed ? 'block' : 'none';\n",
              "\n",
              "        async function convertToInteractive(key) {\n",
              "          const element = document.querySelector('#df-05c2deb1-6200-48e2-8196-ff0667abcc19');\n",
              "          const dataTable =\n",
              "            await google.colab.kernel.invokeFunction('convertToInteractive',\n",
              "                                                     [key], {});\n",
              "          if (!dataTable) return;\n",
              "\n",
              "          const docLinkHtml = 'Like what you see? Visit the ' +\n",
              "            '<a target=\"_blank\" href=https://colab.research.google.com/notebooks/data_table.ipynb>data table notebook</a>'\n",
              "            + ' to learn more about interactive tables.';\n",
              "          element.innerHTML = '';\n",
              "          dataTable['output_type'] = 'display_data';\n",
              "          await google.colab.output.renderOutput(dataTable, element);\n",
              "          const docLink = document.createElement('div');\n",
              "          docLink.innerHTML = docLinkHtml;\n",
              "          element.appendChild(docLink);\n",
              "        }\n",
              "      </script>\n",
              "    </div>\n",
              "  </div>\n",
              "  "
            ]
          },
          "metadata": {},
          "execution_count": 66
        }
      ]
    },
    {
      "cell_type": "code",
      "source": [
        "df = df.drop(df.index[39462])  # удаляю некорректное значение"
      ],
      "metadata": {
        "id": "4CdjSQqNHhQn"
      },
      "execution_count": null,
      "outputs": []
    },
    {
      "cell_type": "code",
      "source": [
        "mean_salary_by_name = df.groupby('name')['salary'].mean().sort_values(ascending=False).head(25)  # нахожу среднюю зарплату по названию вакансии"
      ],
      "metadata": {
        "id": "jqkSwxjZJTh1"
      },
      "execution_count": null,
      "outputs": []
    },
    {
      "cell_type": "code",
      "source": [
        "mean_salary_by_name"
      ],
      "metadata": {
        "colab": {
          "base_uri": "https://localhost:8080/"
        },
        "id": "G3ahpT9sK21B",
        "outputId": "b6fdf7a5-0e24-4b2c-cf21-2df19548230e"
      },
      "execution_count": null,
      "outputs": [
        {
          "output_type": "execute_result",
          "data": {
            "text/plain": [
              "name\n",
              "Менеджер проекта Мобильное приложение                                                 898230.0\n",
              "Архитектор облачных решений (Cloud Architects), Германия                              750000.0\n",
              "СТО/Директор по разработке                                                            750000.0\n",
              "Team lead / PHP (CTO)                                                                 625000.0\n",
              "Product manager LATOKEN                                                               600000.0\n",
              "Разработчик Solidity/Разработчик Rust/Разработчик Go/Разработчтик python(удаленно)    600000.0\n",
              "BizDev Руководитель проекта (со знанием иврита)                                       600000.0\n",
              "CTO / Global Head of Technology – Hamburg, Germany                                    591000.0\n",
              "Platform Engineering Manager - Java, Big Data (to Canada/Serbia)                      577035.0\n",
              "1С:Эксперт по производительности 1С                                                   575221.0\n",
              "Web-дизайнер UI/UX                                                                    567000.0\n",
              "Разработчик бизнес-процессов/Разработчик Atlassian                                    550000.0\n",
              "Руководитель проекта (пищевые ингредиенты)                                            540000.0\n",
              "Solutions Architect (Europe and Israel)                                               538650.0\n",
              "Chief Software Architect (Principal Software Engineer)                                530973.0\n",
              "Руководитель команды разработки                                                       530973.0\n",
              "Sales and project manager (Менеджер по продажам/проектный менеджер)                   525000.0\n",
              "Project/Delivery manager                                                              512548.0\n",
              "Разработчик React.js для NFT маркетплейса и терминала биржи                           500000.0\n",
              "General Producer / Генеральный продюсер (gamedev)                                     500000.0\n",
              "Unity Developer (Senior)                                                              500000.0\n",
              "Java Backend Developer (remote)                                                       500000.0\n",
              "CTO / Global Head of Technical Services - Dubai                                       490530.0\n",
              "Senior Python Developer - AI/ML Infrastructure (to Canada/Serbia)                     489207.0\n",
              "Senior NLP Research Engineer (to Canada/Serbia)                                       489207.0\n",
              "Name: salary, dtype: float64"
            ]
          },
          "metadata": {},
          "execution_count": 69
        }
      ]
    },
    {
      "cell_type": "code",
      "source": [
        "mean_salary_by_name_df = pd.DataFrame(mean_salary_by_name)[:10]\n",
        "mean_salary_by_name_df"
      ],
      "metadata": {
        "colab": {
          "base_uri": "https://localhost:8080/",
          "height": 394
        },
        "id": "xjjRmk25LaRI",
        "outputId": "fceb7fdf-c2ec-4153-a95b-e38b283dfa10"
      },
      "execution_count": null,
      "outputs": [
        {
          "output_type": "execute_result",
          "data": {
            "text/plain": [
              "                                                      salary\n",
              "name                                                        \n",
              "Менеджер проекта Мобильное приложение               898230.0\n",
              "Архитектор облачных решений (Cloud Architects),...  750000.0\n",
              "СТО/Директор по разработке                          750000.0\n",
              "Team lead / PHP (CTO)                               625000.0\n",
              "Product manager LATOKEN                             600000.0\n",
              "Разработчик Solidity/Разработчик Rust/Разработч...  600000.0\n",
              "BizDev Руководитель проекта (со знанием иврита)     600000.0\n",
              "CTO / Global Head of Technology – Hamburg, Germany  591000.0\n",
              "Platform Engineering Manager - Java, Big Data (...  577035.0\n",
              "1С:Эксперт по производительности 1С                 575221.0"
            ],
            "text/html": [
              "\n",
              "  <div id=\"df-3efe2faa-2aee-4e0e-b804-e9bd5372435d\">\n",
              "    <div class=\"colab-df-container\">\n",
              "      <div>\n",
              "<style scoped>\n",
              "    .dataframe tbody tr th:only-of-type {\n",
              "        vertical-align: middle;\n",
              "    }\n",
              "\n",
              "    .dataframe tbody tr th {\n",
              "        vertical-align: top;\n",
              "    }\n",
              "\n",
              "    .dataframe thead th {\n",
              "        text-align: right;\n",
              "    }\n",
              "</style>\n",
              "<table border=\"1\" class=\"dataframe\">\n",
              "  <thead>\n",
              "    <tr style=\"text-align: right;\">\n",
              "      <th></th>\n",
              "      <th>salary</th>\n",
              "    </tr>\n",
              "    <tr>\n",
              "      <th>name</th>\n",
              "      <th></th>\n",
              "    </tr>\n",
              "  </thead>\n",
              "  <tbody>\n",
              "    <tr>\n",
              "      <th>Менеджер проекта Мобильное приложение</th>\n",
              "      <td>898230.0</td>\n",
              "    </tr>\n",
              "    <tr>\n",
              "      <th>Архитектор облачных решений (Cloud Architects), Германия</th>\n",
              "      <td>750000.0</td>\n",
              "    </tr>\n",
              "    <tr>\n",
              "      <th>СТО/Директор по разработке</th>\n",
              "      <td>750000.0</td>\n",
              "    </tr>\n",
              "    <tr>\n",
              "      <th>Team lead / PHP (CTO)</th>\n",
              "      <td>625000.0</td>\n",
              "    </tr>\n",
              "    <tr>\n",
              "      <th>Product manager LATOKEN</th>\n",
              "      <td>600000.0</td>\n",
              "    </tr>\n",
              "    <tr>\n",
              "      <th>Разработчик Solidity/Разработчик Rust/Разработчик Go/Разработчтик python(удаленно)</th>\n",
              "      <td>600000.0</td>\n",
              "    </tr>\n",
              "    <tr>\n",
              "      <th>BizDev Руководитель проекта (со знанием иврита)</th>\n",
              "      <td>600000.0</td>\n",
              "    </tr>\n",
              "    <tr>\n",
              "      <th>CTO / Global Head of Technology – Hamburg, Germany</th>\n",
              "      <td>591000.0</td>\n",
              "    </tr>\n",
              "    <tr>\n",
              "      <th>Platform Engineering Manager - Java, Big Data (to Canada/Serbia)</th>\n",
              "      <td>577035.0</td>\n",
              "    </tr>\n",
              "    <tr>\n",
              "      <th>1С:Эксперт по производительности 1С</th>\n",
              "      <td>575221.0</td>\n",
              "    </tr>\n",
              "  </tbody>\n",
              "</table>\n",
              "</div>\n",
              "      <button class=\"colab-df-convert\" onclick=\"convertToInteractive('df-3efe2faa-2aee-4e0e-b804-e9bd5372435d')\"\n",
              "              title=\"Convert this dataframe to an interactive table.\"\n",
              "              style=\"display:none;\">\n",
              "        \n",
              "  <svg xmlns=\"http://www.w3.org/2000/svg\" height=\"24px\"viewBox=\"0 0 24 24\"\n",
              "       width=\"24px\">\n",
              "    <path d=\"M0 0h24v24H0V0z\" fill=\"none\"/>\n",
              "    <path d=\"M18.56 5.44l.94 2.06.94-2.06 2.06-.94-2.06-.94-.94-2.06-.94 2.06-2.06.94zm-11 1L8.5 8.5l.94-2.06 2.06-.94-2.06-.94L8.5 2.5l-.94 2.06-2.06.94zm10 10l.94 2.06.94-2.06 2.06-.94-2.06-.94-.94-2.06-.94 2.06-2.06.94z\"/><path d=\"M17.41 7.96l-1.37-1.37c-.4-.4-.92-.59-1.43-.59-.52 0-1.04.2-1.43.59L10.3 9.45l-7.72 7.72c-.78.78-.78 2.05 0 2.83L4 21.41c.39.39.9.59 1.41.59.51 0 1.02-.2 1.41-.59l7.78-7.78 2.81-2.81c.8-.78.8-2.07 0-2.86zM5.41 20L4 18.59l7.72-7.72 1.47 1.35L5.41 20z\"/>\n",
              "  </svg>\n",
              "      </button>\n",
              "      \n",
              "  <style>\n",
              "    .colab-df-container {\n",
              "      display:flex;\n",
              "      flex-wrap:wrap;\n",
              "      gap: 12px;\n",
              "    }\n",
              "\n",
              "    .colab-df-convert {\n",
              "      background-color: #E8F0FE;\n",
              "      border: none;\n",
              "      border-radius: 50%;\n",
              "      cursor: pointer;\n",
              "      display: none;\n",
              "      fill: #1967D2;\n",
              "      height: 32px;\n",
              "      padding: 0 0 0 0;\n",
              "      width: 32px;\n",
              "    }\n",
              "\n",
              "    .colab-df-convert:hover {\n",
              "      background-color: #E2EBFA;\n",
              "      box-shadow: 0px 1px 2px rgba(60, 64, 67, 0.3), 0px 1px 3px 1px rgba(60, 64, 67, 0.15);\n",
              "      fill: #174EA6;\n",
              "    }\n",
              "\n",
              "    [theme=dark] .colab-df-convert {\n",
              "      background-color: #3B4455;\n",
              "      fill: #D2E3FC;\n",
              "    }\n",
              "\n",
              "    [theme=dark] .colab-df-convert:hover {\n",
              "      background-color: #434B5C;\n",
              "      box-shadow: 0px 1px 3px 1px rgba(0, 0, 0, 0.15);\n",
              "      filter: drop-shadow(0px 1px 2px rgba(0, 0, 0, 0.3));\n",
              "      fill: #FFFFFF;\n",
              "    }\n",
              "  </style>\n",
              "\n",
              "      <script>\n",
              "        const buttonEl =\n",
              "          document.querySelector('#df-3efe2faa-2aee-4e0e-b804-e9bd5372435d button.colab-df-convert');\n",
              "        buttonEl.style.display =\n",
              "          google.colab.kernel.accessAllowed ? 'block' : 'none';\n",
              "\n",
              "        async function convertToInteractive(key) {\n",
              "          const element = document.querySelector('#df-3efe2faa-2aee-4e0e-b804-e9bd5372435d');\n",
              "          const dataTable =\n",
              "            await google.colab.kernel.invokeFunction('convertToInteractive',\n",
              "                                                     [key], {});\n",
              "          if (!dataTable) return;\n",
              "\n",
              "          const docLinkHtml = 'Like what you see? Visit the ' +\n",
              "            '<a target=\"_blank\" href=https://colab.research.google.com/notebooks/data_table.ipynb>data table notebook</a>'\n",
              "            + ' to learn more about interactive tables.';\n",
              "          element.innerHTML = '';\n",
              "          dataTable['output_type'] = 'display_data';\n",
              "          await google.colab.output.renderOutput(dataTable, element);\n",
              "          const docLink = document.createElement('div');\n",
              "          docLink.innerHTML = docLinkHtml;\n",
              "          element.appendChild(docLink);\n",
              "        }\n",
              "      </script>\n",
              "    </div>\n",
              "  </div>\n",
              "  "
            ]
          },
          "metadata": {},
          "execution_count": 70
        }
      ]
    },
    {
      "cell_type": "markdown",
      "source": [
        "Такой вариант с максимальной среднее зарплатой не подойдёт, т.к. вакансии не входят в топ вакансий по всем данным. Определяю фильтр для датасета."
      ],
      "metadata": {
        "id": "j4g3cGxFN-r-"
      }
    },
    {
      "cell_type": "code",
      "source": [
        "job_to_analyse = list(job_title[:10].index)\n",
        "job_to_analyse\n"
      ],
      "metadata": {
        "colab": {
          "base_uri": "https://localhost:8080/"
        },
        "id": "SqlmJaN-M8rx",
        "outputId": "1a1d26e6-5dd1-4662-ffeb-87970cbf4ecc"
      },
      "execution_count": null,
      "outputs": [
        {
          "output_type": "execute_result",
          "data": {
            "text/plain": [
              "['Системный администратор',\n",
              " 'Программист 1C',\n",
              " 'Специалист технической поддержки',\n",
              " 'Системный аналитик',\n",
              " 'Аналитик',\n",
              " 'Инженер-программист',\n",
              " 'Графический дизайнер',\n",
              " 'Инженер технической поддержки',\n",
              " 'Бизнес-аналитик',\n",
              " 'Дизайнер']"
            ]
          },
          "metadata": {},
          "execution_count": 71
        }
      ]
    },
    {
      "cell_type": "code",
      "source": [
        "def return_salaries_for_top_jobs(data):\n",
        "  return data in job_to_analyse"
      ],
      "metadata": {
        "id": "56XM6QPqNbZc"
      },
      "execution_count": null,
      "outputs": []
    },
    {
      "cell_type": "code",
      "source": [
        "df['name'].apply(return_salaries_for_top_jobs).describe()  # проверяю фильтр"
      ],
      "metadata": {
        "colab": {
          "base_uri": "https://localhost:8080/"
        },
        "id": "r3rP3KK7NqZM",
        "outputId": "b412afa7-57ea-4b8a-c7b5-e66c04ba0e10"
      },
      "execution_count": null,
      "outputs": [
        {
          "output_type": "execute_result",
          "data": {
            "text/plain": [
              "count     49678\n",
              "unique        2\n",
              "top       False\n",
              "freq      43977\n",
              "Name: name, dtype: object"
            ]
          },
          "metadata": {},
          "execution_count": 73
        }
      ]
    },
    {
      "cell_type": "code",
      "source": [
        "filter = df['name'].apply(return_salaries_for_top_jobs)"
      ],
      "metadata": {
        "id": "RWFYfvDWPlfA"
      },
      "execution_count": null,
      "outputs": []
    },
    {
      "cell_type": "code",
      "source": [
        "filtered_df = df[filter]"
      ],
      "metadata": {
        "id": "XWyUgqw3PcxY"
      },
      "execution_count": null,
      "outputs": []
    },
    {
      "cell_type": "code",
      "source": [
        "filtered_df # здесь только ТОП-10 профессиий"
      ],
      "metadata": {
        "colab": {
          "base_uri": "https://localhost:8080/",
          "height": 1000
        },
        "id": "V8RZ88c_PpLO",
        "outputId": "746f3b02-e8f5-4502-b696-f47ff64d2906"
      },
      "execution_count": null,
      "outputs": [
        {
          "output_type": "execute_result",
          "data": {
            "text/plain": [
              "       index        id                     name    salary  \\\n",
              "13        24  50473451          Бизнес-аналитик       NaN   \n",
              "26        56  66075797  Системный администратор   50000.0   \n",
              "27        57  55596717  Системный администратор   35398.0   \n",
              "28        58  54956000  Системный администратор   27434.0   \n",
              "32        62  54938836  Системный администратор   26548.0   \n",
              "...      ...       ...                      ...       ...   \n",
              "49661  69638  55583241           Программист 1C       NaN   \n",
              "49665  69642  55890279           Программист 1C  140000.0   \n",
              "49666  69643  55895723      Инженер-программист   44690.0   \n",
              "49667  69644  55895724      Инженер-программист   44690.0   \n",
              "49675  69652  66113885           Программист 1C  130000.0   \n",
              "\n",
              "                   published_at  \\\n",
              "13     2022-05-20T17:07:37+0300   \n",
              "26     2022-05-25T12:15:23+0300   \n",
              "27     2022-05-20T17:35:42+0300   \n",
              "28     2022-05-18T13:43:31+0300   \n",
              "32     2022-05-26T10:31:43+0300   \n",
              "...                         ...   \n",
              "49661  2022-05-20T11:59:30+0300   \n",
              "49665  2022-05-24T11:43:56+0300   \n",
              "49666  2022-05-24T13:37:01+0300   \n",
              "49667  2022-05-24T13:37:01+0300   \n",
              "49675  2022-05-26T14:41:55+0300   \n",
              "\n",
              "                                                employer  \\\n",
              "13     {'id': '115', 'name': 'Ай-Теко (I-Teco)', 'url...   \n",
              "26     {'id': '3025483', 'name': 'Лигал Кейс Компани'...   \n",
              "27     {'id': '4887922', 'name': 'Мединвестгрупп', 'u...   \n",
              "28     {'id': '3542521', 'name': 'ГБПОУ АО АГКПТ', 'u...   \n",
              "32     {'id': '2632291', 'name': 'АПК Астраханский', ...   \n",
              "...                                                  ...   \n",
              "49661  {'id': '51837', 'name': 'UCMS Group Russia', '...   \n",
              "49665  {'id': '5174849', 'name': 'Wanted', 'url': 'ht...   \n",
              "49666  {'id': '5711647', 'name': 'Бастион', 'url': 'h...   \n",
              "49667  {'id': '5711647', 'name': 'Бастион', 'url': 'h...   \n",
              "49675  {'id': '97966', 'name': 'Окраина', 'url': 'htt...   \n",
              "\n",
              "                                              experience  \\\n",
              "13     {'id': 'between1And3', 'name': 'От 1 года до 3...   \n",
              "26     {'id': 'between1And3', 'name': 'От 1 года до 3...   \n",
              "27     {'id': 'between1And3', 'name': 'От 1 года до 3...   \n",
              "28     {'id': 'between1And3', 'name': 'От 1 года до 3...   \n",
              "32           {'id': 'noExperience', 'name': 'Нет опыта'}   \n",
              "...                                                  ...   \n",
              "49661    {'id': 'between3And6', 'name': 'От 3 до 6 лет'}   \n",
              "49665    {'id': 'between3And6', 'name': 'От 3 до 6 лет'}   \n",
              "49666    {'id': 'between3And6', 'name': 'От 3 до 6 лет'}   \n",
              "49667    {'id': 'between3And6', 'name': 'От 3 до 6 лет'}   \n",
              "49675  {'id': 'between1And3', 'name': 'От 1 года до 3...   \n",
              "\n",
              "                                              key_skills  \\\n",
              "13     [{'name': 'Управление проектами'}, {'name': 'Б...   \n",
              "26     [{'name': 'Ответственность и пунктуальность'},...   \n",
              "27     [{'name': 'Настройка сетевых подключений'}, {'...   \n",
              "28     [{'name': 'Настройка сетевых подключений'}, {'...   \n",
              "32     [{'name': 'Администрирование сетевого оборудов...   \n",
              "...                                                  ...   \n",
              "49661  [{'name': '1С: Предприятие 8'}, {'name': '1С п...   \n",
              "49665  [{'name': '1С программирование'}, {'name': 'Ст...   \n",
              "49666  [{'name': 'оформление документации'}, {'name':...   \n",
              "49667  [{'name': 'оформление документации'}, {'name':...   \n",
              "49675  [{'name': '1С: Управление Торговлей'}, {'name'...   \n",
              "\n",
              "                     region                                  key_skills_edited  \n",
              "13     Астраханская область  [Управление проектами, Бизнес-анализ, Системны...  \n",
              "26     Астраханская область  [Ответственность и пунктуальность, Администрир...  \n",
              "27     Астраханская область  [Настройка сетевых подключений, Настройка ПК, ...  \n",
              "28     Астраханская область  [Настройка сетевых подключений, Настройка ПО, ...  \n",
              "32     Астраханская область  [Администрирование сетевого оборудования, Наст...  \n",
              "...                     ...                                                ...  \n",
              "49661      Тульская область  [1С: Предприятие 8, 1С программирование, 1С: Б...  \n",
              "49665      Тульская область  [1С программирование, Стремление к профессиона...  \n",
              "49666      Тульская область  [оформление документации, 1C: Предприятие, Выс...  \n",
              "49667      Тульская область  [оформление документации, 1C: Предприятие, Выс...  \n",
              "49675      Тульская область  [1С: Управление Торговлей, 1С: Предприятие 8, ...  \n",
              "\n",
              "[5701 rows x 10 columns]"
            ],
            "text/html": [
              "\n",
              "  <div id=\"df-089490d6-f8e2-48dc-be4c-6ae06789c8d2\">\n",
              "    <div class=\"colab-df-container\">\n",
              "      <div>\n",
              "<style scoped>\n",
              "    .dataframe tbody tr th:only-of-type {\n",
              "        vertical-align: middle;\n",
              "    }\n",
              "\n",
              "    .dataframe tbody tr th {\n",
              "        vertical-align: top;\n",
              "    }\n",
              "\n",
              "    .dataframe thead th {\n",
              "        text-align: right;\n",
              "    }\n",
              "</style>\n",
              "<table border=\"1\" class=\"dataframe\">\n",
              "  <thead>\n",
              "    <tr style=\"text-align: right;\">\n",
              "      <th></th>\n",
              "      <th>index</th>\n",
              "      <th>id</th>\n",
              "      <th>name</th>\n",
              "      <th>salary</th>\n",
              "      <th>published_at</th>\n",
              "      <th>employer</th>\n",
              "      <th>experience</th>\n",
              "      <th>key_skills</th>\n",
              "      <th>region</th>\n",
              "      <th>key_skills_edited</th>\n",
              "    </tr>\n",
              "  </thead>\n",
              "  <tbody>\n",
              "    <tr>\n",
              "      <th>13</th>\n",
              "      <td>24</td>\n",
              "      <td>50473451</td>\n",
              "      <td>Бизнес-аналитик</td>\n",
              "      <td>NaN</td>\n",
              "      <td>2022-05-20T17:07:37+0300</td>\n",
              "      <td>{'id': '115', 'name': 'Ай-Теко (I-Teco)', 'url...</td>\n",
              "      <td>{'id': 'between1And3', 'name': 'От 1 года до 3...</td>\n",
              "      <td>[{'name': 'Управление проектами'}, {'name': 'Б...</td>\n",
              "      <td>Астраханская область</td>\n",
              "      <td>[Управление проектами, Бизнес-анализ, Системны...</td>\n",
              "    </tr>\n",
              "    <tr>\n",
              "      <th>26</th>\n",
              "      <td>56</td>\n",
              "      <td>66075797</td>\n",
              "      <td>Системный администратор</td>\n",
              "      <td>50000.0</td>\n",
              "      <td>2022-05-25T12:15:23+0300</td>\n",
              "      <td>{'id': '3025483', 'name': 'Лигал Кейс Компани'...</td>\n",
              "      <td>{'id': 'between1And3', 'name': 'От 1 года до 3...</td>\n",
              "      <td>[{'name': 'Ответственность и пунктуальность'},...</td>\n",
              "      <td>Астраханская область</td>\n",
              "      <td>[Ответственность и пунктуальность, Администрир...</td>\n",
              "    </tr>\n",
              "    <tr>\n",
              "      <th>27</th>\n",
              "      <td>57</td>\n",
              "      <td>55596717</td>\n",
              "      <td>Системный администратор</td>\n",
              "      <td>35398.0</td>\n",
              "      <td>2022-05-20T17:35:42+0300</td>\n",
              "      <td>{'id': '4887922', 'name': 'Мединвестгрупп', 'u...</td>\n",
              "      <td>{'id': 'between1And3', 'name': 'От 1 года до 3...</td>\n",
              "      <td>[{'name': 'Настройка сетевых подключений'}, {'...</td>\n",
              "      <td>Астраханская область</td>\n",
              "      <td>[Настройка сетевых подключений, Настройка ПК, ...</td>\n",
              "    </tr>\n",
              "    <tr>\n",
              "      <th>28</th>\n",
              "      <td>58</td>\n",
              "      <td>54956000</td>\n",
              "      <td>Системный администратор</td>\n",
              "      <td>27434.0</td>\n",
              "      <td>2022-05-18T13:43:31+0300</td>\n",
              "      <td>{'id': '3542521', 'name': 'ГБПОУ АО АГКПТ', 'u...</td>\n",
              "      <td>{'id': 'between1And3', 'name': 'От 1 года до 3...</td>\n",
              "      <td>[{'name': 'Настройка сетевых подключений'}, {'...</td>\n",
              "      <td>Астраханская область</td>\n",
              "      <td>[Настройка сетевых подключений, Настройка ПО, ...</td>\n",
              "    </tr>\n",
              "    <tr>\n",
              "      <th>32</th>\n",
              "      <td>62</td>\n",
              "      <td>54938836</td>\n",
              "      <td>Системный администратор</td>\n",
              "      <td>26548.0</td>\n",
              "      <td>2022-05-26T10:31:43+0300</td>\n",
              "      <td>{'id': '2632291', 'name': 'АПК Астраханский', ...</td>\n",
              "      <td>{'id': 'noExperience', 'name': 'Нет опыта'}</td>\n",
              "      <td>[{'name': 'Администрирование сетевого оборудов...</td>\n",
              "      <td>Астраханская область</td>\n",
              "      <td>[Администрирование сетевого оборудования, Наст...</td>\n",
              "    </tr>\n",
              "    <tr>\n",
              "      <th>...</th>\n",
              "      <td>...</td>\n",
              "      <td>...</td>\n",
              "      <td>...</td>\n",
              "      <td>...</td>\n",
              "      <td>...</td>\n",
              "      <td>...</td>\n",
              "      <td>...</td>\n",
              "      <td>...</td>\n",
              "      <td>...</td>\n",
              "      <td>...</td>\n",
              "    </tr>\n",
              "    <tr>\n",
              "      <th>49661</th>\n",
              "      <td>69638</td>\n",
              "      <td>55583241</td>\n",
              "      <td>Программист 1C</td>\n",
              "      <td>NaN</td>\n",
              "      <td>2022-05-20T11:59:30+0300</td>\n",
              "      <td>{'id': '51837', 'name': 'UCMS Group Russia', '...</td>\n",
              "      <td>{'id': 'between3And6', 'name': 'От 3 до 6 лет'}</td>\n",
              "      <td>[{'name': '1С: Предприятие 8'}, {'name': '1С п...</td>\n",
              "      <td>Тульская область</td>\n",
              "      <td>[1С: Предприятие 8, 1С программирование, 1С: Б...</td>\n",
              "    </tr>\n",
              "    <tr>\n",
              "      <th>49665</th>\n",
              "      <td>69642</td>\n",
              "      <td>55890279</td>\n",
              "      <td>Программист 1C</td>\n",
              "      <td>140000.0</td>\n",
              "      <td>2022-05-24T11:43:56+0300</td>\n",
              "      <td>{'id': '5174849', 'name': 'Wanted', 'url': 'ht...</td>\n",
              "      <td>{'id': 'between3And6', 'name': 'От 3 до 6 лет'}</td>\n",
              "      <td>[{'name': '1С программирование'}, {'name': 'Ст...</td>\n",
              "      <td>Тульская область</td>\n",
              "      <td>[1С программирование, Стремление к профессиона...</td>\n",
              "    </tr>\n",
              "    <tr>\n",
              "      <th>49666</th>\n",
              "      <td>69643</td>\n",
              "      <td>55895723</td>\n",
              "      <td>Инженер-программист</td>\n",
              "      <td>44690.0</td>\n",
              "      <td>2022-05-24T13:37:01+0300</td>\n",
              "      <td>{'id': '5711647', 'name': 'Бастион', 'url': 'h...</td>\n",
              "      <td>{'id': 'between3And6', 'name': 'От 3 до 6 лет'}</td>\n",
              "      <td>[{'name': 'оформление документации'}, {'name':...</td>\n",
              "      <td>Тульская область</td>\n",
              "      <td>[оформление документации, 1C: Предприятие, Выс...</td>\n",
              "    </tr>\n",
              "    <tr>\n",
              "      <th>49667</th>\n",
              "      <td>69644</td>\n",
              "      <td>55895724</td>\n",
              "      <td>Инженер-программист</td>\n",
              "      <td>44690.0</td>\n",
              "      <td>2022-05-24T13:37:01+0300</td>\n",
              "      <td>{'id': '5711647', 'name': 'Бастион', 'url': 'h...</td>\n",
              "      <td>{'id': 'between3And6', 'name': 'От 3 до 6 лет'}</td>\n",
              "      <td>[{'name': 'оформление документации'}, {'name':...</td>\n",
              "      <td>Тульская область</td>\n",
              "      <td>[оформление документации, 1C: Предприятие, Выс...</td>\n",
              "    </tr>\n",
              "    <tr>\n",
              "      <th>49675</th>\n",
              "      <td>69652</td>\n",
              "      <td>66113885</td>\n",
              "      <td>Программист 1C</td>\n",
              "      <td>130000.0</td>\n",
              "      <td>2022-05-26T14:41:55+0300</td>\n",
              "      <td>{'id': '97966', 'name': 'Окраина', 'url': 'htt...</td>\n",
              "      <td>{'id': 'between1And3', 'name': 'От 1 года до 3...</td>\n",
              "      <td>[{'name': '1С: Управление Торговлей'}, {'name'...</td>\n",
              "      <td>Тульская область</td>\n",
              "      <td>[1С: Управление Торговлей, 1С: Предприятие 8, ...</td>\n",
              "    </tr>\n",
              "  </tbody>\n",
              "</table>\n",
              "<p>5701 rows × 10 columns</p>\n",
              "</div>\n",
              "      <button class=\"colab-df-convert\" onclick=\"convertToInteractive('df-089490d6-f8e2-48dc-be4c-6ae06789c8d2')\"\n",
              "              title=\"Convert this dataframe to an interactive table.\"\n",
              "              style=\"display:none;\">\n",
              "        \n",
              "  <svg xmlns=\"http://www.w3.org/2000/svg\" height=\"24px\"viewBox=\"0 0 24 24\"\n",
              "       width=\"24px\">\n",
              "    <path d=\"M0 0h24v24H0V0z\" fill=\"none\"/>\n",
              "    <path d=\"M18.56 5.44l.94 2.06.94-2.06 2.06-.94-2.06-.94-.94-2.06-.94 2.06-2.06.94zm-11 1L8.5 8.5l.94-2.06 2.06-.94-2.06-.94L8.5 2.5l-.94 2.06-2.06.94zm10 10l.94 2.06.94-2.06 2.06-.94-2.06-.94-.94-2.06-.94 2.06-2.06.94z\"/><path d=\"M17.41 7.96l-1.37-1.37c-.4-.4-.92-.59-1.43-.59-.52 0-1.04.2-1.43.59L10.3 9.45l-7.72 7.72c-.78.78-.78 2.05 0 2.83L4 21.41c.39.39.9.59 1.41.59.51 0 1.02-.2 1.41-.59l7.78-7.78 2.81-2.81c.8-.78.8-2.07 0-2.86zM5.41 20L4 18.59l7.72-7.72 1.47 1.35L5.41 20z\"/>\n",
              "  </svg>\n",
              "      </button>\n",
              "      \n",
              "  <style>\n",
              "    .colab-df-container {\n",
              "      display:flex;\n",
              "      flex-wrap:wrap;\n",
              "      gap: 12px;\n",
              "    }\n",
              "\n",
              "    .colab-df-convert {\n",
              "      background-color: #E8F0FE;\n",
              "      border: none;\n",
              "      border-radius: 50%;\n",
              "      cursor: pointer;\n",
              "      display: none;\n",
              "      fill: #1967D2;\n",
              "      height: 32px;\n",
              "      padding: 0 0 0 0;\n",
              "      width: 32px;\n",
              "    }\n",
              "\n",
              "    .colab-df-convert:hover {\n",
              "      background-color: #E2EBFA;\n",
              "      box-shadow: 0px 1px 2px rgba(60, 64, 67, 0.3), 0px 1px 3px 1px rgba(60, 64, 67, 0.15);\n",
              "      fill: #174EA6;\n",
              "    }\n",
              "\n",
              "    [theme=dark] .colab-df-convert {\n",
              "      background-color: #3B4455;\n",
              "      fill: #D2E3FC;\n",
              "    }\n",
              "\n",
              "    [theme=dark] .colab-df-convert:hover {\n",
              "      background-color: #434B5C;\n",
              "      box-shadow: 0px 1px 3px 1px rgba(0, 0, 0, 0.15);\n",
              "      filter: drop-shadow(0px 1px 2px rgba(0, 0, 0, 0.3));\n",
              "      fill: #FFFFFF;\n",
              "    }\n",
              "  </style>\n",
              "\n",
              "      <script>\n",
              "        const buttonEl =\n",
              "          document.querySelector('#df-089490d6-f8e2-48dc-be4c-6ae06789c8d2 button.colab-df-convert');\n",
              "        buttonEl.style.display =\n",
              "          google.colab.kernel.accessAllowed ? 'block' : 'none';\n",
              "\n",
              "        async function convertToInteractive(key) {\n",
              "          const element = document.querySelector('#df-089490d6-f8e2-48dc-be4c-6ae06789c8d2');\n",
              "          const dataTable =\n",
              "            await google.colab.kernel.invokeFunction('convertToInteractive',\n",
              "                                                     [key], {});\n",
              "          if (!dataTable) return;\n",
              "\n",
              "          const docLinkHtml = 'Like what you see? Visit the ' +\n",
              "            '<a target=\"_blank\" href=https://colab.research.google.com/notebooks/data_table.ipynb>data table notebook</a>'\n",
              "            + ' to learn more about interactive tables.';\n",
              "          element.innerHTML = '';\n",
              "          dataTable['output_type'] = 'display_data';\n",
              "          await google.colab.output.renderOutput(dataTable, element);\n",
              "          const docLink = document.createElement('div');\n",
              "          docLink.innerHTML = docLinkHtml;\n",
              "          element.appendChild(docLink);\n",
              "        }\n",
              "      </script>\n",
              "    </div>\n",
              "  </div>\n",
              "  "
            ]
          },
          "metadata": {},
          "execution_count": 76
        }
      ]
    },
    {
      "cell_type": "code",
      "source": [
        "# filtered_df.groupby('name')['salary'].mean().sort_values(ascending=False)  # средняя зарплата по ТОП вакансиям"
      ],
      "metadata": {
        "id": "7oX00axXP1Nb"
      },
      "execution_count": null,
      "outputs": []
    },
    {
      "cell_type": "code",
      "source": [
        "# mean_salary_by_name10 = filtered_df.groupby('name')['salary'].mean().sort_values(ascending=False)"
      ],
      "metadata": {
        "id": "gdEutoe3QCKS"
      },
      "execution_count": null,
      "outputs": []
    },
    {
      "cell_type": "code",
      "source": [
        "plt.figure(figsize=(15,10))\n",
        "sns.boxplot(y='name', x='salary', data=filtered_df, orient=\"h\")\n",
        "plt.show()"
      ],
      "metadata": {
        "colab": {
          "base_uri": "https://localhost:8080/",
          "height": 489
        },
        "id": "ipplwR5vQOHJ",
        "outputId": "bd50c2b0-8e0d-42d4-e2ae-fe94df201a4f"
      },
      "execution_count": null,
      "outputs": [
        {
          "output_type": "display_data",
          "data": {
            "text/plain": [
              "<Figure size 1080x720 with 1 Axes>"
            ],
            "image/png": "[encoded data removed]"
          },
          "metadata": {
            "needs_background": "light"
          }
        }
      ]
    },
    {
      "cell_type": "markdown",
      "source": [
        "Показываю взаимосвяь между ТОП навыками и средней зарплатой по ним."
      ],
      "metadata": {
        "id": "pip3qpNaYxVb"
      }
    },
    {
      "cell_type": "code",
      "source": [
        "# sns.boxplot(y='key_skills_edited', x='salary', data=skills_df, orient=\"h\")\n",
        "# plt.show()"
      ],
      "metadata": {
        "id": "4J3pEkMFcag3"
      },
      "execution_count": null,
      "outputs": []
    },
    {
      "cell_type": "markdown",
      "source": [
        "# 8. Выводы"
      ],
      "metadata": {
        "id": "wZeqNwYWubW2"
      }
    },
    {
      "cell_type": "markdown",
      "source": [
        "__1. Топ вакансий__ в специализации ИТ приходится на следующие: Системный администратор, Программист 1C, Специалист технической поддержки, Системный аналитик, Аналитик, Инженер-программист, Графический дизайнер, Инженер технической поддержки, Бизнес-аналитик, Дизайнер.\n",
        "\n",
        "__2. Топ работодателей:__ с явным отрывом на первом месте находится Яндекс. Далее следуют ведущие компании банковского, телекоммуникационного, нефтедобычи и ритейла: Газпром нефть, Сбербанк, Тинькофф, Ростелеком, ИК СИБИНТЕК, МТС,\n",
        "Ozon, VK, Совкомбанк Технологии.\n",
        "\n",
        "__3. Навыки:__ Самые востребованные навыки связаны с базами данных, операционной системой Linux, системой контроля версий Git и Английским языком, а так же Работа в команде.\n",
        "\n",
        "__4. Топ по средней ЗП из ТОП навыков:__ PostgreSQL\t166706\n",
        "- Python\t158718\n",
        "- Git\t153280\n",
        "- JavaScript\t133510\n",
        "- Английский язык\t130258\n",
        "\n",
        "__5__. Самые большие зарплаты из ТОП вакансий у __Системных аналитиков, Бизнес-аналитиков и Программистов 1С__."
      ],
      "metadata": {
        "id": "Nv33N_Heug6m"
      }
    },
    {
      "cell_type": "markdown",
      "source": [
        "-----------------------------------------------------------------------------"
      ],
      "metadata": {
        "id": "xVwJplFN4exG"
      }
    },
    {
      "cell_type": "markdown",
      "source": [
        "---------------------------------------------------------------------------------"
      ],
      "metadata": {
        "id": "VnVeZBm54ek8"
      }
    },
    {
      "cell_type": "markdown",
      "source": [
        "_Технический подвал для выгрузок результатов в файлы_"
      ],
      "metadata": {
        "id": "vVpm4pma39cn"
      }
    },
    {
      "cell_type": "code",
      "source": [
        "df.head()"
      ],
      "metadata": {
        "colab": {
          "base_uri": "https://localhost:8080/",
          "height": 548
        },
        "id": "gcqtoQI-4GvH",
        "outputId": "023edd7b-7651-4534-a401-64b9f47e28f5"
      },
      "execution_count": null,
      "outputs": [
        {
          "output_type": "execute_result",
          "data": {
            "text/plain": [
              "   index        id                                              name   salary  \\\n",
              "0      0  49059633           Младший специалист ручного тестирования      NaN   \n",
              "1      1  54653519                                   Тестировщик.Net  33186.0   \n",
              "2      2  55116066                                         Пентестер      NaN   \n",
              "3      3  54031261  Ведущий Специалист по информационным технологиям  23008.0   \n",
              "4      4  55243040                   Специалист по защите информации  20000.0   \n",
              "\n",
              "               published_at  \\\n",
              "0  2022-05-23T09:11:18+0300   \n",
              "1  2022-04-28T17:36:03+0300   \n",
              "2  2022-05-20T10:07:33+0300   \n",
              "3  2022-05-23T07:46:16+0300   \n",
              "4  2022-05-06T10:18:54+0300   \n",
              "\n",
              "                                            employer  \\\n",
              "0  {'id': '1740', 'name': 'Яндекс', 'url': 'https...   \n",
              "1  {'id': '1245158', 'name': 'МФК Саммит', 'url':...   \n",
              "2  {'id': '719820', 'name': 'SearchInform', 'url'...   \n",
              "3  {'id': '4352', 'name': 'Почта России', 'url': ...   \n",
              "4  {'id': '6694236', 'name': 'ГБПОУ АО Астраханск...   \n",
              "\n",
              "                                          experience  \\\n",
              "0        {'id': 'noExperience', 'name': 'Нет опыта'}   \n",
              "1  {'id': 'between1And3', 'name': 'От 1 года до 3...   \n",
              "2    {'id': 'between3And6', 'name': 'От 3 до 6 лет'}   \n",
              "3        {'id': 'noExperience', 'name': 'Нет опыта'}   \n",
              "4        {'id': 'noExperience', 'name': 'Нет опыта'}   \n",
              "\n",
              "                                          key_skills                region  \\\n",
              "0                                                 []  Астраханская область   \n",
              "1  [{'name': 'Git'}, {'name': 'SQL'}, {'name': 'Т...  Астраханская область   \n",
              "2  [{'name': 'SQL'}, {'name': 'Linux'}, {'name': ...  Астраханская область   \n",
              "3  [{'name': 'Пользователь ПК'}, {'name': 'Работа...  Астраханская область   \n",
              "4  [{'name': 'MS Dos'}, {'name': 'Диагностика ПК'...  Астраханская область   \n",
              "\n",
              "                                   key_skills_edited  \n",
              "0                                                 []  \n",
              "1                  [Git, SQL, Тестирование, C#, API]  \n",
              "2  [SQL, Linux, Информационная безопасность, Рабо...  \n",
              "3  [Пользователь ПК, Работа в команде, 1С: Предпр...  \n",
              "4  [MS Dos, Диагностика ПК, Компьютер, Работа в у...  "
            ],
            "text/html": [
              "\n",
              "  <div id=\"df-22a0d2b7-a8a7-4d9d-bc74-9262f756bd3f\">\n",
              "    <div class=\"colab-df-container\">\n",
              "      <div>\n",
              "<style scoped>\n",
              "    .dataframe tbody tr th:only-of-type {\n",
              "        vertical-align: middle;\n",
              "    }\n",
              "\n",
              "    .dataframe tbody tr th {\n",
              "        vertical-align: top;\n",
              "    }\n",
              "\n",
              "    .dataframe thead th {\n",
              "        text-align: right;\n",
              "    }\n",
              "</style>\n",
              "<table border=\"1\" class=\"dataframe\">\n",
              "  <thead>\n",
              "    <tr style=\"text-align: right;\">\n",
              "      <th></th>\n",
              "      <th>index</th>\n",
              "      <th>id</th>\n",
              "      <th>name</th>\n",
              "      <th>salary</th>\n",
              "      <th>published_at</th>\n",
              "      <th>employer</th>\n",
              "      <th>experience</th>\n",
              "      <th>key_skills</th>\n",
              "      <th>region</th>\n",
              "      <th>key_skills_edited</th>\n",
              "    </tr>\n",
              "  </thead>\n",
              "  <tbody>\n",
              "    <tr>\n",
              "      <th>0</th>\n",
              "      <td>0</td>\n",
              "      <td>49059633</td>\n",
              "      <td>Младший специалист ручного тестирования</td>\n",
              "      <td>NaN</td>\n",
              "      <td>2022-05-23T09:11:18+0300</td>\n",
              "      <td>{'id': '1740', 'name': 'Яндекс', 'url': 'https...</td>\n",
              "      <td>{'id': 'noExperience', 'name': 'Нет опыта'}</td>\n",
              "      <td>[]</td>\n",
              "      <td>Астраханская область</td>\n",
              "      <td>[]</td>\n",
              "    </tr>\n",
              "    <tr>\n",
              "      <th>1</th>\n",
              "      <td>1</td>\n",
              "      <td>54653519</td>\n",
              "      <td>Тестировщик.Net</td>\n",
              "      <td>33186.0</td>\n",
              "      <td>2022-04-28T17:36:03+0300</td>\n",
              "      <td>{'id': '1245158', 'name': 'МФК Саммит', 'url':...</td>\n",
              "      <td>{'id': 'between1And3', 'name': 'От 1 года до 3...</td>\n",
              "      <td>[{'name': 'Git'}, {'name': 'SQL'}, {'name': 'Т...</td>\n",
              "      <td>Астраханская область</td>\n",
              "      <td>[Git, SQL, Тестирование, C#, API]</td>\n",
              "    </tr>\n",
              "    <tr>\n",
              "      <th>2</th>\n",
              "      <td>2</td>\n",
              "      <td>55116066</td>\n",
              "      <td>Пентестер</td>\n",
              "      <td>NaN</td>\n",
              "      <td>2022-05-20T10:07:33+0300</td>\n",
              "      <td>{'id': '719820', 'name': 'SearchInform', 'url'...</td>\n",
              "      <td>{'id': 'between3And6', 'name': 'От 3 до 6 лет'}</td>\n",
              "      <td>[{'name': 'SQL'}, {'name': 'Linux'}, {'name': ...</td>\n",
              "      <td>Астраханская область</td>\n",
              "      <td>[SQL, Linux, Информационная безопасность, Рабо...</td>\n",
              "    </tr>\n",
              "    <tr>\n",
              "      <th>3</th>\n",
              "      <td>3</td>\n",
              "      <td>54031261</td>\n",
              "      <td>Ведущий Специалист по информационным технологиям</td>\n",
              "      <td>23008.0</td>\n",
              "      <td>2022-05-23T07:46:16+0300</td>\n",
              "      <td>{'id': '4352', 'name': 'Почта России', 'url': ...</td>\n",
              "      <td>{'id': 'noExperience', 'name': 'Нет опыта'}</td>\n",
              "      <td>[{'name': 'Пользователь ПК'}, {'name': 'Работа...</td>\n",
              "      <td>Астраханская область</td>\n",
              "      <td>[Пользователь ПК, Работа в команде, 1С: Предпр...</td>\n",
              "    </tr>\n",
              "    <tr>\n",
              "      <th>4</th>\n",
              "      <td>4</td>\n",
              "      <td>55243040</td>\n",
              "      <td>Специалист по защите информации</td>\n",
              "      <td>20000.0</td>\n",
              "      <td>2022-05-06T10:18:54+0300</td>\n",
              "      <td>{'id': '6694236', 'name': 'ГБПОУ АО Астраханск...</td>\n",
              "      <td>{'id': 'noExperience', 'name': 'Нет опыта'}</td>\n",
              "      <td>[{'name': 'MS Dos'}, {'name': 'Диагностика ПК'...</td>\n",
              "      <td>Астраханская область</td>\n",
              "      <td>[MS Dos, Диагностика ПК, Компьютер, Работа в у...</td>\n",
              "    </tr>\n",
              "  </tbody>\n",
              "</table>\n",
              "</div>\n",
              "      <button class=\"colab-df-convert\" onclick=\"convertToInteractive('df-22a0d2b7-a8a7-4d9d-bc74-9262f756bd3f')\"\n",
              "              title=\"Convert this dataframe to an interactive table.\"\n",
              "              style=\"display:none;\">\n",
              "        \n",
              "  <svg xmlns=\"http://www.w3.org/2000/svg\" height=\"24px\"viewBox=\"0 0 24 24\"\n",
              "       width=\"24px\">\n",
              "    <path d=\"M0 0h24v24H0V0z\" fill=\"none\"/>\n",
              "    <path d=\"M18.56 5.44l.94 2.06.94-2.06 2.06-.94-2.06-.94-.94-2.06-.94 2.06-2.06.94zm-11 1L8.5 8.5l.94-2.06 2.06-.94-2.06-.94L8.5 2.5l-.94 2.06-2.06.94zm10 10l.94 2.06.94-2.06 2.06-.94-2.06-.94-.94-2.06-.94 2.06-2.06.94z\"/><path d=\"M17.41 7.96l-1.37-1.37c-.4-.4-.92-.59-1.43-.59-.52 0-1.04.2-1.43.59L10.3 9.45l-7.72 7.72c-.78.78-.78 2.05 0 2.83L4 21.41c.39.39.9.59 1.41.59.51 0 1.02-.2 1.41-.59l7.78-7.78 2.81-2.81c.8-.78.8-2.07 0-2.86zM5.41 20L4 18.59l7.72-7.72 1.47 1.35L5.41 20z\"/>\n",
              "  </svg>\n",
              "      </button>\n",
              "      \n",
              "  <style>\n",
              "    .colab-df-container {\n",
              "      display:flex;\n",
              "      flex-wrap:wrap;\n",
              "      gap: 12px;\n",
              "    }\n",
              "\n",
              "    .colab-df-convert {\n",
              "      background-color: #E8F0FE;\n",
              "      border: none;\n",
              "      border-radius: 50%;\n",
              "      cursor: pointer;\n",
              "      display: none;\n",
              "      fill: #1967D2;\n",
              "      height: 32px;\n",
              "      padding: 0 0 0 0;\n",
              "      width: 32px;\n",
              "    }\n",
              "\n",
              "    .colab-df-convert:hover {\n",
              "      background-color: #E2EBFA;\n",
              "      box-shadow: 0px 1px 2px rgba(60, 64, 67, 0.3), 0px 1px 3px 1px rgba(60, 64, 67, 0.15);\n",
              "      fill: #174EA6;\n",
              "    }\n",
              "\n",
              "    [theme=dark] .colab-df-convert {\n",
              "      background-color: #3B4455;\n",
              "      fill: #D2E3FC;\n",
              "    }\n",
              "\n",
              "    [theme=dark] .colab-df-convert:hover {\n",
              "      background-color: #434B5C;\n",
              "      box-shadow: 0px 1px 3px 1px rgba(0, 0, 0, 0.15);\n",
              "      filter: drop-shadow(0px 1px 2px rgba(0, 0, 0, 0.3));\n",
              "      fill: #FFFFFF;\n",
              "    }\n",
              "  </style>\n",
              "\n",
              "      <script>\n",
              "        const buttonEl =\n",
              "          document.querySelector('#df-22a0d2b7-a8a7-4d9d-bc74-9262f756bd3f button.colab-df-convert');\n",
              "        buttonEl.style.display =\n",
              "          google.colab.kernel.accessAllowed ? 'block' : 'none';\n",
              "\n",
              "        async function convertToInteractive(key) {\n",
              "          const element = document.querySelector('#df-22a0d2b7-a8a7-4d9d-bc74-9262f756bd3f');\n",
              "          const dataTable =\n",
              "            await google.colab.kernel.invokeFunction('convertToInteractive',\n",
              "                                                     [key], {});\n",
              "          if (!dataTable) return;\n",
              "\n",
              "          const docLinkHtml = 'Like what you see? Visit the ' +\n",
              "            '<a target=\"_blank\" href=https://colab.research.google.com/notebooks/data_table.ipynb>data table notebook</a>'\n",
              "            + ' to learn more about interactive tables.';\n",
              "          element.innerHTML = '';\n",
              "          dataTable['output_type'] = 'display_data';\n",
              "          await google.colab.output.renderOutput(dataTable, element);\n",
              "          const docLink = document.createElement('div');\n",
              "          docLink.innerHTML = docLinkHtml;\n",
              "          element.appendChild(docLink);\n",
              "        }\n",
              "      </script>\n",
              "    </div>\n",
              "  </div>\n",
              "  "
            ]
          },
          "metadata": {},
          "execution_count": 81
        }
      ]
    },
    {
      "cell_type": "code",
      "source": [
        "df['employer'] = df['employer'].apply(employer)"
      ],
      "metadata": {
        "id": "Aj1pzomY4I0G"
      },
      "execution_count": null,
      "outputs": []
    },
    {
      "cell_type": "code",
      "source": [
        "df.head()"
      ],
      "metadata": {
        "colab": {
          "base_uri": "https://localhost:8080/",
          "height": 565
        },
        "id": "OIvvEZ4I4YJ0",
        "outputId": "c199a575-235a-4e7f-f558-631a7c0ae992"
      },
      "execution_count": null,
      "outputs": [
        {
          "output_type": "execute_result",
          "data": {
            "text/plain": [
              "   index        id                                              name   salary  \\\n",
              "0      0  49059633           Младший специалист ручного тестирования      NaN   \n",
              "1      1  54653519                                   Тестировщик.Net  33186.0   \n",
              "2      2  55116066                                         Пентестер      NaN   \n",
              "3      3  54031261  Ведущий Специалист по информационным технологиям  23008.0   \n",
              "4      4  55243040                   Специалист по защите информации  20000.0   \n",
              "\n",
              "               published_at  \\\n",
              "0  2022-05-23T09:11:18+0300   \n",
              "1  2022-04-28T17:36:03+0300   \n",
              "2  2022-05-20T10:07:33+0300   \n",
              "3  2022-05-23T07:46:16+0300   \n",
              "4  2022-05-06T10:18:54+0300   \n",
              "\n",
              "                                            employer  \\\n",
              "0                                             Яндекс   \n",
              "1                                         МФК Саммит   \n",
              "2                                       SearchInform   \n",
              "3                                       Почта России   \n",
              "4  ГБПОУ АО Астраханский музыкальный колледж имен...   \n",
              "\n",
              "                                          experience  \\\n",
              "0        {'id': 'noExperience', 'name': 'Нет опыта'}   \n",
              "1  {'id': 'between1And3', 'name': 'От 1 года до 3...   \n",
              "2    {'id': 'between3And6', 'name': 'От 3 до 6 лет'}   \n",
              "3        {'id': 'noExperience', 'name': 'Нет опыта'}   \n",
              "4        {'id': 'noExperience', 'name': 'Нет опыта'}   \n",
              "\n",
              "                                          key_skills                region  \\\n",
              "0                                                 []  Астраханская область   \n",
              "1  [{'name': 'Git'}, {'name': 'SQL'}, {'name': 'Т...  Астраханская область   \n",
              "2  [{'name': 'SQL'}, {'name': 'Linux'}, {'name': ...  Астраханская область   \n",
              "3  [{'name': 'Пользователь ПК'}, {'name': 'Работа...  Астраханская область   \n",
              "4  [{'name': 'MS Dos'}, {'name': 'Диагностика ПК'...  Астраханская область   \n",
              "\n",
              "                                   key_skills_edited  \n",
              "0                                                 []  \n",
              "1                  [Git, SQL, Тестирование, C#, API]  \n",
              "2  [SQL, Linux, Информационная безопасность, Рабо...  \n",
              "3  [Пользователь ПК, Работа в команде, 1С: Предпр...  \n",
              "4  [MS Dos, Диагностика ПК, Компьютер, Работа в у...  "
            ],
            "text/html": [
              "\n",
              "  <div id=\"df-6931066b-6668-4b69-97e7-20f826831c92\">\n",
              "    <div class=\"colab-df-container\">\n",
              "      <div>\n",
              "<style scoped>\n",
              "    .dataframe tbody tr th:only-of-type {\n",
              "        vertical-align: middle;\n",
              "    }\n",
              "\n",
              "    .dataframe tbody tr th {\n",
              "        vertical-align: top;\n",
              "    }\n",
              "\n",
              "    .dataframe thead th {\n",
              "        text-align: right;\n",
              "    }\n",
              "</style>\n",
              "<table border=\"1\" class=\"dataframe\">\n",
              "  <thead>\n",
              "    <tr style=\"text-align: right;\">\n",
              "      <th></th>\n",
              "      <th>index</th>\n",
              "      <th>id</th>\n",
              "      <th>name</th>\n",
              "      <th>salary</th>\n",
              "      <th>published_at</th>\n",
              "      <th>employer</th>\n",
              "      <th>experience</th>\n",
              "      <th>key_skills</th>\n",
              "      <th>region</th>\n",
              "      <th>key_skills_edited</th>\n",
              "    </tr>\n",
              "  </thead>\n",
              "  <tbody>\n",
              "    <tr>\n",
              "      <th>0</th>\n",
              "      <td>0</td>\n",
              "      <td>49059633</td>\n",
              "      <td>Младший специалист ручного тестирования</td>\n",
              "      <td>NaN</td>\n",
              "      <td>2022-05-23T09:11:18+0300</td>\n",
              "      <td>Яндекс</td>\n",
              "      <td>{'id': 'noExperience', 'name': 'Нет опыта'}</td>\n",
              "      <td>[]</td>\n",
              "      <td>Астраханская область</td>\n",
              "      <td>[]</td>\n",
              "    </tr>\n",
              "    <tr>\n",
              "      <th>1</th>\n",
              "      <td>1</td>\n",
              "      <td>54653519</td>\n",
              "      <td>Тестировщик.Net</td>\n",
              "      <td>33186.0</td>\n",
              "      <td>2022-04-28T17:36:03+0300</td>\n",
              "      <td>МФК Саммит</td>\n",
              "      <td>{'id': 'between1And3', 'name': 'От 1 года до 3...</td>\n",
              "      <td>[{'name': 'Git'}, {'name': 'SQL'}, {'name': 'Т...</td>\n",
              "      <td>Астраханская область</td>\n",
              "      <td>[Git, SQL, Тестирование, C#, API]</td>\n",
              "    </tr>\n",
              "    <tr>\n",
              "      <th>2</th>\n",
              "      <td>2</td>\n",
              "      <td>55116066</td>\n",
              "      <td>Пентестер</td>\n",
              "      <td>NaN</td>\n",
              "      <td>2022-05-20T10:07:33+0300</td>\n",
              "      <td>SearchInform</td>\n",
              "      <td>{'id': 'between3And6', 'name': 'От 3 до 6 лет'}</td>\n",
              "      <td>[{'name': 'SQL'}, {'name': 'Linux'}, {'name': ...</td>\n",
              "      <td>Астраханская область</td>\n",
              "      <td>[SQL, Linux, Информационная безопасность, Рабо...</td>\n",
              "    </tr>\n",
              "    <tr>\n",
              "      <th>3</th>\n",
              "      <td>3</td>\n",
              "      <td>54031261</td>\n",
              "      <td>Ведущий Специалист по информационным технологиям</td>\n",
              "      <td>23008.0</td>\n",
              "      <td>2022-05-23T07:46:16+0300</td>\n",
              "      <td>Почта России</td>\n",
              "      <td>{'id': 'noExperience', 'name': 'Нет опыта'}</td>\n",
              "      <td>[{'name': 'Пользователь ПК'}, {'name': 'Работа...</td>\n",
              "      <td>Астраханская область</td>\n",
              "      <td>[Пользователь ПК, Работа в команде, 1С: Предпр...</td>\n",
              "    </tr>\n",
              "    <tr>\n",
              "      <th>4</th>\n",
              "      <td>4</td>\n",
              "      <td>55243040</td>\n",
              "      <td>Специалист по защите информации</td>\n",
              "      <td>20000.0</td>\n",
              "      <td>2022-05-06T10:18:54+0300</td>\n",
              "      <td>ГБПОУ АО Астраханский музыкальный колледж имен...</td>\n",
              "      <td>{'id': 'noExperience', 'name': 'Нет опыта'}</td>\n",
              "      <td>[{'name': 'MS Dos'}, {'name': 'Диагностика ПК'...</td>\n",
              "      <td>Астраханская область</td>\n",
              "      <td>[MS Dos, Диагностика ПК, Компьютер, Работа в у...</td>\n",
              "    </tr>\n",
              "  </tbody>\n",
              "</table>\n",
              "</div>\n",
              "      <button class=\"colab-df-convert\" onclick=\"convertToInteractive('df-6931066b-6668-4b69-97e7-20f826831c92')\"\n",
              "              title=\"Convert this dataframe to an interactive table.\"\n",
              "              style=\"display:none;\">\n",
              "        \n",
              "  <svg xmlns=\"http://www.w3.org/2000/svg\" height=\"24px\"viewBox=\"0 0 24 24\"\n",
              "       width=\"24px\">\n",
              "    <path d=\"M0 0h24v24H0V0z\" fill=\"none\"/>\n",
              "    <path d=\"M18.56 5.44l.94 2.06.94-2.06 2.06-.94-2.06-.94-.94-2.06-.94 2.06-2.06.94zm-11 1L8.5 8.5l.94-2.06 2.06-.94-2.06-.94L8.5 2.5l-.94 2.06-2.06.94zm10 10l.94 2.06.94-2.06 2.06-.94-2.06-.94-.94-2.06-.94 2.06-2.06.94z\"/><path d=\"M17.41 7.96l-1.37-1.37c-.4-.4-.92-.59-1.43-.59-.52 0-1.04.2-1.43.59L10.3 9.45l-7.72 7.72c-.78.78-.78 2.05 0 2.83L4 21.41c.39.39.9.59 1.41.59.51 0 1.02-.2 1.41-.59l7.78-7.78 2.81-2.81c.8-.78.8-2.07 0-2.86zM5.41 20L4 18.59l7.72-7.72 1.47 1.35L5.41 20z\"/>\n",
              "  </svg>\n",
              "      </button>\n",
              "      \n",
              "  <style>\n",
              "    .colab-df-container {\n",
              "      display:flex;\n",
              "      flex-wrap:wrap;\n",
              "      gap: 12px;\n",
              "    }\n",
              "\n",
              "    .colab-df-convert {\n",
              "      background-color: #E8F0FE;\n",
              "      border: none;\n",
              "      border-radius: 50%;\n",
              "      cursor: pointer;\n",
              "      display: none;\n",
              "      fill: #1967D2;\n",
              "      height: 32px;\n",
              "      padding: 0 0 0 0;\n",
              "      width: 32px;\n",
              "    }\n",
              "\n",
              "    .colab-df-convert:hover {\n",
              "      background-color: #E2EBFA;\n",
              "      box-shadow: 0px 1px 2px rgba(60, 64, 67, 0.3), 0px 1px 3px 1px rgba(60, 64, 67, 0.15);\n",
              "      fill: #174EA6;\n",
              "    }\n",
              "\n",
              "    [theme=dark] .colab-df-convert {\n",
              "      background-color: #3B4455;\n",
              "      fill: #D2E3FC;\n",
              "    }\n",
              "\n",
              "    [theme=dark] .colab-df-convert:hover {\n",
              "      background-color: #434B5C;\n",
              "      box-shadow: 0px 1px 3px 1px rgba(0, 0, 0, 0.15);\n",
              "      filter: drop-shadow(0px 1px 2px rgba(0, 0, 0, 0.3));\n",
              "      fill: #FFFFFF;\n",
              "    }\n",
              "  </style>\n",
              "\n",
              "      <script>\n",
              "        const buttonEl =\n",
              "          document.querySelector('#df-6931066b-6668-4b69-97e7-20f826831c92 button.colab-df-convert');\n",
              "        buttonEl.style.display =\n",
              "          google.colab.kernel.accessAllowed ? 'block' : 'none';\n",
              "\n",
              "        async function convertToInteractive(key) {\n",
              "          const element = document.querySelector('#df-6931066b-6668-4b69-97e7-20f826831c92');\n",
              "          const dataTable =\n",
              "            await google.colab.kernel.invokeFunction('convertToInteractive',\n",
              "                                                     [key], {});\n",
              "          if (!dataTable) return;\n",
              "\n",
              "          const docLinkHtml = 'Like what you see? Visit the ' +\n",
              "            '<a target=\"_blank\" href=https://colab.research.google.com/notebooks/data_table.ipynb>data table notebook</a>'\n",
              "            + ' to learn more about interactive tables.';\n",
              "          element.innerHTML = '';\n",
              "          dataTable['output_type'] = 'display_data';\n",
              "          await google.colab.output.renderOutput(dataTable, element);\n",
              "          const docLink = document.createElement('div');\n",
              "          docLink.innerHTML = docLinkHtml;\n",
              "          element.appendChild(docLink);\n",
              "        }\n",
              "      </script>\n",
              "    </div>\n",
              "  </div>\n",
              "  "
            ]
          },
          "metadata": {},
          "execution_count": 83
        }
      ]
    },
    {
      "cell_type": "code",
      "source": [
        "df.experience.unique()"
      ],
      "metadata": {
        "colab": {
          "base_uri": "https://localhost:8080/"
        },
        "id": "yvJIldEC4aRT",
        "outputId": "1385dfcb-bc54-4c6e-e4eb-39a1762d383a"
      },
      "execution_count": null,
      "outputs": [
        {
          "output_type": "execute_result",
          "data": {
            "text/plain": [
              "array([\"{'id': 'noExperience', 'name': 'Нет опыта'}\",\n",
              "       \"{'id': 'between1And3', 'name': 'От 1 года до 3 лет'}\",\n",
              "       \"{'id': 'between3And6', 'name': 'От 3 до 6 лет'}\",\n",
              "       \"{'id': 'moreThan6', 'name': 'Более 6 лет'}\"], dtype=object)"
            ]
          },
          "metadata": {},
          "execution_count": 84
        }
      ]
    },
    {
      "cell_type": "code",
      "source": [
        "df.experience.apply(eval)"
      ],
      "metadata": {
        "colab": {
          "base_uri": "https://localhost:8080/"
        },
        "id": "6CKyKCvG5CBM",
        "outputId": "b5cc943a-2fbb-4722-c5a9-b9e3a9f0552c"
      },
      "execution_count": null,
      "outputs": [
        {
          "output_type": "execute_result",
          "data": {
            "text/plain": [
              "0              {'id': 'noExperience', 'name': 'Нет опыта'}\n",
              "1        {'id': 'between1And3', 'name': 'От 1 года до 3...\n",
              "2          {'id': 'between3And6', 'name': 'От 3 до 6 лет'}\n",
              "3              {'id': 'noExperience', 'name': 'Нет опыта'}\n",
              "4              {'id': 'noExperience', 'name': 'Нет опыта'}\n",
              "                               ...                        \n",
              "49674      {'id': 'between3And6', 'name': 'От 3 до 6 лет'}\n",
              "49675    {'id': 'between1And3', 'name': 'От 1 года до 3...\n",
              "49676    {'id': 'between1And3', 'name': 'От 1 года до 3...\n",
              "49677      {'id': 'between3And6', 'name': 'От 3 до 6 лет'}\n",
              "49678           {'id': 'moreThan6', 'name': 'Более 6 лет'}\n",
              "Name: experience, Length: 49678, dtype: object"
            ]
          },
          "metadata": {},
          "execution_count": 85
        }
      ]
    },
    {
      "cell_type": "code",
      "source": [],
      "metadata": {
        "id": "TqwW-pik6GkQ"
      },
      "execution_count": null,
      "outputs": []
    },
    {
      "cell_type": "code",
      "source": [
        "def experience_range(data):\n",
        "  return json.loads(data.replace(\"'\", '\"'))['name']"
      ],
      "metadata": {
        "id": "IL29LMJf5WaC"
      },
      "execution_count": null,
      "outputs": []
    },
    {
      "cell_type": "code",
      "source": [
        "df.experience = df.experience.apply(experience_range)"
      ],
      "metadata": {
        "id": "oKIPVqXx5rsz"
      },
      "execution_count": null,
      "outputs": []
    },
    {
      "cell_type": "code",
      "source": [
        "df.head()"
      ],
      "metadata": {
        "colab": {
          "base_uri": "https://localhost:8080/",
          "height": 565
        },
        "id": "KfeO6Ca35uPT",
        "outputId": "c4ac5bcb-e19a-474e-e6c2-af89a27fccb5"
      },
      "execution_count": null,
      "outputs": [
        {
          "output_type": "execute_result",
          "data": {
            "text/plain": [
              "   index        id                                              name   salary  \\\n",
              "0      0  49059633           Младший специалист ручного тестирования      NaN   \n",
              "1      1  54653519                                   Тестировщик.Net  33186.0   \n",
              "2      2  55116066                                         Пентестер      NaN   \n",
              "3      3  54031261  Ведущий Специалист по информационным технологиям  23008.0   \n",
              "4      4  55243040                   Специалист по защите информации  20000.0   \n",
              "\n",
              "               published_at  \\\n",
              "0  2022-05-23T09:11:18+0300   \n",
              "1  2022-04-28T17:36:03+0300   \n",
              "2  2022-05-20T10:07:33+0300   \n",
              "3  2022-05-23T07:46:16+0300   \n",
              "4  2022-05-06T10:18:54+0300   \n",
              "\n",
              "                                            employer          experience  \\\n",
              "0                                             Яндекс           Нет опыта   \n",
              "1                                         МФК Саммит  От 1 года до 3 лет   \n",
              "2                                       SearchInform       От 3 до 6 лет   \n",
              "3                                       Почта России           Нет опыта   \n",
              "4  ГБПОУ АО Астраханский музыкальный колледж имен...           Нет опыта   \n",
              "\n",
              "                                          key_skills                region  \\\n",
              "0                                                 []  Астраханская область   \n",
              "1  [{'name': 'Git'}, {'name': 'SQL'}, {'name': 'Т...  Астраханская область   \n",
              "2  [{'name': 'SQL'}, {'name': 'Linux'}, {'name': ...  Астраханская область   \n",
              "3  [{'name': 'Пользователь ПК'}, {'name': 'Работа...  Астраханская область   \n",
              "4  [{'name': 'MS Dos'}, {'name': 'Диагностика ПК'...  Астраханская область   \n",
              "\n",
              "                                   key_skills_edited  \n",
              "0                                                 []  \n",
              "1                  [Git, SQL, Тестирование, C#, API]  \n",
              "2  [SQL, Linux, Информационная безопасность, Рабо...  \n",
              "3  [Пользователь ПК, Работа в команде, 1С: Предпр...  \n",
              "4  [MS Dos, Диагностика ПК, Компьютер, Работа в у...  "
            ],
            "text/html": [
              "\n",
              "  <div id=\"df-73e1a485-3728-4559-a288-9028f599de97\">\n",
              "    <div class=\"colab-df-container\">\n",
              "      <div>\n",
              "<style scoped>\n",
              "    .dataframe tbody tr th:only-of-type {\n",
              "        vertical-align: middle;\n",
              "    }\n",
              "\n",
              "    .dataframe tbody tr th {\n",
              "        vertical-align: top;\n",
              "    }\n",
              "\n",
              "    .dataframe thead th {\n",
              "        text-align: right;\n",
              "    }\n",
              "</style>\n",
              "<table border=\"1\" class=\"dataframe\">\n",
              "  <thead>\n",
              "    <tr style=\"text-align: right;\">\n",
              "      <th></th>\n",
              "      <th>index</th>\n",
              "      <th>id</th>\n",
              "      <th>name</th>\n",
              "      <th>salary</th>\n",
              "      <th>published_at</th>\n",
              "      <th>employer</th>\n",
              "      <th>experience</th>\n",
              "      <th>key_skills</th>\n",
              "      <th>region</th>\n",
              "      <th>key_skills_edited</th>\n",
              "    </tr>\n",
              "  </thead>\n",
              "  <tbody>\n",
              "    <tr>\n",
              "      <th>0</th>\n",
              "      <td>0</td>\n",
              "      <td>49059633</td>\n",
              "      <td>Младший специалист ручного тестирования</td>\n",
              "      <td>NaN</td>\n",
              "      <td>2022-05-23T09:11:18+0300</td>\n",
              "      <td>Яндекс</td>\n",
              "      <td>Нет опыта</td>\n",
              "      <td>[]</td>\n",
              "      <td>Астраханская область</td>\n",
              "      <td>[]</td>\n",
              "    </tr>\n",
              "    <tr>\n",
              "      <th>1</th>\n",
              "      <td>1</td>\n",
              "      <td>54653519</td>\n",
              "      <td>Тестировщик.Net</td>\n",
              "      <td>33186.0</td>\n",
              "      <td>2022-04-28T17:36:03+0300</td>\n",
              "      <td>МФК Саммит</td>\n",
              "      <td>От 1 года до 3 лет</td>\n",
              "      <td>[{'name': 'Git'}, {'name': 'SQL'}, {'name': 'Т...</td>\n",
              "      <td>Астраханская область</td>\n",
              "      <td>[Git, SQL, Тестирование, C#, API]</td>\n",
              "    </tr>\n",
              "    <tr>\n",
              "      <th>2</th>\n",
              "      <td>2</td>\n",
              "      <td>55116066</td>\n",
              "      <td>Пентестер</td>\n",
              "      <td>NaN</td>\n",
              "      <td>2022-05-20T10:07:33+0300</td>\n",
              "      <td>SearchInform</td>\n",
              "      <td>От 3 до 6 лет</td>\n",
              "      <td>[{'name': 'SQL'}, {'name': 'Linux'}, {'name': ...</td>\n",
              "      <td>Астраханская область</td>\n",
              "      <td>[SQL, Linux, Информационная безопасность, Рабо...</td>\n",
              "    </tr>\n",
              "    <tr>\n",
              "      <th>3</th>\n",
              "      <td>3</td>\n",
              "      <td>54031261</td>\n",
              "      <td>Ведущий Специалист по информационным технологиям</td>\n",
              "      <td>23008.0</td>\n",
              "      <td>2022-05-23T07:46:16+0300</td>\n",
              "      <td>Почта России</td>\n",
              "      <td>Нет опыта</td>\n",
              "      <td>[{'name': 'Пользователь ПК'}, {'name': 'Работа...</td>\n",
              "      <td>Астраханская область</td>\n",
              "      <td>[Пользователь ПК, Работа в команде, 1С: Предпр...</td>\n",
              "    </tr>\n",
              "    <tr>\n",
              "      <th>4</th>\n",
              "      <td>4</td>\n",
              "      <td>55243040</td>\n",
              "      <td>Специалист по защите информации</td>\n",
              "      <td>20000.0</td>\n",
              "      <td>2022-05-06T10:18:54+0300</td>\n",
              "      <td>ГБПОУ АО Астраханский музыкальный колледж имен...</td>\n",
              "      <td>Нет опыта</td>\n",
              "      <td>[{'name': 'MS Dos'}, {'name': 'Диагностика ПК'...</td>\n",
              "      <td>Астраханская область</td>\n",
              "      <td>[MS Dos, Диагностика ПК, Компьютер, Работа в у...</td>\n",
              "    </tr>\n",
              "  </tbody>\n",
              "</table>\n",
              "</div>\n",
              "      <button class=\"colab-df-convert\" onclick=\"convertToInteractive('df-73e1a485-3728-4559-a288-9028f599de97')\"\n",
              "              title=\"Convert this dataframe to an interactive table.\"\n",
              "              style=\"display:none;\">\n",
              "        \n",
              "  <svg xmlns=\"http://www.w3.org/2000/svg\" height=\"24px\"viewBox=\"0 0 24 24\"\n",
              "       width=\"24px\">\n",
              "    <path d=\"M0 0h24v24H0V0z\" fill=\"none\"/>\n",
              "    <path d=\"M18.56 5.44l.94 2.06.94-2.06 2.06-.94-2.06-.94-.94-2.06-.94 2.06-2.06.94zm-11 1L8.5 8.5l.94-2.06 2.06-.94-2.06-.94L8.5 2.5l-.94 2.06-2.06.94zm10 10l.94 2.06.94-2.06 2.06-.94-2.06-.94-.94-2.06-.94 2.06-2.06.94z\"/><path d=\"M17.41 7.96l-1.37-1.37c-.4-.4-.92-.59-1.43-.59-.52 0-1.04.2-1.43.59L10.3 9.45l-7.72 7.72c-.78.78-.78 2.05 0 2.83L4 21.41c.39.39.9.59 1.41.59.51 0 1.02-.2 1.41-.59l7.78-7.78 2.81-2.81c.8-.78.8-2.07 0-2.86zM5.41 20L4 18.59l7.72-7.72 1.47 1.35L5.41 20z\"/>\n",
              "  </svg>\n",
              "      </button>\n",
              "      \n",
              "  <style>\n",
              "    .colab-df-container {\n",
              "      display:flex;\n",
              "      flex-wrap:wrap;\n",
              "      gap: 12px;\n",
              "    }\n",
              "\n",
              "    .colab-df-convert {\n",
              "      background-color: #E8F0FE;\n",
              "      border: none;\n",
              "      border-radius: 50%;\n",
              "      cursor: pointer;\n",
              "      display: none;\n",
              "      fill: #1967D2;\n",
              "      height: 32px;\n",
              "      padding: 0 0 0 0;\n",
              "      width: 32px;\n",
              "    }\n",
              "\n",
              "    .colab-df-convert:hover {\n",
              "      background-color: #E2EBFA;\n",
              "      box-shadow: 0px 1px 2px rgba(60, 64, 67, 0.3), 0px 1px 3px 1px rgba(60, 64, 67, 0.15);\n",
              "      fill: #174EA6;\n",
              "    }\n",
              "\n",
              "    [theme=dark] .colab-df-convert {\n",
              "      background-color: #3B4455;\n",
              "      fill: #D2E3FC;\n",
              "    }\n",
              "\n",
              "    [theme=dark] .colab-df-convert:hover {\n",
              "      background-color: #434B5C;\n",
              "      box-shadow: 0px 1px 3px 1px rgba(0, 0, 0, 0.15);\n",
              "      filter: drop-shadow(0px 1px 2px rgba(0, 0, 0, 0.3));\n",
              "      fill: #FFFFFF;\n",
              "    }\n",
              "  </style>\n",
              "\n",
              "      <script>\n",
              "        const buttonEl =\n",
              "          document.querySelector('#df-73e1a485-3728-4559-a288-9028f599de97 button.colab-df-convert');\n",
              "        buttonEl.style.display =\n",
              "          google.colab.kernel.accessAllowed ? 'block' : 'none';\n",
              "\n",
              "        async function convertToInteractive(key) {\n",
              "          const element = document.querySelector('#df-73e1a485-3728-4559-a288-9028f599de97');\n",
              "          const dataTable =\n",
              "            await google.colab.kernel.invokeFunction('convertToInteractive',\n",
              "                                                     [key], {});\n",
              "          if (!dataTable) return;\n",
              "\n",
              "          const docLinkHtml = 'Like what you see? Visit the ' +\n",
              "            '<a target=\"_blank\" href=https://colab.research.google.com/notebooks/data_table.ipynb>data table notebook</a>'\n",
              "            + ' to learn more about interactive tables.';\n",
              "          element.innerHTML = '';\n",
              "          dataTable['output_type'] = 'display_data';\n",
              "          await google.colab.output.renderOutput(dataTable, element);\n",
              "          const docLink = document.createElement('div');\n",
              "          docLink.innerHTML = docLinkHtml;\n",
              "          element.appendChild(docLink);\n",
              "        }\n",
              "      </script>\n",
              "    </div>\n",
              "  </div>\n",
              "  "
            ]
          },
          "metadata": {},
          "execution_count": 88
        }
      ]
    },
    {
      "cell_type": "code",
      "source": [],
      "metadata": {
        "id": "B70NJWQ39GMk"
      },
      "execution_count": null,
      "outputs": []
    },
    {
      "cell_type": "code",
      "source": [
        "df = df.drop(['index', 'key_skills', 'published_at'], axis=1)"
      ],
      "metadata": {
        "id": "2N6Z3MAK7LxK"
      },
      "execution_count": null,
      "outputs": []
    },
    {
      "cell_type": "code",
      "source": [
        "df.info()"
      ],
      "metadata": {
        "colab": {
          "base_uri": "https://localhost:8080/"
        },
        "id": "y6ohy19l9g17",
        "outputId": "e2dfee6e-8d3f-4e39-9247-dce8efe7ed44"
      },
      "execution_count": null,
      "outputs": [
        {
          "output_type": "stream",
          "name": "stdout",
          "text": [
            "<class 'pandas.core.frame.DataFrame'>\n",
            "Int64Index: 49678 entries, 0 to 49678\n",
            "Data columns (total 7 columns):\n",
            " #   Column             Non-Null Count  Dtype  \n",
            "---  ------             --------------  -----  \n",
            " 0   id                 49678 non-null  int64  \n",
            " 1   name               49678 non-null  object \n",
            " 2   salary             22477 non-null  float64\n",
            " 3   employer           49613 non-null  object \n",
            " 4   experience         49678 non-null  object \n",
            " 5   region             49678 non-null  object \n",
            " 6   key_skills_edited  49678 non-null  object \n",
            "dtypes: float64(1), int64(1), object(5)\n",
            "memory usage: 3.0+ MB\n"
          ]
        }
      ]
    },
    {
      "cell_type": "code",
      "source": [
        "df.to_excel('eda.xlsx')"
      ],
      "metadata": {
        "id": "J7k-pNIT7cwa"
      },
      "execution_count": null,
      "outputs": []
    },
    {
      "cell_type": "code",
      "source": [
        "skill_salary['key_skills_edited'].value_counts().to_excel('skill_salary.xlsx')"
      ],
      "metadata": {
        "id": "hfUWDCSiAs6r"
      },
      "execution_count": null,
      "outputs": []
    },
    {
      "cell_type": "code",
      "source": [
        "skill_salary_new.to_excel('skill_salary_new.xlsx')"
      ],
      "metadata": {
        "id": "V9QwevSInmCz"
      },
      "execution_count": null,
      "outputs": []
    },
    {
      "cell_type": "code",
      "source": [
        "skill_salary_new.reset_index(inplace=True)"
      ],
      "metadata": {
        "id": "GLmcj4JxnxLb"
      },
      "execution_count": null,
      "outputs": []
    },
    {
      "cell_type": "code",
      "source": [
        "skill_salary_new.drop('index', axis=1)"
      ],
      "metadata": {
        "colab": {
          "base_uri": "https://localhost:8080/",
          "height": 363
        },
        "id": "hwExJhOKod40",
        "outputId": "72ae9a4f-be00-402d-98cc-88ea95eb1817"
      },
      "execution_count": null,
      "outputs": [
        {
          "output_type": "execute_result",
          "data": {
            "text/plain": [
              "      key_skills_edited         salary\n",
              "0            PostgreSQL  166706.381198\n",
              "1                Python  158718.823737\n",
              "2                   Git  153280.553104\n",
              "3            JavaScript  133510.815201\n",
              "4       Английский язык  130258.275727\n",
              "5                   SQL  128469.433709\n",
              "6                 Linux  119929.442438\n",
              "7  Управление проектами  119305.071366\n",
              "8   1С программирование  107584.678893\n",
              "9      Работа в команде   73895.721159"
            ],
            "text/html": [
              "\n",
              "  <div id=\"df-a6b1c23c-da63-4d77-b952-b0248ab6e6db\">\n",
              "    <div class=\"colab-df-container\">\n",
              "      <div>\n",
              "<style scoped>\n",
              "    .dataframe tbody tr th:only-of-type {\n",
              "        vertical-align: middle;\n",
              "    }\n",
              "\n",
              "    .dataframe tbody tr th {\n",
              "        vertical-align: top;\n",
              "    }\n",
              "\n",
              "    .dataframe thead th {\n",
              "        text-align: right;\n",
              "    }\n",
              "</style>\n",
              "<table border=\"1\" class=\"dataframe\">\n",
              "  <thead>\n",
              "    <tr style=\"text-align: right;\">\n",
              "      <th></th>\n",
              "      <th>key_skills_edited</th>\n",
              "      <th>salary</th>\n",
              "    </tr>\n",
              "  </thead>\n",
              "  <tbody>\n",
              "    <tr>\n",
              "      <th>0</th>\n",
              "      <td>PostgreSQL</td>\n",
              "      <td>166706.381198</td>\n",
              "    </tr>\n",
              "    <tr>\n",
              "      <th>1</th>\n",
              "      <td>Python</td>\n",
              "      <td>158718.823737</td>\n",
              "    </tr>\n",
              "    <tr>\n",
              "      <th>2</th>\n",
              "      <td>Git</td>\n",
              "      <td>153280.553104</td>\n",
              "    </tr>\n",
              "    <tr>\n",
              "      <th>3</th>\n",
              "      <td>JavaScript</td>\n",
              "      <td>133510.815201</td>\n",
              "    </tr>\n",
              "    <tr>\n",
              "      <th>4</th>\n",
              "      <td>Английский язык</td>\n",
              "      <td>130258.275727</td>\n",
              "    </tr>\n",
              "    <tr>\n",
              "      <th>5</th>\n",
              "      <td>SQL</td>\n",
              "      <td>128469.433709</td>\n",
              "    </tr>\n",
              "    <tr>\n",
              "      <th>6</th>\n",
              "      <td>Linux</td>\n",
              "      <td>119929.442438</td>\n",
              "    </tr>\n",
              "    <tr>\n",
              "      <th>7</th>\n",
              "      <td>Управление проектами</td>\n",
              "      <td>119305.071366</td>\n",
              "    </tr>\n",
              "    <tr>\n",
              "      <th>8</th>\n",
              "      <td>1С программирование</td>\n",
              "      <td>107584.678893</td>\n",
              "    </tr>\n",
              "    <tr>\n",
              "      <th>9</th>\n",
              "      <td>Работа в команде</td>\n",
              "      <td>73895.721159</td>\n",
              "    </tr>\n",
              "  </tbody>\n",
              "</table>\n",
              "</div>\n",
              "      <button class=\"colab-df-convert\" onclick=\"convertToInteractive('df-a6b1c23c-da63-4d77-b952-b0248ab6e6db')\"\n",
              "              title=\"Convert this dataframe to an interactive table.\"\n",
              "              style=\"display:none;\">\n",
              "        \n",
              "  <svg xmlns=\"http://www.w3.org/2000/svg\" height=\"24px\"viewBox=\"0 0 24 24\"\n",
              "       width=\"24px\">\n",
              "    <path d=\"M0 0h24v24H0V0z\" fill=\"none\"/>\n",
              "    <path d=\"M18.56 5.44l.94 2.06.94-2.06 2.06-.94-2.06-.94-.94-2.06-.94 2.06-2.06.94zm-11 1L8.5 8.5l.94-2.06 2.06-.94-2.06-.94L8.5 2.5l-.94 2.06-2.06.94zm10 10l.94 2.06.94-2.06 2.06-.94-2.06-.94-.94-2.06-.94 2.06-2.06.94z\"/><path d=\"M17.41 7.96l-1.37-1.37c-.4-.4-.92-.59-1.43-.59-.52 0-1.04.2-1.43.59L10.3 9.45l-7.72 7.72c-.78.78-.78 2.05 0 2.83L4 21.41c.39.39.9.59 1.41.59.51 0 1.02-.2 1.41-.59l7.78-7.78 2.81-2.81c.8-.78.8-2.07 0-2.86zM5.41 20L4 18.59l7.72-7.72 1.47 1.35L5.41 20z\"/>\n",
              "  </svg>\n",
              "      </button>\n",
              "      \n",
              "  <style>\n",
              "    .colab-df-container {\n",
              "      display:flex;\n",
              "      flex-wrap:wrap;\n",
              "      gap: 12px;\n",
              "    }\n",
              "\n",
              "    .colab-df-convert {\n",
              "      background-color: #E8F0FE;\n",
              "      border: none;\n",
              "      border-radius: 50%;\n",
              "      cursor: pointer;\n",
              "      display: none;\n",
              "      fill: #1967D2;\n",
              "      height: 32px;\n",
              "      padding: 0 0 0 0;\n",
              "      width: 32px;\n",
              "    }\n",
              "\n",
              "    .colab-df-convert:hover {\n",
              "      background-color: #E2EBFA;\n",
              "      box-shadow: 0px 1px 2px rgba(60, 64, 67, 0.3), 0px 1px 3px 1px rgba(60, 64, 67, 0.15);\n",
              "      fill: #174EA6;\n",
              "    }\n",
              "\n",
              "    [theme=dark] .colab-df-convert {\n",
              "      background-color: #3B4455;\n",
              "      fill: #D2E3FC;\n",
              "    }\n",
              "\n",
              "    [theme=dark] .colab-df-convert:hover {\n",
              "      background-color: #434B5C;\n",
              "      box-shadow: 0px 1px 3px 1px rgba(0, 0, 0, 0.15);\n",
              "      filter: drop-shadow(0px 1px 2px rgba(0, 0, 0, 0.3));\n",
              "      fill: #FFFFFF;\n",
              "    }\n",
              "  </style>\n",
              "\n",
              "      <script>\n",
              "        const buttonEl =\n",
              "          document.querySelector('#df-a6b1c23c-da63-4d77-b952-b0248ab6e6db button.colab-df-convert');\n",
              "        buttonEl.style.display =\n",
              "          google.colab.kernel.accessAllowed ? 'block' : 'none';\n",
              "\n",
              "        async function convertToInteractive(key) {\n",
              "          const element = document.querySelector('#df-a6b1c23c-da63-4d77-b952-b0248ab6e6db');\n",
              "          const dataTable =\n",
              "            await google.colab.kernel.invokeFunction('convertToInteractive',\n",
              "                                                     [key], {});\n",
              "          if (!dataTable) return;\n",
              "\n",
              "          const docLinkHtml = 'Like what you see? Visit the ' +\n",
              "            '<a target=\"_blank\" href=https://colab.research.google.com/notebooks/data_table.ipynb>data table notebook</a>'\n",
              "            + ' to learn more about interactive tables.';\n",
              "          element.innerHTML = '';\n",
              "          dataTable['output_type'] = 'display_data';\n",
              "          await google.colab.output.renderOutput(dataTable, element);\n",
              "          const docLink = document.createElement('div');\n",
              "          docLink.innerHTML = docLinkHtml;\n",
              "          element.appendChild(docLink);\n",
              "        }\n",
              "      </script>\n",
              "    </div>\n",
              "  </div>\n",
              "  "
            ]
          },
          "metadata": {},
          "execution_count": 99
        }
      ]
    },
    {
      "cell_type": "code",
      "source": [],
      "metadata": {
        "id": "nbWryfoB0fyD"
      },
      "execution_count": null,
      "outputs": []
    }
  ]
}